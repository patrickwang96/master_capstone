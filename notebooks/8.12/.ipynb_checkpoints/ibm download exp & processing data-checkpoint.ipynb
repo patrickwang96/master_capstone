{
 "cells": [
  {
   "cell_type": "code",
   "execution_count": 1,
   "id": "c17555b5",
   "metadata": {},
   "outputs": [],
   "source": [
    "import subprocess\n",
    "import re\n",
    "from multiprocessing import Pool\n",
    "from time import sleep"
   ]
  },
  {
   "cell_type": "code",
   "execution_count": 2,
   "id": "a7a131a8",
   "metadata": {},
   "outputs": [],
   "source": [
    "poll_command = ['/usr/local/bin/ibmcloud', 'fn', 'activation', 'poll']"
   ]
  },
  {
   "cell_type": "code",
   "execution_count": 3,
   "id": "fd081cfe",
   "metadata": {},
   "outputs": [],
   "source": [
    "activation_list = ['/usr/local/bin/ibmcloud', 'fn', 'activation', 'list']\n",
    "invoke_activation = ['/usr/local/bin/ibmcloud', 'fn', 'action', 'invoke', 'cache_exp_ibm']\n",
    "get_activation = ['/usr/local/bin/ibmcloud', 'fn', 'activation', 'get']"
   ]
  },
  {
   "cell_type": "code",
   "execution_count": 4,
   "id": "c9822f46",
   "metadata": {},
   "outputs": [],
   "source": [
    "pattern = re.compile('\\s*[a-z0-9]+\\s*blackbox')"
   ]
  },
  {
   "cell_type": "code",
   "execution_count": 5,
   "id": "67248a8c",
   "metadata": {},
   "outputs": [],
   "source": [
    "def find_all_activation_id():\n",
    "    p = subprocess.Popen(activation_list, stdout=subprocess.PIPE)\n",
    "    ret = p.stdout.read()\n",
    "    ret = ret.decode('ascii')\n",
    "    ret_list = pattern.findall(ret)\n",
    "    p.kill()\n",
    "    return set(map(lambda i: i.split(' ')[1], ret_list))"
   ]
  },
  {
   "cell_type": "code",
   "execution_count": 6,
   "id": "a18e6199",
   "metadata": {},
   "outputs": [],
   "source": [
    "# %time find_all_activation_id()"
   ]
  },
  {
   "cell_type": "code",
   "execution_count": 7,
   "id": "e93d5990",
   "metadata": {},
   "outputs": [],
   "source": [
    "def invoke_new_func():\n",
    "    p = subprocess.Popen(invoke_activation, stdout=subprocess.PIPE)\n",
    "    ret = p.stdout.read()\n",
    "    ret = ret.decode('ascii')\n",
    "    p.kill()\n",
    "    return ret.strip().split(' ')[-1]"
   ]
  },
  {
   "cell_type": "code",
   "execution_count": 8,
   "id": "dbb5cd15",
   "metadata": {},
   "outputs": [],
   "source": [
    "# %time invoke_new_func()"
   ]
  },
  {
   "cell_type": "code",
   "execution_count": 9,
   "id": "029e338a",
   "metadata": {},
   "outputs": [],
   "source": [
    "def run(con=1):\n",
    "    p_list = []\n",
    "    for i in range(con):\n",
    "        p_list.append(subprocess.Popen(invoke_activation, stdout=subprocess.PIPE))\n",
    "    ret_list = []\n",
    "    for p in p_list:\n",
    "        ret = p.stdout.read()\n",
    "        ret = ret.decode('ascii')\n",
    "        ret_list.append(ret.strip().split(' ')[-1])\n",
    "        p.kill()\n",
    "    return set(ret_list)"
   ]
  },
  {
   "cell_type": "code",
   "execution_count": 10,
   "id": "d2c0c5c7",
   "metadata": {},
   "outputs": [],
   "source": [
    "def run_block(con=1):\n",
    "    current_ids = run(con)\n",
    "    sleep(215)\n",
    "    while not current_ids.issubset(find_all_activation_id()):\n",
    "        pass\n",
    "    return current_ids"
   ]
  },
  {
   "cell_type": "code",
   "execution_count": 62,
   "id": "8e7637a9",
   "metadata": {},
   "outputs": [
    {
     "name": "stderr",
     "output_type": "stream",
     "text": [
      "fatal: bad g in signal handler\n"
     ]
    },
    {
     "name": "stdout",
     "output_type": "stream",
     "text": [
      "CPU times: user 469 ms, sys: 3.26 s, total: 3.73 s\n",
      "Wall time: 3min 48s\n"
     ]
    },
    {
     "data": {
      "text/plain": [
       "{'2995e066f4cb405295e066f4cbe05278', 'db113371cd004328913371cd00a32830'}"
      ]
     },
     "execution_count": 62,
     "metadata": {},
     "output_type": "execute_result"
    }
   ],
   "source": [
    "%time run_block(2)"
   ]
  },
  {
   "cell_type": "code",
   "execution_count": 11,
   "id": "e43ae59b",
   "metadata": {},
   "outputs": [],
   "source": [
    "def get_exp_result(activation_id, con):\n",
    "    get_acti_with_id = list(get_activation)\n",
    "    get_acti_with_id.append(activation_id)\n",
    "    \n",
    "    p = subprocess.Popen(get_acti_with_id, stdout=subprocess.PIPE)\n",
    "    ret = p.stdout.read()\n",
    "    ret = ret.decode('ascii')\n",
    "    p.kill()\n",
    "    ret = ret[ret.find('\\n')+1:]\n",
    "    with open('./data/activations/{}-{}.json'.format(con,activation_id), 'w') as f:\n",
    "        f.write(ret)\n",
    "    return ret"
   ]
  },
  {
   "cell_type": "code",
   "execution_count": 41,
   "id": "6c0eb361",
   "metadata": {},
   "outputs": [
    {
     "name": "stdout",
     "output_type": "stream",
     "text": [
      "CPU times: user 2.24 ms, sys: 15.5 ms, total: 17.7 ms\n",
      "Wall time: 693 ms\n"
     ]
    }
   ],
   "source": [
    "# %time ret = get_exp_result('1f006abf04124b02806abf04120b02b1', 3)"
   ]
  },
  {
   "cell_type": "code",
   "execution_count": 49,
   "id": "8129a9db",
   "metadata": {},
   "outputs": [
    {
     "data": {
      "text/plain": [
       "{1, 2, 3}"
      ]
     },
     "execution_count": 49,
     "metadata": {},
     "output_type": "execute_result"
    }
   ],
   "source": [
    "a"
   ]
  },
  {
   "cell_type": "code",
   "execution_count": 51,
   "id": "5b9d9d29",
   "metadata": {},
   "outputs": [
    {
     "data": {
      "text/plain": [
       "'{1, 2, 3}'"
      ]
     },
     "execution_count": 51,
     "metadata": {},
     "output_type": "execute_result"
    }
   ],
   "source": [
    "str(a)"
   ]
  },
  {
   "cell_type": "code",
   "execution_count": null,
   "id": "dbb4399f",
   "metadata": {},
   "outputs": [],
   "source": []
  },
  {
   "cell_type": "code",
   "execution_count": null,
   "id": "02658a58",
   "metadata": {},
   "outputs": [],
   "source": []
  },
  {
   "cell_type": "code",
   "execution_count": 13,
   "id": "0772a912",
   "metadata": {},
   "outputs": [
    {
     "name": "stdout",
     "output_type": "stream",
     "text": [
      "CPU times: user 3.23 ms, sys: 18.9 ms, total: 22.1 ms\n",
      "Wall time: 707 ms\n"
     ]
    },
    {
     "data": {
      "text/plain": [
       "{'009b5b95e56c45039b5b95e56ca50381',\n",
       " '0c6116aea3e94407a116aea3e9540739',\n",
       " '1b2f9f5d55f244a3af9f5d55f254a3a6',\n",
       " '267cdc0f42f44e35bcdc0f42f44e353f',\n",
       " '2b75c9f13059438ab5c9f13059638aa4',\n",
       " '31fa79146e6c488aba79146e6c688a88',\n",
       " '34c4dd8bc2a6430784dd8bc2a6d307fa',\n",
       " '3a210b2a35344ab1a10b2a3534fab13b',\n",
       " '3a2caab3d81b48ccacaab3d81b68cc69',\n",
       " '4259ffc3d2c24b0199ffc3d2c2fb0198',\n",
       " '4338ae7896b64f6eb8ae7896b69f6ef7',\n",
       " '49514b71b5a34b36914b71b5a39b368c',\n",
       " '5cb005b27a3d41b9b005b27a3d41b93d',\n",
       " '661cb047687346b89cb0476873c6b84e',\n",
       " '69a701c51bcb486da701c51bcb886d6d',\n",
       " '69ea93260c1d47bfaa93260c1d87bf2b',\n",
       " '6ab47c1ddd54484eb47c1ddd54284e1d',\n",
       " '79cd470effde4f158d470effde2f15f3',\n",
       " '7d0430b9c38c49d08430b9c38cc9d0a0',\n",
       " '7df3810f9cd941e2b3810f9cd951e277',\n",
       " '80a97f18f8f94c2aa97f18f8f9fc2ac2',\n",
       " '916e46b1a16d4467ae46b1a16d04678f',\n",
       " '9ec55fc0801f4da1855fc0801fcda19a',\n",
       " 'b4219c4d36074501a19c4d36071501c7',\n",
       " 'bba9bb21a73f4678a9bb21a73f46784b',\n",
       " 'de4c25e54c6641498c25e54c66a14961',\n",
       " 'e3a6aaa238384205a6aaa23838e205c8',\n",
       " 'f391656670c644dc91656670c6f4dcf5',\n",
       " 'f9515960890c4178915960890c1178b0',\n",
       " 'f9fd5d57a5f64fa0bd5d57a5f68fa012'}"
      ]
     },
     "execution_count": 13,
     "metadata": {},
     "output_type": "execute_result"
    }
   ],
   "source": [
    "%time find_all_activation_id()"
   ]
  },
  {
   "cell_type": "code",
   "execution_count": 41,
   "id": "d86e2bbf",
   "metadata": {},
   "outputs": [],
   "source": [
    "def write_ids(ids, con):\n",
    "    output = str(ids)\n",
    "    with open('./data/{}-id.txt'.format(con), 'w') as f:\n",
    "        f.write(output)"
   ]
  },
  {
   "cell_type": "markdown",
   "id": "b8f57a5c",
   "metadata": {},
   "source": [
    "# actual exp"
   ]
  },
  {
   "cell_type": "code",
   "execution_count": 15,
   "id": "cce635ae",
   "metadata": {},
   "outputs": [],
   "source": [
    "def run_exp(con=30, start=1):\n",
    "    old_activation_ids = find_all_activation_id()\n",
    "    exp_activation_ids = []\n",
    "\n",
    "    for i in range(start, con+1):\n",
    "        print('Invoked for con={}'.format(i))\n",
    "        run_block(i)\n",
    "        current_ids = run_block(i)\n",
    "        exp_activation_ids.append(current_ids)\n",
    "#         print('Invoked for con={}'.format(1))\n",
    "        print('ID:')\n",
    "#         print(current_ids)\n",
    "        write_ids(current_ids, i)\n",
    "        print('Done\\n\\n')\n",
    "    return exp_activation_ids"
   ]
  },
  {
   "cell_type": "code",
   "execution_count": null,
   "id": "f8c4c93a",
   "metadata": {
    "scrolled": false
   },
   "outputs": [
    {
     "name": "stdout",
     "output_type": "stream",
     "text": [
      "Invoked for con=1\n",
      "ID:\n",
      "Done\n",
      "\n",
      "\n",
      "Invoked for con=2\n",
      "ID:\n",
      "Done\n",
      "\n",
      "\n",
      "Invoked for con=3\n",
      "ID:\n",
      "Done\n",
      "\n",
      "\n",
      "Invoked for con=4\n",
      "ID:\n",
      "Done\n",
      "\n",
      "\n",
      "Invoked for con=5\n",
      "ID:\n",
      "Done\n",
      "\n",
      "\n",
      "Invoked for con=6\n",
      "ID:\n",
      "Done\n",
      "\n",
      "\n",
      "Invoked for con=7\n",
      "ID:\n",
      "Done\n",
      "\n",
      "\n",
      "Invoked for con=8\n",
      "ID:\n",
      "Done\n",
      "\n",
      "\n",
      "Invoked for con=9\n",
      "ID:\n",
      "Done\n",
      "\n",
      "\n",
      "Invoked for con=10\n",
      "ID:\n",
      "Done\n",
      "\n",
      "\n",
      "Invoked for con=11\n",
      "ID:\n",
      "Done\n",
      "\n",
      "\n",
      "Invoked for con=12\n",
      "ID:\n",
      "Done\n",
      "\n",
      "\n",
      "Invoked for con=13\n",
      "ID:\n",
      "Done\n",
      "\n",
      "\n",
      "Invoked for con=14\n"
     ]
    }
   ],
   "source": [
    "run_exp()"
   ]
  },
  {
   "cell_type": "code",
   "execution_count": null,
   "id": "2569fc50",
   "metadata": {},
   "outputs": [],
   "source": []
  },
  {
   "cell_type": "code",
   "execution_count": 14,
   "id": "4bab5dee",
   "metadata": {},
   "outputs": [],
   "source": [
    "import json"
   ]
  },
  {
   "cell_type": "code",
   "execution_count": 35,
   "id": "d07552bb",
   "metadata": {},
   "outputs": [],
   "source": [
    "with open ('./data/{}-id.txt'.format(3), 'r') as f:\n",
    "    contains = f.read()"
   ]
  },
  {
   "cell_type": "code",
   "execution_count": 36,
   "id": "be936ff6",
   "metadata": {},
   "outputs": [
    {
     "data": {
      "text/plain": [
       "\"{'0e23fe800c854e00a3fe800c853e0093', 'ceeb1b60fc914481ab1b60fc919481ae', 'a6037d1a55f34db6837d1a55f3adb6ff'}\""
      ]
     },
     "execution_count": 36,
     "metadata": {},
     "output_type": "execute_result"
    }
   ],
   "source": [
    "contains"
   ]
  },
  {
   "cell_type": "code",
   "execution_count": 37,
   "id": "f5702b83",
   "metadata": {},
   "outputs": [],
   "source": [
    "contains = list(map(lambda i: i.strip(\" '\"), contains.strip('{}').split(',')))"
   ]
  },
  {
   "cell_type": "code",
   "execution_count": 46,
   "id": "992eeec0",
   "metadata": {},
   "outputs": [],
   "source": [
    "def get_batch(con):\n",
    "    with open ('./data/{}-id.txt'.format(con), 'r') as f:\n",
    "        contains = f.read()\n",
    "    contains = map(lambda i: i.strip(\" '\"), contains.strip('{}').split(','))\n",
    "    for c in contains:\n",
    "        get_exp_result(c, con)"
   ]
  },
  {
   "cell_type": "code",
   "execution_count": 63,
   "id": "839cbf9e",
   "metadata": {},
   "outputs": [
    {
     "name": "stdout",
     "output_type": "stream",
     "text": [
      "CPU times: user 30.7 ms, sys: 249 ms, total: 280 ms\n",
      "Wall time: 23.8 s\n"
     ]
    }
   ],
   "source": [
    "%time get_batch(30)"
   ]
  },
  {
   "cell_type": "code",
   "execution_count": 54,
   "id": "96234477",
   "metadata": {},
   "outputs": [],
   "source": [
    "for i in range(19, 22):\n",
    "    get_batch(i)"
   ]
  },
  {
   "cell_type": "markdown",
   "id": "6ce7d896",
   "metadata": {},
   "source": [
    "# processing"
   ]
  },
  {
   "cell_type": "code",
   "execution_count": 1,
   "id": "8f5d1286",
   "metadata": {},
   "outputs": [],
   "source": [
    "import os\n",
    "import pandas as pd\n",
    "import numpy as np\n",
    "import json\n",
    "from collections import Counter\n",
    "from matplotlib import pyplot as plt\n",
    "plt.style.use('seaborn-whitegrid')"
   ]
  },
  {
   "cell_type": "code",
   "execution_count": 2,
   "id": "f3556244",
   "metadata": {},
   "outputs": [
    {
     "ename": "FileNotFoundError",
     "evalue": "[Errno 2] No such file or directory: './data/activations/.DS_Store'",
     "output_type": "error",
     "traceback": [
      "\u001b[0;31m---------------------------------------------------------------------------\u001b[0m",
      "\u001b[0;31mFileNotFoundError\u001b[0m                         Traceback (most recent call last)",
      "\u001b[0;32m/var/folders/6y/kqgc9b355tv0r3tqhp12044c0000gn/T/ipykernel_79649/3178449388.py\u001b[0m in \u001b[0;36m<module>\u001b[0;34m\u001b[0m\n\u001b[0;32m----> 1\u001b[0;31m \u001b[0mos\u001b[0m\u001b[0;34m.\u001b[0m\u001b[0mremove\u001b[0m\u001b[0;34m(\u001b[0m\u001b[0;34m'./data/activations/.DS_Store'\u001b[0m\u001b[0;34m)\u001b[0m\u001b[0;34m\u001b[0m\u001b[0;34m\u001b[0m\u001b[0m\n\u001b[0m",
      "\u001b[0;31mFileNotFoundError\u001b[0m: [Errno 2] No such file or directory: './data/activations/.DS_Store'"
     ]
    }
   ],
   "source": [
    "os.remove('./data/activations/.DS_Store')"
   ]
  },
  {
   "cell_type": "code",
   "execution_count": 3,
   "id": "ad7ba26d",
   "metadata": {},
   "outputs": [],
   "source": [
    "files = os.listdir('./data/activations/')"
   ]
  },
  {
   "cell_type": "code",
   "execution_count": 4,
   "id": "697bdb6e",
   "metadata": {},
   "outputs": [],
   "source": [
    "files_con = list(map(lambda i: i.split('-'), files))"
   ]
  },
  {
   "cell_type": "code",
   "execution_count": 5,
   "id": "5d1b9a35",
   "metadata": {},
   "outputs": [],
   "source": [
    "df = pd.DataFrame(files_con)"
   ]
  },
  {
   "cell_type": "code",
   "execution_count": 6,
   "id": "61528cdb",
   "metadata": {},
   "outputs": [],
   "source": [
    "df['file_name'] = files"
   ]
  },
  {
   "cell_type": "code",
   "execution_count": 7,
   "id": "98bba540",
   "metadata": {},
   "outputs": [],
   "source": [
    "df['file_name'] = './data/activations/' + df['file_name'] "
   ]
  },
  {
   "cell_type": "code",
   "execution_count": 12,
   "id": "3c3fccae",
   "metadata": {},
   "outputs": [
    {
     "data": {
      "text/html": [
       "<div>\n",
       "<style scoped>\n",
       "    .dataframe tbody tr th:only-of-type {\n",
       "        vertical-align: middle;\n",
       "    }\n",
       "\n",
       "    .dataframe tbody tr th {\n",
       "        vertical-align: top;\n",
       "    }\n",
       "\n",
       "    .dataframe thead th {\n",
       "        text-align: right;\n",
       "    }\n",
       "</style>\n",
       "<table border=\"1\" class=\"dataframe\">\n",
       "  <thead>\n",
       "    <tr style=\"text-align: right;\">\n",
       "      <th></th>\n",
       "      <th>con</th>\n",
       "      <th>batch</th>\n",
       "      <th>id</th>\n",
       "      <th>file_name</th>\n",
       "    </tr>\n",
       "  </thead>\n",
       "  <tbody>\n",
       "    <tr>\n",
       "      <th>0</th>\n",
       "      <td>30</td>\n",
       "      <td>5</td>\n",
       "      <td>1bc6475ebb214fb286475ebb214fb264.json</td>\n",
       "      <td>./data/activations/30-5-1bc6475ebb214fb286475e...</td>\n",
       "    </tr>\n",
       "    <tr>\n",
       "      <th>1</th>\n",
       "      <td>30</td>\n",
       "      <td>10</td>\n",
       "      <td>00848cbbe92a4573848cbbe92ac573b6.json</td>\n",
       "      <td>./data/activations/30-10-00848cbbe92a4573848cb...</td>\n",
       "    </tr>\n",
       "    <tr>\n",
       "      <th>2</th>\n",
       "      <td>30</td>\n",
       "      <td>7</td>\n",
       "      <td>2189e287acd64b1189e287acd63b11ed.json</td>\n",
       "      <td>./data/activations/30-7-2189e287acd64b1189e287...</td>\n",
       "    </tr>\n",
       "    <tr>\n",
       "      <th>3</th>\n",
       "      <td>30</td>\n",
       "      <td>3</td>\n",
       "      <td>a3ea8ff04bb44c14aa8ff04bb4ec149e.json</td>\n",
       "      <td>./data/activations/30-3-a3ea8ff04bb44c14aa8ff0...</td>\n",
       "    </tr>\n",
       "    <tr>\n",
       "      <th>4</th>\n",
       "      <td>30</td>\n",
       "      <td>3</td>\n",
       "      <td>23676a0468ab4ab3a76a0468ab1ab390.json</td>\n",
       "      <td>./data/activations/30-3-23676a0468ab4ab3a76a04...</td>\n",
       "    </tr>\n",
       "  </tbody>\n",
       "</table>\n",
       "</div>"
      ],
      "text/plain": [
       "  con batch                                     id  \\\n",
       "0  30     5  1bc6475ebb214fb286475ebb214fb264.json   \n",
       "1  30    10  00848cbbe92a4573848cbbe92ac573b6.json   \n",
       "2  30     7  2189e287acd64b1189e287acd63b11ed.json   \n",
       "3  30     3  a3ea8ff04bb44c14aa8ff04bb4ec149e.json   \n",
       "4  30     3  23676a0468ab4ab3a76a0468ab1ab390.json   \n",
       "\n",
       "                                           file_name  \n",
       "0  ./data/activations/30-5-1bc6475ebb214fb286475e...  \n",
       "1  ./data/activations/30-10-00848cbbe92a4573848cb...  \n",
       "2  ./data/activations/30-7-2189e287acd64b1189e287...  \n",
       "3  ./data/activations/30-3-a3ea8ff04bb44c14aa8ff0...  \n",
       "4  ./data/activations/30-3-23676a0468ab4ab3a76a04...  "
      ]
     },
     "execution_count": 12,
     "metadata": {},
     "output_type": "execute_result"
    }
   ],
   "source": [
    "df.head()"
   ]
  },
  {
   "cell_type": "code",
   "execution_count": null,
   "id": "4e2bacf9",
   "metadata": {},
   "outputs": [],
   "source": []
  },
  {
   "cell_type": "code",
   "execution_count": null,
   "id": "bc44ef19",
   "metadata": {},
   "outputs": [],
   "source": []
  },
  {
   "cell_type": "code",
   "execution_count": 10,
   "id": "8dfd565f",
   "metadata": {},
   "outputs": [],
   "source": [
    "df.columns = ['con', 'batch', 'id', 'file_name']"
   ]
  },
  {
   "cell_type": "code",
   "execution_count": 11,
   "id": "b796d30e",
   "metadata": {},
   "outputs": [
    {
     "data": {
      "text/plain": [
       "'1bc6475ebb214fb286475ebb214fb264.json'"
      ]
     },
     "execution_count": 11,
     "metadata": {},
     "output_type": "execute_result"
    }
   ],
   "source": [
    "df.iloc[0][2]"
   ]
  },
  {
   "cell_type": "code",
   "execution_count": 13,
   "id": "dada43e1",
   "metadata": {},
   "outputs": [],
   "source": [
    "def read_file(name):\n",
    "    with open(name, 'r') as f:\n",
    "        r = json.load(f)\n",
    "        return r"
   ]
  },
  {
   "cell_type": "code",
   "execution_count": 14,
   "id": "1fcf4380",
   "metadata": {
    "scrolled": false
   },
   "outputs": [],
   "source": [
    "df['output'] = df['file_name'].apply(read_file)"
   ]
  },
  {
   "cell_type": "code",
   "execution_count": 15,
   "id": "bbda894c",
   "metadata": {},
   "outputs": [],
   "source": [
    "df['con'] = df['con'].astype(int)"
   ]
  },
  {
   "cell_type": "code",
   "execution_count": 17,
   "id": "f83601c1",
   "metadata": {},
   "outputs": [
    {
     "data": {
      "text/html": [
       "<div>\n",
       "<style scoped>\n",
       "    .dataframe tbody tr th:only-of-type {\n",
       "        vertical-align: middle;\n",
       "    }\n",
       "\n",
       "    .dataframe tbody tr th {\n",
       "        vertical-align: top;\n",
       "    }\n",
       "\n",
       "    .dataframe thead th {\n",
       "        text-align: right;\n",
       "    }\n",
       "</style>\n",
       "<table border=\"1\" class=\"dataframe\">\n",
       "  <thead>\n",
       "    <tr style=\"text-align: right;\">\n",
       "      <th></th>\n",
       "      <th>con</th>\n",
       "      <th>batch</th>\n",
       "      <th>id</th>\n",
       "      <th>file_name</th>\n",
       "      <th>output</th>\n",
       "    </tr>\n",
       "  </thead>\n",
       "  <tbody>\n",
       "    <tr>\n",
       "      <th>0</th>\n",
       "      <td>30</td>\n",
       "      <td>5</td>\n",
       "      <td>1bc6475ebb214fb286475ebb214fb264.json</td>\n",
       "      <td>./data/activations/30-5-1bc6475ebb214fb286475e...</td>\n",
       "      <td>{'namespace': '0bf94102-e0e3-478b-ab0c-caa40f3...</td>\n",
       "    </tr>\n",
       "    <tr>\n",
       "      <th>1</th>\n",
       "      <td>30</td>\n",
       "      <td>10</td>\n",
       "      <td>00848cbbe92a4573848cbbe92ac573b6.json</td>\n",
       "      <td>./data/activations/30-10-00848cbbe92a4573848cb...</td>\n",
       "      <td>{'namespace': '0bf94102-e0e3-478b-ab0c-caa40f3...</td>\n",
       "    </tr>\n",
       "    <tr>\n",
       "      <th>2</th>\n",
       "      <td>30</td>\n",
       "      <td>7</td>\n",
       "      <td>2189e287acd64b1189e287acd63b11ed.json</td>\n",
       "      <td>./data/activations/30-7-2189e287acd64b1189e287...</td>\n",
       "      <td>{'namespace': '0bf94102-e0e3-478b-ab0c-caa40f3...</td>\n",
       "    </tr>\n",
       "    <tr>\n",
       "      <th>3</th>\n",
       "      <td>30</td>\n",
       "      <td>3</td>\n",
       "      <td>a3ea8ff04bb44c14aa8ff04bb4ec149e.json</td>\n",
       "      <td>./data/activations/30-3-a3ea8ff04bb44c14aa8ff0...</td>\n",
       "      <td>{'namespace': '0bf94102-e0e3-478b-ab0c-caa40f3...</td>\n",
       "    </tr>\n",
       "    <tr>\n",
       "      <th>4</th>\n",
       "      <td>30</td>\n",
       "      <td>3</td>\n",
       "      <td>23676a0468ab4ab3a76a0468ab1ab390.json</td>\n",
       "      <td>./data/activations/30-3-23676a0468ab4ab3a76a04...</td>\n",
       "      <td>{'namespace': '0bf94102-e0e3-478b-ab0c-caa40f3...</td>\n",
       "    </tr>\n",
       "    <tr>\n",
       "      <th>...</th>\n",
       "      <td>...</td>\n",
       "      <td>...</td>\n",
       "      <td>...</td>\n",
       "      <td>...</td>\n",
       "      <td>...</td>\n",
       "    </tr>\n",
       "    <tr>\n",
       "      <th>295</th>\n",
       "      <td>30</td>\n",
       "      <td>1</td>\n",
       "      <td>75fd69593bd74a03bd69593bd7aa03ef.json</td>\n",
       "      <td>./data/activations/30-1-75fd69593bd74a03bd6959...</td>\n",
       "      <td>{'namespace': '0bf94102-e0e3-478b-ab0c-caa40f3...</td>\n",
       "    </tr>\n",
       "    <tr>\n",
       "      <th>296</th>\n",
       "      <td>30</td>\n",
       "      <td>7</td>\n",
       "      <td>0714943d94264ef294943d94261ef2f3.json</td>\n",
       "      <td>./data/activations/30-7-0714943d94264ef294943d...</td>\n",
       "      <td>{'namespace': '0bf94102-e0e3-478b-ab0c-caa40f3...</td>\n",
       "    </tr>\n",
       "    <tr>\n",
       "      <th>297</th>\n",
       "      <td>30</td>\n",
       "      <td>3</td>\n",
       "      <td>2391ea919626413d91ea919626f13dbf.json</td>\n",
       "      <td>./data/activations/30-3-2391ea919626413d91ea91...</td>\n",
       "      <td>{'namespace': '0bf94102-e0e3-478b-ab0c-caa40f3...</td>\n",
       "    </tr>\n",
       "    <tr>\n",
       "      <th>298</th>\n",
       "      <td>30</td>\n",
       "      <td>8</td>\n",
       "      <td>95c7bd8d46e84a8f87bd8d46e87a8fa1.json</td>\n",
       "      <td>./data/activations/30-8-95c7bd8d46e84a8f87bd8d...</td>\n",
       "      <td>{'namespace': '0bf94102-e0e3-478b-ab0c-caa40f3...</td>\n",
       "    </tr>\n",
       "    <tr>\n",
       "      <th>299</th>\n",
       "      <td>30</td>\n",
       "      <td>4</td>\n",
       "      <td>5a64f4ff52d34d24a4f4ff52d39d2472.json</td>\n",
       "      <td>./data/activations/30-4-5a64f4ff52d34d24a4f4ff...</td>\n",
       "      <td>{'namespace': '0bf94102-e0e3-478b-ab0c-caa40f3...</td>\n",
       "    </tr>\n",
       "  </tbody>\n",
       "</table>\n",
       "<p>300 rows × 5 columns</p>\n",
       "</div>"
      ],
      "text/plain": [
       "     con batch                                     id  \\\n",
       "0     30     5  1bc6475ebb214fb286475ebb214fb264.json   \n",
       "1     30    10  00848cbbe92a4573848cbbe92ac573b6.json   \n",
       "2     30     7  2189e287acd64b1189e287acd63b11ed.json   \n",
       "3     30     3  a3ea8ff04bb44c14aa8ff04bb4ec149e.json   \n",
       "4     30     3  23676a0468ab4ab3a76a0468ab1ab390.json   \n",
       "..   ...   ...                                    ...   \n",
       "295   30     1  75fd69593bd74a03bd69593bd7aa03ef.json   \n",
       "296   30     7  0714943d94264ef294943d94261ef2f3.json   \n",
       "297   30     3  2391ea919626413d91ea919626f13dbf.json   \n",
       "298   30     8  95c7bd8d46e84a8f87bd8d46e87a8fa1.json   \n",
       "299   30     4  5a64f4ff52d34d24a4f4ff52d39d2472.json   \n",
       "\n",
       "                                             file_name  \\\n",
       "0    ./data/activations/30-5-1bc6475ebb214fb286475e...   \n",
       "1    ./data/activations/30-10-00848cbbe92a4573848cb...   \n",
       "2    ./data/activations/30-7-2189e287acd64b1189e287...   \n",
       "3    ./data/activations/30-3-a3ea8ff04bb44c14aa8ff0...   \n",
       "4    ./data/activations/30-3-23676a0468ab4ab3a76a04...   \n",
       "..                                                 ...   \n",
       "295  ./data/activations/30-1-75fd69593bd74a03bd6959...   \n",
       "296  ./data/activations/30-7-0714943d94264ef294943d...   \n",
       "297  ./data/activations/30-3-2391ea919626413d91ea91...   \n",
       "298  ./data/activations/30-8-95c7bd8d46e84a8f87bd8d...   \n",
       "299  ./data/activations/30-4-5a64f4ff52d34d24a4f4ff...   \n",
       "\n",
       "                                                output  \n",
       "0    {'namespace': '0bf94102-e0e3-478b-ab0c-caa40f3...  \n",
       "1    {'namespace': '0bf94102-e0e3-478b-ab0c-caa40f3...  \n",
       "2    {'namespace': '0bf94102-e0e3-478b-ab0c-caa40f3...  \n",
       "3    {'namespace': '0bf94102-e0e3-478b-ab0c-caa40f3...  \n",
       "4    {'namespace': '0bf94102-e0e3-478b-ab0c-caa40f3...  \n",
       "..                                                 ...  \n",
       "295  {'namespace': '0bf94102-e0e3-478b-ab0c-caa40f3...  \n",
       "296  {'namespace': '0bf94102-e0e3-478b-ab0c-caa40f3...  \n",
       "297  {'namespace': '0bf94102-e0e3-478b-ab0c-caa40f3...  \n",
       "298  {'namespace': '0bf94102-e0e3-478b-ab0c-caa40f3...  \n",
       "299  {'namespace': '0bf94102-e0e3-478b-ab0c-caa40f3...  \n",
       "\n",
       "[300 rows x 5 columns]"
      ]
     },
     "execution_count": 17,
     "metadata": {},
     "output_type": "execute_result"
    }
   ],
   "source": [
    "df[df['con']==30]"
   ]
  },
  {
   "cell_type": "code",
   "execution_count": 18,
   "id": "d771178b",
   "metadata": {},
   "outputs": [],
   "source": [
    "df.sort_values('con', inplace=True)"
   ]
  },
  {
   "cell_type": "code",
   "execution_count": 17,
   "id": "f29aebae",
   "metadata": {},
   "outputs": [],
   "source": [
    "df = df[df['con'] < 28]"
   ]
  },
  {
   "cell_type": "code",
   "execution_count": 18,
   "id": "6cc5adac",
   "metadata": {
    "scrolled": false
   },
   "outputs": [],
   "source": [
    "r = df.iloc[0, 3]"
   ]
  },
  {
   "cell_type": "code",
   "execution_count": 19,
   "id": "8a637d35",
   "metadata": {
    "scrolled": false
   },
   "outputs": [
    {
     "data": {
      "text/plain": [
       "226278"
      ]
     },
     "execution_count": 19,
     "metadata": {},
     "output_type": "execute_result"
    }
   ],
   "source": [
    "r['response']['result']['runtime']"
   ]
  },
  {
   "cell_type": "code",
   "execution_count": 19,
   "id": "a51554b4",
   "metadata": {},
   "outputs": [],
   "source": [
    "df['runtime'] = df['output'].apply(lambda i: i['response']['result']['runtime']/60000)\n",
    "df['vmID'] = df['output'].apply(lambda i: i['response']['result']['vmID'])\n",
    "df['uuid'] = df['output'].apply(lambda i: i['response']['result']['uuid'])\n",
    "df['cpuStealDelta'] = df['output'].apply(lambda i: i['response']['result']['cpuStealDelta'])"
   ]
  },
  {
   "cell_type": "code",
   "execution_count": null,
   "id": "9b7335a8",
   "metadata": {},
   "outputs": [],
   "source": []
  },
  {
   "cell_type": "code",
   "execution_count": 20,
   "id": "d31d404b",
   "metadata": {},
   "outputs": [],
   "source": [
    "df['normalized_cpu_steal'] = df['cpuStealDelta'] / df['runtime']"
   ]
  },
  {
   "cell_type": "code",
   "execution_count": 22,
   "id": "ac35569e",
   "metadata": {},
   "outputs": [
    {
     "data": {
      "text/html": [
       "<div>\n",
       "<style scoped>\n",
       "    .dataframe tbody tr th:only-of-type {\n",
       "        vertical-align: middle;\n",
       "    }\n",
       "\n",
       "    .dataframe tbody tr th {\n",
       "        vertical-align: top;\n",
       "    }\n",
       "\n",
       "    .dataframe thead th {\n",
       "        text-align: right;\n",
       "    }\n",
       "</style>\n",
       "<table border=\"1\" class=\"dataframe\">\n",
       "  <thead>\n",
       "    <tr style=\"text-align: right;\">\n",
       "      <th></th>\n",
       "      <th>con</th>\n",
       "      <th>batch</th>\n",
       "      <th>id</th>\n",
       "      <th>file_name</th>\n",
       "      <th>output</th>\n",
       "      <th>runtime</th>\n",
       "      <th>vmID</th>\n",
       "      <th>uuid</th>\n",
       "      <th>cpuStealDelta</th>\n",
       "      <th>normalized_cpu_steal</th>\n",
       "    </tr>\n",
       "  </thead>\n",
       "  <tbody>\n",
       "    <tr>\n",
       "      <th>0</th>\n",
       "      <td>30</td>\n",
       "      <td>5</td>\n",
       "      <td>1bc6475ebb214fb286475ebb214fb264.json</td>\n",
       "      <td>./data/activations/30-5-1bc6475ebb214fb286475e...</td>\n",
       "      <td>{'namespace': '0bf94102-e0e3-478b-ab0c-caa40f3...</td>\n",
       "      <td>3.777283</td>\n",
       "      <td>a0d2da8e-f00f-e2b7-00fb-ce68e660ff84</td>\n",
       "      <td>abd5bfeb-489b-4b06-84b0-aabd90a2a3a4</td>\n",
       "      <td>300.0</td>\n",
       "      <td>79.422160</td>\n",
       "    </tr>\n",
       "    <tr>\n",
       "      <th>203</th>\n",
       "      <td>30</td>\n",
       "      <td>2</td>\n",
       "      <td>21177c22dfea4010977c22dfea70107a.json</td>\n",
       "      <td>./data/activations/30-2-21177c22dfea4010977c22...</td>\n",
       "      <td>{'namespace': '0bf94102-e0e3-478b-ab0c-caa40f3...</td>\n",
       "      <td>3.777500</td>\n",
       "      <td>a0d2da8e-f00f-e2b7-00fb-ce68e660ff84</td>\n",
       "      <td>c8890460-c071-42f5-94cd-20d1df07f7ef</td>\n",
       "      <td>300.0</td>\n",
       "      <td>79.417604</td>\n",
       "    </tr>\n",
       "    <tr>\n",
       "      <th>202</th>\n",
       "      <td>30</td>\n",
       "      <td>1</td>\n",
       "      <td>91de6b937ee7453b9e6b937ee7853b49.json</td>\n",
       "      <td>./data/activations/30-1-91de6b937ee7453b9e6b93...</td>\n",
       "      <td>{'namespace': '0bf94102-e0e3-478b-ab0c-caa40f3...</td>\n",
       "      <td>3.773200</td>\n",
       "      <td>cf0e5c00-871b-6710-ae9e-db62776453ee</td>\n",
       "      <td>8d019d14-6316-40fc-9ce0-89f76ec1c564</td>\n",
       "      <td>250.0</td>\n",
       "      <td>66.256758</td>\n",
       "    </tr>\n",
       "    <tr>\n",
       "      <th>201</th>\n",
       "      <td>30</td>\n",
       "      <td>3</td>\n",
       "      <td>c15abdd6dce341f09abdd6dce321f024.json</td>\n",
       "      <td>./data/activations/30-3-c15abdd6dce341f09abdd6...</td>\n",
       "      <td>{'namespace': '0bf94102-e0e3-478b-ab0c-caa40f3...</td>\n",
       "      <td>3.784933</td>\n",
       "      <td>fe179955-ca23-6b5b-e3ec-7a2f71f08f36</td>\n",
       "      <td>d632e9f9-9d08-454f-a5f2-44e96a6472c1</td>\n",
       "      <td>1230.0</td>\n",
       "      <td>324.972699</td>\n",
       "    </tr>\n",
       "    <tr>\n",
       "      <th>200</th>\n",
       "      <td>30</td>\n",
       "      <td>9</td>\n",
       "      <td>2ab3511790cd46f2b3511790cdd6f222.json</td>\n",
       "      <td>./data/activations/30-9-2ab3511790cd46f2b35117...</td>\n",
       "      <td>{'namespace': '0bf94102-e0e3-478b-ab0c-caa40f3...</td>\n",
       "      <td>3.775367</td>\n",
       "      <td>cf0e5c00-871b-6710-ae9e-db62776453ee</td>\n",
       "      <td>5682a0ab-7d08-44fb-a5be-49cf715ecec0</td>\n",
       "      <td>250.0</td>\n",
       "      <td>66.218734</td>\n",
       "    </tr>\n",
       "  </tbody>\n",
       "</table>\n",
       "</div>"
      ],
      "text/plain": [
       "     con batch                                     id  \\\n",
       "0     30     5  1bc6475ebb214fb286475ebb214fb264.json   \n",
       "203   30     2  21177c22dfea4010977c22dfea70107a.json   \n",
       "202   30     1  91de6b937ee7453b9e6b937ee7853b49.json   \n",
       "201   30     3  c15abdd6dce341f09abdd6dce321f024.json   \n",
       "200   30     9  2ab3511790cd46f2b3511790cdd6f222.json   \n",
       "\n",
       "                                             file_name  \\\n",
       "0    ./data/activations/30-5-1bc6475ebb214fb286475e...   \n",
       "203  ./data/activations/30-2-21177c22dfea4010977c22...   \n",
       "202  ./data/activations/30-1-91de6b937ee7453b9e6b93...   \n",
       "201  ./data/activations/30-3-c15abdd6dce341f09abdd6...   \n",
       "200  ./data/activations/30-9-2ab3511790cd46f2b35117...   \n",
       "\n",
       "                                                output   runtime  \\\n",
       "0    {'namespace': '0bf94102-e0e3-478b-ab0c-caa40f3...  3.777283   \n",
       "203  {'namespace': '0bf94102-e0e3-478b-ab0c-caa40f3...  3.777500   \n",
       "202  {'namespace': '0bf94102-e0e3-478b-ab0c-caa40f3...  3.773200   \n",
       "201  {'namespace': '0bf94102-e0e3-478b-ab0c-caa40f3...  3.784933   \n",
       "200  {'namespace': '0bf94102-e0e3-478b-ab0c-caa40f3...  3.775367   \n",
       "\n",
       "                                     vmID  \\\n",
       "0    a0d2da8e-f00f-e2b7-00fb-ce68e660ff84   \n",
       "203  a0d2da8e-f00f-e2b7-00fb-ce68e660ff84   \n",
       "202  cf0e5c00-871b-6710-ae9e-db62776453ee   \n",
       "201  fe179955-ca23-6b5b-e3ec-7a2f71f08f36   \n",
       "200  cf0e5c00-871b-6710-ae9e-db62776453ee   \n",
       "\n",
       "                                     uuid  cpuStealDelta  normalized_cpu_steal  \n",
       "0    abd5bfeb-489b-4b06-84b0-aabd90a2a3a4          300.0             79.422160  \n",
       "203  c8890460-c071-42f5-94cd-20d1df07f7ef          300.0             79.417604  \n",
       "202  8d019d14-6316-40fc-9ce0-89f76ec1c564          250.0             66.256758  \n",
       "201  d632e9f9-9d08-454f-a5f2-44e96a6472c1         1230.0            324.972699  \n",
       "200  5682a0ab-7d08-44fb-a5be-49cf715ecec0          250.0             66.218734  "
      ]
     },
     "execution_count": 22,
     "metadata": {},
     "output_type": "execute_result"
    }
   ],
   "source": [
    "df.head()"
   ]
  },
  {
   "cell_type": "code",
   "execution_count": null,
   "id": "cec28cd4",
   "metadata": {},
   "outputs": [],
   "source": []
  },
  {
   "cell_type": "code",
   "execution_count": null,
   "id": "b9fdb759",
   "metadata": {},
   "outputs": [],
   "source": []
  },
  {
   "cell_type": "code",
   "execution_count": null,
   "id": "abd0d8ac",
   "metadata": {},
   "outputs": [],
   "source": []
  },
  {
   "cell_type": "code",
   "execution_count": null,
   "id": "73f50a3a",
   "metadata": {},
   "outputs": [],
   "source": []
  },
  {
   "cell_type": "code",
   "execution_count": null,
   "id": "c1c75570",
   "metadata": {},
   "outputs": [],
   "source": []
  },
  {
   "cell_type": "code",
   "execution_count": null,
   "id": "4dc74b94",
   "metadata": {},
   "outputs": [],
   "source": []
  },
  {
   "cell_type": "code",
   "execution_count": null,
   "id": "6a7c30a9",
   "metadata": {},
   "outputs": [],
   "source": []
  },
  {
   "cell_type": "code",
   "execution_count": null,
   "id": "9b98ba78",
   "metadata": {},
   "outputs": [],
   "source": []
  },
  {
   "cell_type": "code",
   "execution_count": null,
   "id": "8f1c8552",
   "metadata": {},
   "outputs": [],
   "source": []
  },
  {
   "cell_type": "code",
   "execution_count": null,
   "id": "faa668d4",
   "metadata": {},
   "outputs": [],
   "source": []
  },
  {
   "cell_type": "code",
   "execution_count": null,
   "id": "7010b0ba",
   "metadata": {},
   "outputs": [],
   "source": []
  },
  {
   "cell_type": "code",
   "execution_count": null,
   "id": "84aa8e57",
   "metadata": {},
   "outputs": [],
   "source": []
  },
  {
   "cell_type": "code",
   "execution_count": null,
   "id": "4b30066b",
   "metadata": {},
   "outputs": [],
   "source": []
  },
  {
   "cell_type": "code",
   "execution_count": null,
   "id": "ec4d3556",
   "metadata": {},
   "outputs": [],
   "source": []
  },
  {
   "cell_type": "code",
   "execution_count": null,
   "id": "c2218392",
   "metadata": {},
   "outputs": [],
   "source": []
  },
  {
   "cell_type": "code",
   "execution_count": null,
   "id": "c9a5d540",
   "metadata": {},
   "outputs": [],
   "source": []
  },
  {
   "cell_type": "code",
   "execution_count": null,
   "id": "af9f558f",
   "metadata": {},
   "outputs": [],
   "source": []
  },
  {
   "cell_type": "code",
   "execution_count": null,
   "id": "595a6add",
   "metadata": {},
   "outputs": [],
   "source": []
  },
  {
   "cell_type": "code",
   "execution_count": null,
   "id": "f125e2a1",
   "metadata": {},
   "outputs": [],
   "source": []
  },
  {
   "cell_type": "code",
   "execution_count": null,
   "id": "b4a26d7a",
   "metadata": {},
   "outputs": [],
   "source": []
  },
  {
   "cell_type": "code",
   "execution_count": null,
   "id": "3af92c46",
   "metadata": {},
   "outputs": [],
   "source": []
  },
  {
   "cell_type": "code",
   "execution_count": null,
   "id": "4d4d4c4d",
   "metadata": {},
   "outputs": [],
   "source": []
  },
  {
   "cell_type": "code",
   "execution_count": null,
   "id": "eb063a17",
   "metadata": {},
   "outputs": [],
   "source": []
  },
  {
   "cell_type": "code",
   "execution_count": null,
   "id": "1b08f0e9",
   "metadata": {},
   "outputs": [],
   "source": []
  },
  {
   "cell_type": "code",
   "execution_count": null,
   "id": "4ac0983d",
   "metadata": {},
   "outputs": [],
   "source": []
  },
  {
   "cell_type": "code",
   "execution_count": null,
   "id": "a02bc5a6",
   "metadata": {},
   "outputs": [],
   "source": []
  },
  {
   "cell_type": "code",
   "execution_count": null,
   "id": "c0622246",
   "metadata": {},
   "outputs": [],
   "source": []
  },
  {
   "cell_type": "code",
   "execution_count": 23,
   "id": "15f8b544",
   "metadata": {},
   "outputs": [
    {
     "data": {
      "text/plain": [
       "279    ad252dcb-23fc-700e-c2d6-c8ba429ba03f\n",
       "102    fe179955-ca23-6b5b-e3ec-7a2f71f08f36\n",
       "317    ad252dcb-23fc-700e-c2d6-c8ba429ba03f\n",
       "65     ad252dcb-23fc-700e-c2d6-c8ba429ba03f\n",
       "260    ad252dcb-23fc-700e-c2d6-c8ba429ba03f\n",
       "                       ...                 \n",
       "344    9ff64733-14fd-8d20-9a1b-fc66be30fad2\n",
       "171    134b7e5a-751b-2daf-cb0b-0180ff2b998e\n",
       "2      ad252dcb-23fc-700e-c2d6-c8ba429ba03f\n",
       "266    0631d9d0-10dc-ac49-7da5-e7416074c9cc\n",
       "33     ad252dcb-23fc-700e-c2d6-c8ba429ba03f\n",
       "Name: vmID, Length: 378, dtype: object"
      ]
     },
     "execution_count": 23,
     "metadata": {},
     "output_type": "execute_result"
    }
   ],
   "source": [
    "df['vmID']"
   ]
  },
  {
   "cell_type": "code",
   "execution_count": 24,
   "id": "5f548d69",
   "metadata": {},
   "outputs": [
    {
     "data": {
      "text/plain": [
       "9"
      ]
     },
     "execution_count": 24,
     "metadata": {},
     "output_type": "execute_result"
    }
   ],
   "source": [
    "vm_dict = dict()\n",
    "vm_counter = 1\n",
    "for vm in df['vmID']:\n",
    "    if vm not in vm_dict:\n",
    "        vm_dict[vm] = vm_counter\n",
    "        vm_counter += 1\n",
    "len(vm_dict)"
   ]
  },
  {
   "cell_type": "code",
   "execution_count": 25,
   "id": "bf3dc851",
   "metadata": {},
   "outputs": [
    {
     "name": "stderr",
     "output_type": "stream",
     "text": [
      "/var/folders/6y/kqgc9b355tv0r3tqhp12044c0000gn/T/ipykernel_25000/3786225279.py:1: SettingWithCopyWarning: \n",
      "A value is trying to be set on a copy of a slice from a DataFrame.\n",
      "Try using .loc[row_indexer,col_indexer] = value instead\n",
      "\n",
      "See the caveats in the documentation: https://pandas.pydata.org/pandas-docs/stable/user_guide/indexing.html#returning-a-view-versus-a-copy\n",
      "  df['vm'] = df['vmID'].apply(lambda i: vm_dict[i])\n"
     ]
    }
   ],
   "source": [
    "df['vm'] = df['vmID'].apply(lambda i: vm_dict[i])"
   ]
  },
  {
   "cell_type": "code",
   "execution_count": 26,
   "id": "c037baec",
   "metadata": {
    "scrolled": false
   },
   "outputs": [],
   "source": [
    "r = dict(Counter(df[df['vm'] == 4]['con']))"
   ]
  },
  {
   "cell_type": "code",
   "execution_count": 27,
   "id": "30ec8cd2",
   "metadata": {},
   "outputs": [
    {
     "data": {
      "text/plain": [
       "{9: 1,\n",
       " 13: 1,\n",
       " 14: 1,\n",
       " 16: 1,\n",
       " 18: 2,\n",
       " 19: 2,\n",
       " 20: 2,\n",
       " 21: 4,\n",
       " 23: 3,\n",
       " 24: 1,\n",
       " 25: 2,\n",
       " 26: 4,\n",
       " 27: 2}"
      ]
     },
     "execution_count": 27,
     "metadata": {},
     "output_type": "execute_result"
    }
   ],
   "source": [
    "r"
   ]
  },
  {
   "cell_type": "code",
   "execution_count": 28,
   "id": "72483047",
   "metadata": {},
   "outputs": [
    {
     "data": {
      "text/plain": [
       "[9, 13, 14, 16, 18, 19, 20, 21, 23, 24, 25, 26, 27]"
      ]
     },
     "execution_count": 28,
     "metadata": {},
     "output_type": "execute_result"
    }
   ],
   "source": [
    "list(r.keys())"
   ]
  },
  {
   "cell_type": "code",
   "execution_count": 29,
   "id": "9d006641",
   "metadata": {},
   "outputs": [
    {
     "data": {
      "text/plain": [
       "[1, 1, 1, 1, 2, 2, 2, 4, 3, 1, 2, 4, 2]"
      ]
     },
     "execution_count": 29,
     "metadata": {},
     "output_type": "execute_result"
    }
   ],
   "source": [
    "\n",
    "list(r.values())"
   ]
  },
  {
   "cell_type": "code",
   "execution_count": 30,
   "id": "b7869118",
   "metadata": {},
   "outputs": [
    {
     "data": {
      "image/png": "[encoded data removed]",
      "text/plain": [
       "<Figure size 1440x720 with 1 Axes>"
      ]
     },
     "metadata": {},
     "output_type": "display_data"
    }
   ],
   "source": [
    "plt.rcParams[\"figure.figsize\"] = (20,10)\n",
    "for i in range(1, 11):\n",
    "    r = dict(Counter(df[df['vm'] == i]['con']))\n",
    "    plt.plot(list(r.keys()), list(r.values()), label='vm {}'.format(i))\n",
    "\n",
    "plt.legend()\n",
    "plt.show()"
   ]
  },
  {
   "cell_type": "code",
   "execution_count": 31,
   "id": "b32246be",
   "metadata": {},
   "outputs": [],
   "source": [
    "df_con = list(df.groupby('con'))"
   ]
  },
  {
   "cell_type": "code",
   "execution_count": 32,
   "id": "cc42933b",
   "metadata": {},
   "outputs": [
    {
     "data": {
      "text/html": [
       "<div>\n",
       "<style scoped>\n",
       "    .dataframe tbody tr th:only-of-type {\n",
       "        vertical-align: middle;\n",
       "    }\n",
       "\n",
       "    .dataframe tbody tr th {\n",
       "        vertical-align: top;\n",
       "    }\n",
       "\n",
       "    .dataframe thead th {\n",
       "        text-align: right;\n",
       "    }\n",
       "</style>\n",
       "<table border=\"1\" class=\"dataframe\">\n",
       "  <thead>\n",
       "    <tr style=\"text-align: right;\">\n",
       "      <th></th>\n",
       "      <th>con</th>\n",
       "      <th>runtime</th>\n",
       "      <th>cpuStealDelta</th>\n",
       "      <th>normalized_cpu_steal</th>\n",
       "    </tr>\n",
       "    <tr>\n",
       "      <th>vm</th>\n",
       "      <th></th>\n",
       "      <th></th>\n",
       "      <th></th>\n",
       "      <th></th>\n",
       "    </tr>\n",
       "  </thead>\n",
       "  <tbody>\n",
       "    <tr>\n",
       "      <th>1</th>\n",
       "      <td>16.0</td>\n",
       "      <td>3.775972</td>\n",
       "      <td>25606.666667</td>\n",
       "      <td>6781.479084</td>\n",
       "    </tr>\n",
       "    <tr>\n",
       "      <th>2</th>\n",
       "      <td>16.0</td>\n",
       "      <td>3.780850</td>\n",
       "      <td>822.500000</td>\n",
       "      <td>217.545352</td>\n",
       "    </tr>\n",
       "    <tr>\n",
       "      <th>3</th>\n",
       "      <td>16.0</td>\n",
       "      <td>3.772150</td>\n",
       "      <td>41190.000000</td>\n",
       "      <td>10919.501984</td>\n",
       "    </tr>\n",
       "    <tr>\n",
       "      <th>4</th>\n",
       "      <td>16.0</td>\n",
       "      <td>3.768083</td>\n",
       "      <td>1540.000000</td>\n",
       "      <td>408.695844</td>\n",
       "    </tr>\n",
       "    <tr>\n",
       "      <th>5</th>\n",
       "      <td>16.0</td>\n",
       "      <td>3.778850</td>\n",
       "      <td>320.000000</td>\n",
       "      <td>84.681936</td>\n",
       "    </tr>\n",
       "    <tr>\n",
       "      <th>6</th>\n",
       "      <td>16.0</td>\n",
       "      <td>3.772992</td>\n",
       "      <td>35425.000000</td>\n",
       "      <td>9389.128292</td>\n",
       "    </tr>\n",
       "  </tbody>\n",
       "</table>\n",
       "</div>"
      ],
      "text/plain": [
       "     con   runtime  cpuStealDelta  normalized_cpu_steal\n",
       "vm                                                     \n",
       "1   16.0  3.775972   25606.666667           6781.479084\n",
       "2   16.0  3.780850     822.500000            217.545352\n",
       "3   16.0  3.772150   41190.000000          10919.501984\n",
       "4   16.0  3.768083    1540.000000            408.695844\n",
       "5   16.0  3.778850     320.000000             84.681936\n",
       "6   16.0  3.772992   35425.000000           9389.128292"
      ]
     },
     "execution_count": 32,
     "metadata": {},
     "output_type": "execute_result"
    }
   ],
   "source": [
    "df_con[15][1].groupby('vm').mean()"
   ]
  },
  {
   "cell_type": "code",
   "execution_count": 33,
   "id": "25746807",
   "metadata": {},
   "outputs": [],
   "source": [
    "count_df_5 = df_con[5][1].groupby('vm').count()"
   ]
  },
  {
   "cell_type": "code",
   "execution_count": 34,
   "id": "b5bef04c",
   "metadata": {},
   "outputs": [],
   "source": [
    "avg_df_5 = df_con[5][1].groupby('vm').mean()"
   ]
  },
  {
   "cell_type": "code",
   "execution_count": 35,
   "id": "ea23c2fb",
   "metadata": {},
   "outputs": [
    {
     "data": {
      "text/html": [
       "<div>\n",
       "<style scoped>\n",
       "    .dataframe tbody tr th:only-of-type {\n",
       "        vertical-align: middle;\n",
       "    }\n",
       "\n",
       "    .dataframe tbody tr th {\n",
       "        vertical-align: top;\n",
       "    }\n",
       "\n",
       "    .dataframe thead th {\n",
       "        text-align: right;\n",
       "    }\n",
       "</style>\n",
       "<table border=\"1\" class=\"dataframe\">\n",
       "  <thead>\n",
       "    <tr style=\"text-align: right;\">\n",
       "      <th></th>\n",
       "      <th>con</th>\n",
       "      <th>runtime</th>\n",
       "      <th>cpuStealDelta</th>\n",
       "      <th>normalized_cpu_steal</th>\n",
       "    </tr>\n",
       "    <tr>\n",
       "      <th>vm</th>\n",
       "      <th></th>\n",
       "      <th></th>\n",
       "      <th></th>\n",
       "      <th></th>\n",
       "    </tr>\n",
       "  </thead>\n",
       "  <tbody>\n",
       "    <tr>\n",
       "      <th>1</th>\n",
       "      <td>6.0</td>\n",
       "      <td>3.772078</td>\n",
       "      <td>21263.333333</td>\n",
       "      <td>5637.010552</td>\n",
       "    </tr>\n",
       "    <tr>\n",
       "      <th>2</th>\n",
       "      <td>6.0</td>\n",
       "      <td>3.775889</td>\n",
       "      <td>16693.333333</td>\n",
       "      <td>4421.030698</td>\n",
       "    </tr>\n",
       "  </tbody>\n",
       "</table>\n",
       "</div>"
      ],
      "text/plain": [
       "    con   runtime  cpuStealDelta  normalized_cpu_steal\n",
       "vm                                                    \n",
       "1   6.0  3.772078   21263.333333           5637.010552\n",
       "2   6.0  3.775889   16693.333333           4421.030698"
      ]
     },
     "execution_count": 35,
     "metadata": {},
     "output_type": "execute_result"
    }
   ],
   "source": [
    "avg_df_5"
   ]
  },
  {
   "cell_type": "code",
   "execution_count": 36,
   "id": "0aa94437",
   "metadata": {},
   "outputs": [],
   "source": [
    "count_df_5['cpuStealAvg'] = avg_df_5['normalized_cpu_steal']"
   ]
  },
  {
   "cell_type": "code",
   "execution_count": 37,
   "id": "9c6e6a8f",
   "metadata": {},
   "outputs": [],
   "source": [
    "count_df_5 = count_df_5[['normalized_cpu_steal', 'cpuStealAvg']]\n",
    "count_df_5.columns = ['count', 'cpuStealAvg']"
   ]
  },
  {
   "cell_type": "code",
   "execution_count": 38,
   "id": "bb168217",
   "metadata": {},
   "outputs": [
    {
     "data": {
      "text/html": [
       "<div>\n",
       "<style scoped>\n",
       "    .dataframe tbody tr th:only-of-type {\n",
       "        vertical-align: middle;\n",
       "    }\n",
       "\n",
       "    .dataframe tbody tr th {\n",
       "        vertical-align: top;\n",
       "    }\n",
       "\n",
       "    .dataframe thead th {\n",
       "        text-align: right;\n",
       "    }\n",
       "</style>\n",
       "<table border=\"1\" class=\"dataframe\">\n",
       "  <thead>\n",
       "    <tr style=\"text-align: right;\">\n",
       "      <th></th>\n",
       "      <th>count</th>\n",
       "      <th>cpuStealAvg</th>\n",
       "    </tr>\n",
       "    <tr>\n",
       "      <th>vm</th>\n",
       "      <th></th>\n",
       "      <th></th>\n",
       "    </tr>\n",
       "  </thead>\n",
       "  <tbody>\n",
       "    <tr>\n",
       "      <th>1</th>\n",
       "      <td>3</td>\n",
       "      <td>5637.010552</td>\n",
       "    </tr>\n",
       "    <tr>\n",
       "      <th>2</th>\n",
       "      <td>3</td>\n",
       "      <td>4421.030698</td>\n",
       "    </tr>\n",
       "  </tbody>\n",
       "</table>\n",
       "</div>"
      ],
      "text/plain": [
       "    count  cpuStealAvg\n",
       "vm                    \n",
       "1       3  5637.010552\n",
       "2       3  4421.030698"
      ]
     },
     "execution_count": 38,
     "metadata": {},
     "output_type": "execute_result"
    }
   ],
   "source": [
    "count_df_5"
   ]
  },
  {
   "cell_type": "code",
   "execution_count": 39,
   "id": "cad37413",
   "metadata": {},
   "outputs": [],
   "source": [
    "count_df_list = []\n",
    "for i, d in df_con:\n",
    "    count_df = d.groupby('vm').count()\n",
    "    avg_df = d.groupby('vm').mean()\n",
    "    count_df['cpuStealAvg'] = avg_df['normalized_cpu_steal']\n",
    "    count_df = count_df[['normalized_cpu_steal', 'cpuStealAvg']]\n",
    "    count_df.columns = ['count', 'cpuStealAvg']\n",
    "    count_df_list.append(count_df)"
   ]
  },
  {
   "cell_type": "code",
   "execution_count": 40,
   "id": "509bfebf",
   "metadata": {},
   "outputs": [
    {
     "data": {
      "text/html": [
       "<div>\n",
       "<style scoped>\n",
       "    .dataframe tbody tr th:only-of-type {\n",
       "        vertical-align: middle;\n",
       "    }\n",
       "\n",
       "    .dataframe tbody tr th {\n",
       "        vertical-align: top;\n",
       "    }\n",
       "\n",
       "    .dataframe thead th {\n",
       "        text-align: right;\n",
       "    }\n",
       "</style>\n",
       "<table border=\"1\" class=\"dataframe\">\n",
       "  <thead>\n",
       "    <tr style=\"text-align: right;\">\n",
       "      <th></th>\n",
       "      <th>count</th>\n",
       "      <th>cpuStealAvg</th>\n",
       "    </tr>\n",
       "    <tr>\n",
       "      <th>vm</th>\n",
       "      <th></th>\n",
       "      <th></th>\n",
       "    </tr>\n",
       "  </thead>\n",
       "  <tbody>\n",
       "    <tr>\n",
       "      <th>1</th>\n",
       "      <td>1</td>\n",
       "      <td>5913.08037</td>\n",
       "    </tr>\n",
       "  </tbody>\n",
       "</table>\n",
       "</div>"
      ],
      "text/plain": [
       "    count  cpuStealAvg\n",
       "vm                    \n",
       "1       1   5913.08037"
      ]
     },
     "execution_count": 40,
     "metadata": {},
     "output_type": "execute_result"
    }
   ],
   "source": [
    "count_df_list[0]"
   ]
  },
  {
   "cell_type": "code",
   "execution_count": 41,
   "id": "fa5655c6",
   "metadata": {},
   "outputs": [
    {
     "data": {
      "text/html": [
       "<div>\n",
       "<style scoped>\n",
       "    .dataframe tbody tr th:only-of-type {\n",
       "        vertical-align: middle;\n",
       "    }\n",
       "\n",
       "    .dataframe tbody tr th {\n",
       "        vertical-align: top;\n",
       "    }\n",
       "\n",
       "    .dataframe thead th {\n",
       "        text-align: right;\n",
       "    }\n",
       "</style>\n",
       "<table border=\"1\" class=\"dataframe\">\n",
       "  <thead>\n",
       "    <tr style=\"text-align: right;\">\n",
       "      <th></th>\n",
       "      <th>count</th>\n",
       "      <th>cpuStealAvg</th>\n",
       "    </tr>\n",
       "    <tr>\n",
       "      <th>vm</th>\n",
       "      <th></th>\n",
       "      <th></th>\n",
       "    </tr>\n",
       "  </thead>\n",
       "  <tbody>\n",
       "    <tr>\n",
       "      <th>1</th>\n",
       "      <td>2</td>\n",
       "      <td>9929.386704</td>\n",
       "    </tr>\n",
       "    <tr>\n",
       "      <th>2</th>\n",
       "      <td>3</td>\n",
       "      <td>4458.839861</td>\n",
       "    </tr>\n",
       "  </tbody>\n",
       "</table>\n",
       "</div>"
      ],
      "text/plain": [
       "    count  cpuStealAvg\n",
       "vm                    \n",
       "1       2  9929.386704\n",
       "2       3  4458.839861"
      ]
     },
     "execution_count": 41,
     "metadata": {},
     "output_type": "execute_result"
    }
   ],
   "source": [
    "count_df_list[4]"
   ]
  },
  {
   "cell_type": "code",
   "execution_count": 42,
   "id": "a9bca7c4",
   "metadata": {},
   "outputs": [],
   "source": [
    "count_df = pd.concat(count_df_list)"
   ]
  },
  {
   "cell_type": "code",
   "execution_count": 43,
   "id": "6dc6eb04",
   "metadata": {},
   "outputs": [],
   "source": [
    "count_df.sort_values('count', inplace=True)"
   ]
  },
  {
   "cell_type": "code",
   "execution_count": 44,
   "id": "4ff15f66",
   "metadata": {},
   "outputs": [
    {
     "data": {
      "text/html": [
       "<div>\n",
       "<style scoped>\n",
       "    .dataframe tbody tr th:only-of-type {\n",
       "        vertical-align: middle;\n",
       "    }\n",
       "\n",
       "    .dataframe tbody tr th {\n",
       "        vertical-align: top;\n",
       "    }\n",
       "\n",
       "    .dataframe thead th {\n",
       "        text-align: right;\n",
       "    }\n",
       "</style>\n",
       "<table border=\"1\" class=\"dataframe\">\n",
       "  <thead>\n",
       "    <tr style=\"text-align: right;\">\n",
       "      <th></th>\n",
       "      <th>cpuStealAvg</th>\n",
       "    </tr>\n",
       "    <tr>\n",
       "      <th>count</th>\n",
       "      <th></th>\n",
       "    </tr>\n",
       "  </thead>\n",
       "  <tbody>\n",
       "    <tr>\n",
       "      <th>1</th>\n",
       "      <td>6465.858644</td>\n",
       "    </tr>\n",
       "    <tr>\n",
       "      <th>2</th>\n",
       "      <td>6852.562883</td>\n",
       "    </tr>\n",
       "    <tr>\n",
       "      <th>3</th>\n",
       "      <td>4569.003770</td>\n",
       "    </tr>\n",
       "    <tr>\n",
       "      <th>4</th>\n",
       "      <td>269.926811</td>\n",
       "    </tr>\n",
       "  </tbody>\n",
       "</table>\n",
       "</div>"
      ],
      "text/plain": [
       "       cpuStealAvg\n",
       "count             \n",
       "1      6465.858644\n",
       "2      6852.562883\n",
       "3      4569.003770\n",
       "4       269.926811"
      ]
     },
     "execution_count": 44,
     "metadata": {},
     "output_type": "execute_result"
    }
   ],
   "source": [
    "count_df.groupby('count').mean()"
   ]
  },
  {
   "cell_type": "code",
   "execution_count": 45,
   "id": "f4fbcc32",
   "metadata": {},
   "outputs": [
    {
     "data": {
      "text/html": [
       "<div>\n",
       "<style scoped>\n",
       "    .dataframe tbody tr th:only-of-type {\n",
       "        vertical-align: middle;\n",
       "    }\n",
       "\n",
       "    .dataframe tbody tr th {\n",
       "        vertical-align: top;\n",
       "    }\n",
       "\n",
       "    .dataframe thead th {\n",
       "        text-align: right;\n",
       "    }\n",
       "</style>\n",
       "<table border=\"1\" class=\"dataframe\">\n",
       "  <thead>\n",
       "    <tr style=\"text-align: right;\">\n",
       "      <th></th>\n",
       "      <th>count</th>\n",
       "      <th>cpuStealAvg</th>\n",
       "    </tr>\n",
       "    <tr>\n",
       "      <th>vm</th>\n",
       "      <th></th>\n",
       "      <th></th>\n",
       "    </tr>\n",
       "  </thead>\n",
       "  <tbody>\n",
       "    <tr>\n",
       "      <th>1</th>\n",
       "      <td>1</td>\n",
       "      <td>5913.080370</td>\n",
       "    </tr>\n",
       "    <tr>\n",
       "      <th>9</th>\n",
       "      <td>1</td>\n",
       "      <td>10004.201588</td>\n",
       "    </tr>\n",
       "    <tr>\n",
       "      <th>9</th>\n",
       "      <td>1</td>\n",
       "      <td>8150.032068</td>\n",
       "    </tr>\n",
       "    <tr>\n",
       "      <th>4</th>\n",
       "      <td>1</td>\n",
       "      <td>413.608424</td>\n",
       "    </tr>\n",
       "    <tr>\n",
       "      <th>9</th>\n",
       "      <td>1</td>\n",
       "      <td>8595.167099</td>\n",
       "    </tr>\n",
       "    <tr>\n",
       "      <th>...</th>\n",
       "      <td>...</td>\n",
       "      <td>...</td>\n",
       "    </tr>\n",
       "    <tr>\n",
       "      <th>5</th>\n",
       "      <td>4</td>\n",
       "      <td>93.402892</td>\n",
       "    </tr>\n",
       "    <tr>\n",
       "      <th>1</th>\n",
       "      <td>4</td>\n",
       "      <td>230.300983</td>\n",
       "    </tr>\n",
       "    <tr>\n",
       "      <th>2</th>\n",
       "      <td>4</td>\n",
       "      <td>281.096350</td>\n",
       "    </tr>\n",
       "    <tr>\n",
       "      <th>3</th>\n",
       "      <td>4</td>\n",
       "      <td>327.965268</td>\n",
       "    </tr>\n",
       "    <tr>\n",
       "      <th>2</th>\n",
       "      <td>4</td>\n",
       "      <td>238.672384</td>\n",
       "    </tr>\n",
       "  </tbody>\n",
       "</table>\n",
       "<p>130 rows × 2 columns</p>\n",
       "</div>"
      ],
      "text/plain": [
       "    count   cpuStealAvg\n",
       "vm                     \n",
       "1       1   5913.080370\n",
       "9       1  10004.201588\n",
       "9       1   8150.032068\n",
       "4       1    413.608424\n",
       "9       1   8595.167099\n",
       "..    ...           ...\n",
       "5       4     93.402892\n",
       "1       4    230.300983\n",
       "2       4    281.096350\n",
       "3       4    327.965268\n",
       "2       4    238.672384\n",
       "\n",
       "[130 rows x 2 columns]"
      ]
     },
     "execution_count": 45,
     "metadata": {},
     "output_type": "execute_result"
    }
   ],
   "source": [
    "count_df"
   ]
  },
  {
   "cell_type": "code",
   "execution_count": 47,
   "id": "15953eb5",
   "metadata": {},
   "outputs": [
    {
     "data": {
      "text/html": [
       "<div>\n",
       "<style scoped>\n",
       "    .dataframe tbody tr th:only-of-type {\n",
       "        vertical-align: middle;\n",
       "    }\n",
       "\n",
       "    .dataframe tbody tr th {\n",
       "        vertical-align: top;\n",
       "    }\n",
       "\n",
       "    .dataframe thead th {\n",
       "        text-align: right;\n",
       "    }\n",
       "</style>\n",
       "<table border=\"1\" class=\"dataframe\">\n",
       "  <thead>\n",
       "    <tr style=\"text-align: right;\">\n",
       "      <th></th>\n",
       "      <th>con</th>\n",
       "      <th>normalized_cpu_steal</th>\n",
       "    </tr>\n",
       "  </thead>\n",
       "  <tbody>\n",
       "    <tr>\n",
       "      <th>279</th>\n",
       "      <td>1</td>\n",
       "      <td>5913.080370</td>\n",
       "    </tr>\n",
       "    <tr>\n",
       "      <th>102</th>\n",
       "      <td>2</td>\n",
       "      <td>6126.696153</td>\n",
       "    </tr>\n",
       "    <tr>\n",
       "      <th>317</th>\n",
       "      <td>2</td>\n",
       "      <td>8674.666843</td>\n",
       "    </tr>\n",
       "    <tr>\n",
       "      <th>65</th>\n",
       "      <td>3</td>\n",
       "      <td>5919.142184</td>\n",
       "    </tr>\n",
       "    <tr>\n",
       "      <th>260</th>\n",
       "      <td>3</td>\n",
       "      <td>5913.080370</td>\n",
       "    </tr>\n",
       "    <tr>\n",
       "      <th>...</th>\n",
       "      <td>...</td>\n",
       "      <td>...</td>\n",
       "    </tr>\n",
       "    <tr>\n",
       "      <th>344</th>\n",
       "      <td>27</td>\n",
       "      <td>9711.528681</td>\n",
       "    </tr>\n",
       "    <tr>\n",
       "      <th>171</th>\n",
       "      <td>27</td>\n",
       "      <td>341.290909</td>\n",
       "    </tr>\n",
       "    <tr>\n",
       "      <th>2</th>\n",
       "      <td>27</td>\n",
       "      <td>272.769404</td>\n",
       "    </tr>\n",
       "    <tr>\n",
       "      <th>266</th>\n",
       "      <td>27</td>\n",
       "      <td>256.645441</td>\n",
       "    </tr>\n",
       "    <tr>\n",
       "      <th>33</th>\n",
       "      <td>27</td>\n",
       "      <td>272.724866</td>\n",
       "    </tr>\n",
       "  </tbody>\n",
       "</table>\n",
       "<p>378 rows × 2 columns</p>\n",
       "</div>"
      ],
      "text/plain": [
       "     con  normalized_cpu_steal\n",
       "279    1           5913.080370\n",
       "102    2           6126.696153\n",
       "317    2           8674.666843\n",
       "65     3           5919.142184\n",
       "260    3           5913.080370\n",
       "..   ...                   ...\n",
       "344   27           9711.528681\n",
       "171   27            341.290909\n",
       "2     27            272.769404\n",
       "266   27            256.645441\n",
       "33    27            272.724866\n",
       "\n",
       "[378 rows x 2 columns]"
      ]
     },
     "execution_count": 47,
     "metadata": {},
     "output_type": "execute_result"
    }
   ],
   "source": [
    "df[['con', 'normalized_cpu_steal']]"
   ]
  },
  {
   "cell_type": "code",
   "execution_count": null,
   "id": "6e27f355",
   "metadata": {},
   "outputs": [],
   "source": []
  },
  {
   "cell_type": "code",
   "execution_count": null,
   "id": "345b48bc",
   "metadata": {},
   "outputs": [],
   "source": []
  }
 ],
 "metadata": {
  "kernelspec": {
   "display_name": "Python 3 (ipykernel)",
   "language": "python",
   "name": "python3"
  },
  "language_info": {
   "codemirror_mode": {
    "name": "ipython",
    "version": 3
   },
   "file_extension": ".py",
   "mimetype": "text/x-python",
   "name": "python",
   "nbconvert_exporter": "python",
   "pygments_lexer": "ipython3",
   "version": "3.9.7"
  }
 },
 "nbformat": 4,
 "nbformat_minor": 5
}
