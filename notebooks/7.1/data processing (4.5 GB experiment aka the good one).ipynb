{
 "cells": [
  {
   "cell_type": "code",
   "execution_count": 1,
   "id": "83314610",
   "metadata": {},
   "outputs": [],
   "source": [
    "import json\n",
    "import numpy as np\n",
    "import pandas as pd\n",
    "from scipy import stats\n",
    "from matplotlib import pyplot as plt\n",
    "import datetime\n",
    "import os\n",
    "from scipy.stats import pearsonr, spearmanr, kendalltau\n",
    "import seaborn as sb\n",
    "plt.style.use('seaborn-whitegrid')"
   ]
  },
  {
   "cell_type": "code",
   "execution_count": 2,
   "id": "1ec95fac",
   "metadata": {},
   "outputs": [],
   "source": [
    "def get_jsons_from_dir(con):\n",
    "#     base_dir = '../SAAF/test/history/cache_bench_test-cb_exp_{}-0MBs-run0-1/'\n",
    "    base_dir = '../6.22/data/cache_bench_test-cb_exp_{}-0MBs-run0-1/'\n",
    "    cur_dir = base_dir.format(con)\n",
    "    file_names = os.listdir(cur_dir)\n",
    "    results = []\n",
    "    for fname in file_names:\n",
    "        with open(cur_dir + fname, 'r') as f:\n",
    "            results.append(json.load(f))\n",
    "    return results"
   ]
  },
  {
   "cell_type": "code",
   "execution_count": 3,
   "id": "c2b35bf5",
   "metadata": {},
   "outputs": [],
   "source": [
    "raw_data = list(map(get_jsons_from_dir, range(1, 31)))"
   ]
  },
  {
   "cell_type": "code",
   "execution_count": 4,
   "id": "02d6a0d8",
   "metadata": {},
   "outputs": [],
   "source": [
    "cpuSteals_avg = []\n",
    "for i in range(30):\n",
    "    tmp = 0\n",
    "    for j in raw_data[i]:\n",
    "        tmp += float(j['cpuSteal'])\n",
    "    tmp = tmp / len(raw_data[i])\n",
    "    cpuSteals_avg.append(tmp)"
   ]
  },
  {
   "cell_type": "code",
   "execution_count": 5,
   "id": "265973f6",
   "metadata": {},
   "outputs": [
    {
     "data": {
      "text/plain": [
       "[1660.0,\n",
       " 1890.0,\n",
       " 2533.3333333333335,\n",
       " 2945.0,\n",
       " 3196.0,\n",
       " 3570.0,\n",
       " 3997.1428571428573,\n",
       " 4331.25,\n",
       " 4785.555555555556,\n",
       " 5527.0,\n",
       " 6370.0,\n",
       " 7061.666666666667,\n",
       " 6900.7692307692305,\n",
       " 7562.857142857143,\n",
       " 8057.333333333333,\n",
       " 7490.0,\n",
       " 8307.64705882353,\n",
       " 7845.555555555556,\n",
       " 8628.947368421053,\n",
       " 8603.0,\n",
       " 8650.0,\n",
       " 8577.727272727272,\n",
       " 7573.913043478261,\n",
       " 8894.583333333334,\n",
       " 9633.6,\n",
       " 9084.23076923077,\n",
       " 10086.296296296296,\n",
       " 11136.42857142857,\n",
       " 11221.724137931034,\n",
       " 10239.333333333334]"
      ]
     },
     "execution_count": 5,
     "metadata": {},
     "output_type": "execute_result"
    }
   ],
   "source": [
    "cpuSteals_avg"
   ]
  },
  {
   "cell_type": "code",
   "execution_count": 6,
   "id": "a052d1cc",
   "metadata": {},
   "outputs": [],
   "source": [
    "x = list(range(1, 31))"
   ]
  },
  {
   "cell_type": "code",
   "execution_count": 7,
   "id": "c90211d6",
   "metadata": {},
   "outputs": [],
   "source": [
    "plt.rcParams[\"figure.figsize\"] = (10,8)"
   ]
  },
  {
   "cell_type": "code",
   "execution_count": null,
   "id": "e1daa707",
   "metadata": {},
   "outputs": [],
   "source": []
  },
  {
   "cell_type": "code",
   "execution_count": 8,
   "id": "3e93064f",
   "metadata": {},
   "outputs": [
    {
     "data": {
      "text/plain": [
       "[<matplotlib.lines.Line2D at 0x7f78900cfd00>]"
      ]
     },
     "execution_count": 8,
     "metadata": {},
     "output_type": "execute_result"
    },
    {
     "data": {
      "image/png": "[encoded data removed]",
      "text/plain": [
       "<Figure size 720x576 with 1 Axes>"
      ]
     },
     "metadata": {},
     "output_type": "display_data"
    }
   ],
   "source": [
    "plt.title('cpu steal(avg)')\n",
    "# y = parse_raw_data(raw_data, lambda i: i[0][0])\n",
    "plt.xlabel('Concurrency')\n",
    "# plt.ylabel('')\n",
    "plt.plot(x, cpuSteals_avg)"
   ]
  },
  {
   "cell_type": "code",
   "execution_count": 9,
   "id": "22805fb0",
   "metadata": {},
   "outputs": [
    {
     "data": {
      "text/plain": [
       "'[2022-06-22 01:20:13.308230] 1073741824      0.84            9080.18         0.99           '"
      ]
     },
     "execution_count": 9,
     "metadata": {},
     "output_type": "execute_result"
    }
   ],
   "source": [
    "raw_data[3][0]['cache_bench_metric'].split('\\\\n')[49]"
   ]
  },
  {
   "cell_type": "code",
   "execution_count": null,
   "id": "b445a1f9",
   "metadata": {},
   "outputs": [],
   "source": []
  },
  {
   "cell_type": "code",
   "execution_count": 22,
   "id": "c084f0a0",
   "metadata": {},
   "outputs": [
    {
     "data": {
      "text/plain": [
       "['[2022-06-22 01:20:13.121194] 1073741824      0.79            9604.11         1.00           ',\n",
       " '[2022-06-22 01:20:18.225741] 1610612736      0.79            9643.09         1.00           ',\n",
       " '[2022-06-22 01:20:23.360394] 2147483648      0.80            9586.51         1.01           ',\n",
       " '[2022-06-22 01:20:28.493516] 3221225472      0.80            9589.48         1.00           ',\n",
       " '[2022-06-22 01:20:33.614676] 4294967296      0.79            9611.77         1.00           ']"
      ]
     },
     "execution_count": 22,
     "metadata": {},
     "output_type": "execute_result"
    }
   ],
   "source": [
    "raw_data[3][2]['cache_bench_metric'].split('\\\\n')[-6:-1]"
   ]
  },
  {
   "cell_type": "code",
   "execution_count": 32,
   "id": "25664558",
   "metadata": {},
   "outputs": [],
   "source": [
    "def get_throughput_avg(data):\n",
    "    rows = data['cache_bench_metric'].split('\\\\n')[-6:-1]\n",
    "    rows = map(lambda i: float(i.split()[-2]), rows)\n",
    "    return sum(rows)/5"
   ]
  },
  {
   "cell_type": "code",
   "execution_count": 33,
   "id": "fdbe7b15",
   "metadata": {},
   "outputs": [
    {
     "data": {
      "text/plain": [
       "9606.992000000002"
      ]
     },
     "execution_count": 33,
     "metadata": {},
     "output_type": "execute_result"
    }
   ],
   "source": [
    "get_throughput_avg(raw_data[3][2])"
   ]
  },
  {
   "cell_type": "code",
   "execution_count": 34,
   "id": "9a8c9437",
   "metadata": {},
   "outputs": [],
   "source": [
    "throughput_avg = []\n",
    "for i in range(30):\n",
    "    tmp = 0\n",
    "    for j in raw_data[i]:\n",
    "        tmp += get_throughput_avg(j)\n",
    "    tmp = tmp / len(raw_data[i])\n",
    "    throughput_avg.append(tmp)"
   ]
  },
  {
   "cell_type": "code",
   "execution_count": 10,
   "id": "000005df",
   "metadata": {},
   "outputs": [],
   "source": [
    "one_gb_throughput_avg = []\n",
    "for i in range(30):\n",
    "    tmp = 0\n",
    "    for j in raw_data[i]:\n",
    "        tmp += float(j['cache_bench_metric'].split('\\\\n')[49].split()[-2])\n",
    "    tmp = tmp / len(raw_data[i])\n",
    "    one_gb_throughput_avg.append(tmp)"
   ]
  },
  {
   "cell_type": "code",
   "execution_count": 44,
   "id": "684afe78",
   "metadata": {},
   "outputs": [
    {
     "data": {
      "text/plain": [
       "[9122.841999999999,\n",
       " 8909.661,\n",
       " 8909.614,\n",
       " 9050.791500000001,\n",
       " 8962.7732,\n",
       " 9031.092333333332,\n",
       " 9066.612857142856,\n",
       " 9016.421999999999,\n",
       " 9019.50488888889,\n",
       " 8984.961800000001,\n",
       " 8987.582363636364,\n",
       " 8976.849166666665,\n",
       " 9043.248000000001,\n",
       " 9032.098000000002,\n",
       " 9044.077733333335,\n",
       " 8999.319375000001,\n",
       " 8991.61388235294,\n",
       " 8971.553666666667,\n",
       " 8966.281473684208,\n",
       " 8853.2277,\n",
       " 8910.869809523807,\n",
       " 8871.07990909091,\n",
       " 8903.830086956523,\n",
       " 8924.294666666667,\n",
       " 8930.247119999998,\n",
       " 8957.45523076923,\n",
       " 8939.204814814815,\n",
       " 8879.714142857143,\n",
       " 8905.502827586206,\n",
       " 8966.259533333334]"
      ]
     },
     "execution_count": 44,
     "metadata": {},
     "output_type": "execute_result"
    }
   ],
   "source": [
    "throughput_avg"
   ]
  },
  {
   "cell_type": "code",
   "execution_count": 40,
   "id": "6a619314",
   "metadata": {},
   "outputs": [
    {
     "data": {
      "text/plain": [
       "1.7163781491191576"
      ]
     },
     "execution_count": 40,
     "metadata": {},
     "output_type": "execute_result"
    }
   ],
   "source": [
    "(1 - throughput_avg[-1] / throughput_avg[0])  * 100"
   ]
  },
  {
   "cell_type": "code",
   "execution_count": 38,
   "id": "1faf7f7f",
   "metadata": {},
   "outputs": [
    {
     "data": {
      "text/plain": [
       "[<matplotlib.lines.Line2D at 0x7f78d154f190>]"
      ]
     },
     "execution_count": 38,
     "metadata": {},
     "output_type": "execute_result"
    },
    {
     "data": {
      "image/png": "[encoded data removed]",
      "text/plain": [
       "<Figure size 720x576 with 1 Axes>"
      ]
     },
     "metadata": {},
     "output_type": "display_data"
    }
   ],
   "source": [
    "plt.title('CacheBench Experiment')\n",
    "# y = parse_raw_data(raw_data, lambda i: i[0][0])\n",
    "plt.xlabel('Concurrency')\n",
    "plt.ylabel('Throughput(MB/s)')\n",
    "plt.plot(x, throughput_avg)"
   ]
  },
  {
   "cell_type": "code",
   "execution_count": 13,
   "id": "d8d665cb",
   "metadata": {},
   "outputs": [
    {
     "data": {
      "text/plain": [
       "[11256.17,\n",
       " 11425.76,\n",
       " 11511.9,\n",
       " 10334.56,\n",
       " 10684.5,\n",
       " 10999.92,\n",
       " 11176.59,\n",
       " 11359.24,\n",
       " 11475.03,\n",
       " 11584.61,\n",
       " 11634.31,\n",
       " 11676.89,\n",
       " 11699.31,\n",
       " 11728.06,\n",
       " 11740.07,\n",
       " 11753.94,\n",
       " 11758.05,\n",
       " 11778.03,\n",
       " 11821.31,\n",
       " 11795.7,\n",
       " 11777.07,\n",
       " 11782.53,\n",
       " 11773.86,\n",
       " 11752.71,\n",
       " 11737.49,\n",
       " 11744.57,\n",
       " 11780.42,\n",
       " 11766.68,\n",
       " 11729.5,\n",
       " 11641.69,\n",
       " 11621.63,\n",
       " 11255.48,\n",
       " 10590.27,\n",
       " 9690.86,\n",
       " 9204.01,\n",
       " 9283.4,\n",
       " 9239.07,\n",
       " 9120.94,\n",
       " 9031.38,\n",
       " 9052.12,\n",
       " 9114.93,\n",
       " 9118.6,\n",
       " 9079.62,\n",
       " 9024.27,\n",
       " 9080.18,\n",
       " 9085.28,\n",
       " 9057.62,\n",
       " 9059.44,\n",
       " 9048.74]"
      ]
     },
     "execution_count": 13,
     "metadata": {},
     "output_type": "execute_result"
    }
   ],
   "source": [
    "list(map(lambda i: float(i.split()[-2]), raw_data[3][0]['cache_bench_metric'].split('\\\\n')[5:-1]))"
   ]
  },
  {
   "cell_type": "code",
   "execution_count": 14,
   "id": "d26707d1",
   "metadata": {},
   "outputs": [],
   "source": [
    "def get_throughput_by_concurrency(con, raw_data):\n",
    "    data = raw_data[con-1]\n",
    "    ret = []\n",
    "    for d in data:\n",
    "        ret.extend(list(map(lambda i: float(i.split()[-2]), raw_data[3][0]['cache_bench_metric'].split('\\\\n')[5:-1])))\n",
    "    return np.array(ret)"
   ]
  },
  {
   "cell_type": "code",
   "execution_count": 15,
   "id": "6ed847d1",
   "metadata": {},
   "outputs": [],
   "source": [
    "def ttest(con1, con2, raw_data):\n",
    "    a = get_throughput_by_concurrency(con1, raw_data)\n",
    "    b = get_throughput_by_concurrency(con2, raw_data)\n",
    "    return stats.ttest_ind(a, b, equal_var=False)"
   ]
  },
  {
   "cell_type": "code",
   "execution_count": 16,
   "id": "24bd0d86",
   "metadata": {},
   "outputs": [],
   "source": [
    "ttest_result = ttest(4, 27, raw_data)"
   ]
  },
  {
   "cell_type": "code",
   "execution_count": 17,
   "id": "16fbf0d3",
   "metadata": {},
   "outputs": [
    {
     "data": {
      "text/plain": [
       "0.9999999999999837"
      ]
     },
     "execution_count": 17,
     "metadata": {},
     "output_type": "execute_result"
    }
   ],
   "source": [
    "ttest_result.pvalue"
   ]
  },
  {
   "cell_type": "code",
   "execution_count": 18,
   "id": "ad81f8bd",
   "metadata": {},
   "outputs": [],
   "source": [
    "for i in range(1, 31):\n",
    "    for j in range(i+1, 31):\n",
    "        ttest_result = ttest(i, j, raw_data)\n",
    "        if ttest_result.pvalue <= 0.9:\n",
    "            print ('{}, {}: pvalue: {}'.format(i, j, ttest_result.pvalue))"
   ]
  },
  {
   "cell_type": "code",
   "execution_count": null,
   "id": "3891cc97",
   "metadata": {},
   "outputs": [],
   "source": []
  },
  {
   "cell_type": "code",
   "execution_count": 54,
   "id": "d7ae0c13",
   "metadata": {},
   "outputs": [],
   "source": [
    "def get_avg_data(func):\n",
    "    throughput_avg = []\n",
    "    for i in range(30):\n",
    "        tmp = 0\n",
    "        for j in raw_data[i]:\n",
    "            tmp += func(j)\n",
    "        tmp = tmp / len(raw_data[i])\n",
    "        throughput_avg.append(tmp)\n",
    "    return throughput_avg\n",
    "\n",
    "def get_data(func):\n",
    "    throughput_avg = []\n",
    "    for i in range(30):\n",
    "#         tmp = 0\n",
    "        for j in raw_data[i]:\n",
    "            throughput_avg.append(func(j))\n",
    "#         tmp = tmp / len(raw_data[i])\n",
    "#         throughput_avg.append(tmp)\n",
    "    return throughput_avg"
   ]
  },
  {
   "cell_type": "code",
   "execution_count": null,
   "id": "3de8c10b",
   "metadata": {},
   "outputs": [],
   "source": []
  },
  {
   "cell_type": "code",
   "execution_count": 46,
   "id": "ca063fe5",
   "metadata": {
    "scrolled": false
   },
   "outputs": [
    {
     "data": {
      "text/plain": [
       "'110.0'"
      ]
     },
     "execution_count": 46,
     "metadata": {},
     "output_type": "execute_result"
    }
   ],
   "source": [
    "raw_data[3][2]['cpuStealDelta']"
   ]
  },
  {
   "cell_type": "code",
   "execution_count": 51,
   "id": "ebbf04e8",
   "metadata": {},
   "outputs": [
    {
     "data": {
      "text/plain": [
       "4.15855"
      ]
     },
     "execution_count": 51,
     "metadata": {},
     "output_type": "execute_result"
    }
   ],
   "source": [
    "int(raw_data[3][2]['runtime']) / 60000"
   ]
  },
  {
   "cell_type": "code",
   "execution_count": 65,
   "id": "1a3bb025",
   "metadata": {
    "scrolled": false
   },
   "outputs": [
    {
     "data": {
      "text/plain": [
       "'1054601'"
      ]
     },
     "execution_count": 65,
     "metadata": {},
     "output_type": "execute_result"
    }
   ],
   "source": [
    "raw_data[3][2]['pageFaultsDelta']"
   ]
  },
  {
   "cell_type": "code",
   "execution_count": null,
   "id": "0c92db1c",
   "metadata": {},
   "outputs": [],
   "source": []
  },
  {
   "cell_type": "code",
   "execution_count": 62,
   "id": "5a1fe2ce",
   "metadata": {},
   "outputs": [],
   "source": [
    "throughput_data = get_data(get_throughput_avg)"
   ]
  },
  {
   "cell_type": "code",
   "execution_count": 59,
   "id": "fbf7f04f",
   "metadata": {},
   "outputs": [],
   "source": [
    "cpuSteal_data = get_data(lambda i: float(i['cpuStealDelta']) / (int(i['runtime']) / 60000))\n",
    "pageFaults_data = get_data(lambda i: float(i['pageFaultsDelta']) / (int(i['runtime']) / 60000))"
   ]
  },
  {
   "cell_type": "code",
   "execution_count": 61,
   "id": "9f677cbe",
   "metadata": {
    "scrolled": false
   },
   "outputs": [
    {
     "data": {
      "text/plain": [
       "[62.57320262486562,\n",
       " 74.38423054312486,\n",
       " 220.59705071334375,\n",
       " 79.4816830848527,\n",
       " 144.22556878958693]"
      ]
     },
     "execution_count": 61,
     "metadata": {},
     "output_type": "execute_result"
    }
   ],
   "source": [
    "cpuSteal_data[:5]"
   ]
  },
  {
   "cell_type": "code",
   "execution_count": null,
   "id": "d32248c3",
   "metadata": {},
   "outputs": [],
   "source": []
  },
  {
   "cell_type": "code",
   "execution_count": null,
   "id": "42d73cd3",
   "metadata": {},
   "outputs": [],
   "source": []
  },
  {
   "cell_type": "code",
   "execution_count": 70,
   "id": "5eb79aeb",
   "metadata": {},
   "outputs": [
    {
     "data": {
      "text/plain": [
       "KendalltauResult(correlation=-0.3909343715239154, pvalue=2.1751058891916898e-36)"
      ]
     },
     "execution_count": 70,
     "metadata": {},
     "output_type": "execute_result"
    }
   ],
   "source": [
    "kendalltau(throughput_data, cpuSteal_data)"
   ]
  },
  {
   "cell_type": "code",
   "execution_count": 86,
   "id": "d274a9d2",
   "metadata": {},
   "outputs": [],
   "source": [
    "metric_list = ['cpuUserDelta', 'cpuKernelDelta', 'cpuIdleDelta', 'cpuIOWaitDelta', 'cpuSoftIrqDelta', 'cpuStealDelta', 'pageFaultsDelta']"
   ]
  },
  {
   "cell_type": "code",
   "execution_count": 87,
   "id": "0200db88",
   "metadata": {},
   "outputs": [],
   "source": [
    "metric_data_list = []\n",
    "for i in metric_list:\n",
    "    metric_data_list.append(get_data(lambda a: float(a[i]) / (int(a['runtime']) / 60000)))"
   ]
  },
  {
   "cell_type": "code",
   "execution_count": 88,
   "id": "9b108fa3",
   "metadata": {},
   "outputs": [
    {
     "data": {
      "text/plain": [
       "7"
      ]
     },
     "execution_count": 88,
     "metadata": {},
     "output_type": "execute_result"
    }
   ],
   "source": [
    "len(metric_data_list)"
   ]
  },
  {
   "cell_type": "code",
   "execution_count": 90,
   "id": "0c872dbc",
   "metadata": {},
   "outputs": [],
   "source": [
    "pearson_co_results = []\n",
    "for i in range(7):\n",
    "    pearson_co_results.append(pearsonr(throughput_data, metric_data_list[i]))"
   ]
  },
  {
   "cell_type": "code",
   "execution_count": 91,
   "id": "77a5454c",
   "metadata": {},
   "outputs": [
    {
     "data": {
      "text/plain": [
       "[(0.2921320606543195, 1.3345533652067472e-10),\n",
       " (-0.07477357197157221, 0.10732760312381337),\n",
       " (0.05511193767349265, 0.23557135653011652),\n",
       " (-0.04725023226302261, 0.3092852609233308),\n",
       " (0.03329539037850007, 0.47384115677498295),\n",
       " (-0.4941655513015718, 5.289895138737907e-30),\n",
       " (0.08759018456769918, 0.0591163039275447)]"
      ]
     },
     "execution_count": 91,
     "metadata": {},
     "output_type": "execute_result"
    }
   ],
   "source": [
    "pearson_co_results"
   ]
  },
  {
   "cell_type": "code",
   "execution_count": 99,
   "id": "60b32e9d",
   "metadata": {},
   "outputs": [],
   "source": [
    "pearson_co, pearson_p_value = list(zip(*pearson_co_results))"
   ]
  },
  {
   "cell_type": "code",
   "execution_count": 100,
   "id": "b0c9fe5a",
   "metadata": {},
   "outputs": [
    {
     "data": {
      "text/plain": [
       "(0.2921320606543195,\n",
       " -0.07477357197157221,\n",
       " 0.05511193767349265,\n",
       " -0.04725023226302261,\n",
       " 0.03329539037850007,\n",
       " -0.4941655513015718,\n",
       " 0.08759018456769918)"
      ]
     },
     "execution_count": 100,
     "metadata": {},
     "output_type": "execute_result"
    }
   ],
   "source": [
    "pearson_co"
   ]
  },
  {
   "cell_type": "code",
   "execution_count": 101,
   "id": "51b94e9f",
   "metadata": {},
   "outputs": [
    {
     "data": {
      "text/plain": [
       "(1.3345533652067472e-10,\n",
       " 0.10732760312381337,\n",
       " 0.23557135653011652,\n",
       " 0.3092852609233308,\n",
       " 0.47384115677498295,\n",
       " 5.289895138737907e-30,\n",
       " 0.0591163039275447)"
      ]
     },
     "execution_count": 101,
     "metadata": {},
     "output_type": "execute_result"
    }
   ],
   "source": [
    "pearson_p_value"
   ]
  },
  {
   "cell_type": "code",
   "execution_count": 110,
   "id": "7ee1ac71",
   "metadata": {},
   "outputs": [],
   "source": [
    "metric_list = ['CPU User', 'CPU Kernel', 'CPU Idle', 'CPU IO Wait', 'CPU SoftIrq', 'CPU Steal', 'Page Faults']"
   ]
  },
  {
   "cell_type": "code",
   "execution_count": 119,
   "id": "b0f545be",
   "metadata": {},
   "outputs": [
    {
     "data": {
      "image/png": "[encoded data removed]",
      "text/plain": [
       "<Figure size 720x288 with 1 Axes>"
      ]
     },
     "metadata": {},
     "output_type": "display_data"
    }
   ],
   "source": [
    "plt.rcParams[\"figure.figsize\"] = (10,4)\n",
    "\n",
    "color_list = ['green' if i < 0.05 else 'blue' for i in pearson_p_value]\n",
    "plt.bar(metric_list,pearson_co , color=color_list)\n",
    "plt.title(\"System metric's pearson correlation with throughput\")\n",
    "for i in range(len(metric_list)):\n",
    "    plt.text(metric_list[i], pearson_co[i], 'p_value: {}'.format(round(pearson_p_value[i], 2)))\n",
    "plt.show()"
   ]
  },
  {
   "cell_type": "code",
   "execution_count": 113,
   "id": "616104a8",
   "metadata": {},
   "outputs": [],
   "source": [
    "output_df = pd.DataFrame({'throughput': throughput_data, 'cpuSteal': metric_data_list[-2], 'pageFaults': metric_data_list[-1], 'cpuUser': metric_data_list[0] })"
   ]
  },
  {
   "cell_type": "code",
   "execution_count": 115,
   "id": "227b7846",
   "metadata": {},
   "outputs": [],
   "source": [
    "output_df.to_csv('/Users/ruochenwang/Downloads/output.csv')"
   ]
  },
  {
   "cell_type": "code",
   "execution_count": null,
   "id": "97f08049",
   "metadata": {},
   "outputs": [],
   "source": []
  }
 ],
 "metadata": {
  "kernelspec": {
   "display_name": "Python 3 (ipykernel)",
   "language": "python",
   "name": "python3"
  },
  "language_info": {
   "codemirror_mode": {
    "name": "ipython",
    "version": 3
   },
   "file_extension": ".py",
   "mimetype": "text/x-python",
   "name": "python",
   "nbconvert_exporter": "python",
   "pygments_lexer": "ipython3",
   "version": "3.9.7"
  }
 },
 "nbformat": 4,
 "nbformat_minor": 5
}
