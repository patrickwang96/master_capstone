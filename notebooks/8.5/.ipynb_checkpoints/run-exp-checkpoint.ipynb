{
 "cells": [
  {
   "cell_type": "code",
   "execution_count": 1,
   "id": "eb241bf5",
   "metadata": {},
   "outputs": [],
   "source": [
    "import subprocess\n",
    "from string import Template\n",
    "import datetime"
   ]
  },
  {
   "cell_type": "code",
   "execution_count": 2,
   "id": "b6828efa",
   "metadata": {},
   "outputs": [],
   "source": [
    "exp_json_tempalte = Template(\"\"\"{\n",
    "    \"callWithCLI\": true,\n",
    "    \"callAsync\": false,\n",
    "    \"memorySettings\": [],\n",
    "    \"payloads\": [{\"start_time\": $timestamp}],\n",
    "\n",
    "    \"runs\": $runs,\n",
    "    \"threads\": $threads,\n",
    "    \"iterations\": 1,\n",
    "    \"sleepTime\": 0,\n",
    "    \"randomSeed\": 42,\n",
    "\n",
    "    \"outputGroups\": [],\n",
    "    \"outputRawOfGroup\": [],\n",
    "    \"showAsList\": [],\n",
    "    \"showAsSum\": [\"newcontainer\"],\n",
    "\n",
    "    \"ignoreFromAll\": [\"zAll\", \"lang\", \"version\", \"linuxVersion\", \"platform\", \"hostname\"],\n",
    "    \"ignoreFromGroups\": [\"1_run_id\", \"2_thread_id\", \"cpuModel\", \"cpuIdle\", \"cpuIowait\", \"cpuIrq\", \"cpuKrn\", \"cpuNice\", \"cpuSoftIrq\", \"cpuUsr\"],\n",
    "    \"ignoreByGroup\": {\n",
    "        \"containerID\": [\"containerID\"],\n",
    "        \"cpuType\": [\"cpuType\"],\n",
    "        \"vmID\": [\"vmID\"]\n",
    "    },\n",
    "    \n",
    "    \"invalidators\": {},\n",
    "    \"removeDuplicateContainers\": false,\n",
    "    \"overlapFilter\": \"functionName\",\n",
    "\n",
    "    \"openCSV\": false,\n",
    "    \"combineSheets\": false,\n",
    "    \"warmupBuffer\": 0\n",
    "} \"\"\")"
   ]
  },
  {
   "cell_type": "code",
   "execution_count": 4,
   "id": "14ff9122",
   "metadata": {},
   "outputs": [],
   "source": [
    "now = datetime.datetime.now().timestamp()\n",
    "with open('exp_{}.json'.format(0), 'w') as f:\n",
    "    output = exp_json_tempalte.substitute(timestamp=int(now+3), runs=1, threads=1)\n",
    "    f.write(output)"
   ]
  },
  {
   "cell_type": "code",
   "execution_count": 5,
   "id": "3f02b37e",
   "metadata": {},
   "outputs": [],
   "source": [
    "cmd = \"python ../SAAF/test/faas_runner.py -f cacheBenchFunc.json -e exp_0.json\""
   ]
  },
  {
   "cell_type": "code",
   "execution_count": 6,
   "id": "633918c0",
   "metadata": {},
   "outputs": [
    {
     "name": "stderr",
     "output_type": "stream",
     "text": [
      "Traceback (most recent call last):\n",
      "  File \"/Users/ruochenwang/Schools/!UW grad school/capstone/notebooks/6.22/../SAAF/test/faas_runner.py\", line 22, in <module>\n",
      "    from report_generator import report\n",
      "ModuleNotFoundError: No module named 'report_generator'\n"
     ]
    },
    {
     "ename": "CalledProcessError",
     "evalue": "Command '['python', '../SAAF/test/faas_runner.py', '-f', 'cacheBenchFunc.json', '-e', 'exp_0.json']' returned non-zero exit status 1.",
     "output_type": "error",
     "traceback": [
      "\u001b[0;31m---------------------------------------------------------------------------\u001b[0m",
      "\u001b[0;31mCalledProcessError\u001b[0m                        Traceback (most recent call last)",
      "\u001b[0;32m/var/folders/6y/kqgc9b355tv0r3tqhp12044c0000gn/T/ipykernel_36565/3491521907.py\u001b[0m in \u001b[0;36m<module>\u001b[0;34m\u001b[0m\n\u001b[0;32m----> 1\u001b[0;31m \u001b[0moutput\u001b[0m \u001b[0;34m=\u001b[0m \u001b[0msubprocess\u001b[0m\u001b[0;34m.\u001b[0m\u001b[0mcheck_output\u001b[0m\u001b[0;34m(\u001b[0m\u001b[0mcmd\u001b[0m\u001b[0;34m.\u001b[0m\u001b[0msplit\u001b[0m\u001b[0;34m(\u001b[0m\u001b[0;34m)\u001b[0m\u001b[0;34m)\u001b[0m\u001b[0;34m.\u001b[0m\u001b[0mdecode\u001b[0m\u001b[0;34m(\u001b[0m\u001b[0;34m'ascii'\u001b[0m\u001b[0;34m)\u001b[0m\u001b[0;34m\u001b[0m\u001b[0;34m\u001b[0m\u001b[0m\n\u001b[0m",
      "\u001b[0;32m~/opt/anaconda3/lib/python3.9/subprocess.py\u001b[0m in \u001b[0;36mcheck_output\u001b[0;34m(timeout, *popenargs, **kwargs)\u001b[0m\n\u001b[1;32m    422\u001b[0m         \u001b[0mkwargs\u001b[0m\u001b[0;34m[\u001b[0m\u001b[0;34m'input'\u001b[0m\u001b[0;34m]\u001b[0m \u001b[0;34m=\u001b[0m \u001b[0mempty\u001b[0m\u001b[0;34m\u001b[0m\u001b[0;34m\u001b[0m\u001b[0m\n\u001b[1;32m    423\u001b[0m \u001b[0;34m\u001b[0m\u001b[0m\n\u001b[0;32m--> 424\u001b[0;31m     return run(*popenargs, stdout=PIPE, timeout=timeout, check=True,\n\u001b[0m\u001b[1;32m    425\u001b[0m                **kwargs).stdout\n\u001b[1;32m    426\u001b[0m \u001b[0;34m\u001b[0m\u001b[0m\n",
      "\u001b[0;32m~/opt/anaconda3/lib/python3.9/subprocess.py\u001b[0m in \u001b[0;36mrun\u001b[0;34m(input, capture_output, timeout, check, *popenargs, **kwargs)\u001b[0m\n\u001b[1;32m    526\u001b[0m         \u001b[0mretcode\u001b[0m \u001b[0;34m=\u001b[0m \u001b[0mprocess\u001b[0m\u001b[0;34m.\u001b[0m\u001b[0mpoll\u001b[0m\u001b[0;34m(\u001b[0m\u001b[0;34m)\u001b[0m\u001b[0;34m\u001b[0m\u001b[0;34m\u001b[0m\u001b[0m\n\u001b[1;32m    527\u001b[0m         \u001b[0;32mif\u001b[0m \u001b[0mcheck\u001b[0m \u001b[0;32mand\u001b[0m \u001b[0mretcode\u001b[0m\u001b[0;34m:\u001b[0m\u001b[0;34m\u001b[0m\u001b[0;34m\u001b[0m\u001b[0m\n\u001b[0;32m--> 528\u001b[0;31m             raise CalledProcessError(retcode, process.args,\n\u001b[0m\u001b[1;32m    529\u001b[0m                                      output=stdout, stderr=stderr)\n\u001b[1;32m    530\u001b[0m     \u001b[0;32mreturn\u001b[0m \u001b[0mCompletedProcess\u001b[0m\u001b[0;34m(\u001b[0m\u001b[0mprocess\u001b[0m\u001b[0;34m.\u001b[0m\u001b[0margs\u001b[0m\u001b[0;34m,\u001b[0m \u001b[0mretcode\u001b[0m\u001b[0;34m,\u001b[0m \u001b[0mstdout\u001b[0m\u001b[0;34m,\u001b[0m \u001b[0mstderr\u001b[0m\u001b[0;34m)\u001b[0m\u001b[0;34m\u001b[0m\u001b[0;34m\u001b[0m\u001b[0m\n",
      "\u001b[0;31mCalledProcessError\u001b[0m: Command '['python', '../SAAF/test/faas_runner.py', '-f', 'cacheBenchFunc.json', '-e', 'exp_0.json']' returned non-zero exit status 1."
     ]
    }
   ],
   "source": [
    "output = subprocess.check_output(cmd.split()).decode('ascii')"
   ]
  },
  {
   "cell_type": "code",
   "execution_count": null,
   "id": "220c43a8",
   "metadata": {},
   "outputs": [],
   "source": []
  }
 ],
 "metadata": {
  "kernelspec": {
   "display_name": "Python 3 (ipykernel)",
   "language": "python",
   "name": "python3"
  },
  "language_info": {
   "codemirror_mode": {
    "name": "ipython",
    "version": 3
   },
   "file_extension": ".py",
   "mimetype": "text/x-python",
   "name": "python",
   "nbconvert_exporter": "python",
   "pygments_lexer": "ipython3",
   "version": "3.9.7"
  }
 },
 "nbformat": 4,
 "nbformat_minor": 5
}
