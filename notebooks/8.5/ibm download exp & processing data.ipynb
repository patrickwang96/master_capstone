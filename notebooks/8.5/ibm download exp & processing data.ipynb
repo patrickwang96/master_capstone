{
 "cells": [
  {
   "cell_type": "code",
   "execution_count": 1,
   "id": "c17555b5",
   "metadata": {},
   "outputs": [],
   "source": [
    "import subprocess\n",
    "import re\n",
    "from multiprocessing import Pool\n",
    "from time import sleep"
   ]
  },
  {
   "cell_type": "code",
   "execution_count": 2,
   "id": "a7a131a8",
   "metadata": {},
   "outputs": [],
   "source": [
    "poll_command = ['/usr/local/bin/ibmcloud', 'fn', 'activation', 'poll']"
   ]
  },
  {
   "cell_type": "code",
   "execution_count": 3,
   "id": "fd081cfe",
   "metadata": {},
   "outputs": [],
   "source": [
    "activation_list = ['/usr/local/bin/ibmcloud', 'fn', 'activation', 'list']\n",
    "invoke_activation = ['/usr/local/bin/ibmcloud', 'fn', 'action', 'invoke', 'cache_exp_ibm']\n",
    "get_activation = ['/usr/local/bin/ibmcloud', 'fn', 'activation', 'get']"
   ]
  },
  {
   "cell_type": "code",
   "execution_count": 4,
   "id": "c9822f46",
   "metadata": {},
   "outputs": [],
   "source": [
    "pattern = re.compile('\\s*[a-z0-9]+\\s*blackbox')"
   ]
  },
  {
   "cell_type": "code",
   "execution_count": 5,
   "id": "67248a8c",
   "metadata": {},
   "outputs": [],
   "source": [
    "def find_all_activation_id():\n",
    "    p = subprocess.Popen(activation_list, stdout=subprocess.PIPE)\n",
    "    ret = p.stdout.read()\n",
    "    ret = ret.decode('ascii')\n",
    "    ret_list = pattern.findall(ret)\n",
    "    p.kill()\n",
    "    return set(map(lambda i: i.split(' ')[1], ret_list))"
   ]
  },
  {
   "cell_type": "code",
   "execution_count": 6,
   "id": "a18e6199",
   "metadata": {},
   "outputs": [],
   "source": [
    "# %time find_all_activation_id()"
   ]
  },
  {
   "cell_type": "code",
   "execution_count": 7,
   "id": "e93d5990",
   "metadata": {},
   "outputs": [],
   "source": [
    "def invoke_new_func():\n",
    "    p = subprocess.Popen(invoke_activation, stdout=subprocess.PIPE)\n",
    "    ret = p.stdout.read()\n",
    "    ret = ret.decode('ascii')\n",
    "    p.kill()\n",
    "    return ret.strip().split(' ')[-1]"
   ]
  },
  {
   "cell_type": "code",
   "execution_count": 8,
   "id": "dbb5cd15",
   "metadata": {},
   "outputs": [],
   "source": [
    "# %time invoke_new_func()"
   ]
  },
  {
   "cell_type": "code",
   "execution_count": 9,
   "id": "029e338a",
   "metadata": {},
   "outputs": [],
   "source": [
    "def run(con=1):\n",
    "    p_list = []\n",
    "    for i in range(con):\n",
    "        p_list.append(subprocess.Popen(invoke_activation, stdout=subprocess.PIPE))\n",
    "    ret_list = []\n",
    "    for p in p_list:\n",
    "        ret = p.stdout.read()\n",
    "        ret = ret.decode('ascii')\n",
    "        ret_list.append(ret.strip().split(' ')[-1])\n",
    "        p.kill()\n",
    "    return set(ret_list)"
   ]
  },
  {
   "cell_type": "code",
   "execution_count": 10,
   "id": "d2c0c5c7",
   "metadata": {},
   "outputs": [],
   "source": [
    "def run_block(con=1):\n",
    "    current_ids = run(con)\n",
    "    sleep(215)\n",
    "    while not current_ids.issubset(find_all_activation_id()):\n",
    "        pass\n",
    "    return current_ids"
   ]
  },
  {
   "cell_type": "code",
   "execution_count": 62,
   "id": "8e7637a9",
   "metadata": {},
   "outputs": [
    {
     "name": "stderr",
     "output_type": "stream",
     "text": [
      "fatal: bad g in signal handler\n"
     ]
    },
    {
     "name": "stdout",
     "output_type": "stream",
     "text": [
      "CPU times: user 469 ms, sys: 3.26 s, total: 3.73 s\n",
      "Wall time: 3min 48s\n"
     ]
    },
    {
     "data": {
      "text/plain": [
       "{'2995e066f4cb405295e066f4cbe05278', 'db113371cd004328913371cd00a32830'}"
      ]
     },
     "execution_count": 62,
     "metadata": {},
     "output_type": "execute_result"
    }
   ],
   "source": [
    "%time run_block(2)"
   ]
  },
  {
   "cell_type": "code",
   "execution_count": 11,
   "id": "e43ae59b",
   "metadata": {},
   "outputs": [],
   "source": [
    "def get_exp_result(activation_id, con):\n",
    "    get_acti_with_id = list(get_activation)\n",
    "    get_acti_with_id.append(activation_id)\n",
    "    \n",
    "    p = subprocess.Popen(get_acti_with_id, stdout=subprocess.PIPE)\n",
    "    ret = p.stdout.read()\n",
    "    ret = ret.decode('ascii')\n",
    "    p.kill()\n",
    "    ret = ret[ret.find('\\n')+1:]\n",
    "    with open('./data/activations/{}-{}.json'.format(con,activation_id), 'w') as f:\n",
    "        f.write(ret)\n",
    "    return ret"
   ]
  },
  {
   "cell_type": "code",
   "execution_count": 41,
   "id": "6c0eb361",
   "metadata": {},
   "outputs": [
    {
     "name": "stdout",
     "output_type": "stream",
     "text": [
      "CPU times: user 2.24 ms, sys: 15.5 ms, total: 17.7 ms\n",
      "Wall time: 693 ms\n"
     ]
    }
   ],
   "source": [
    "# %time ret = get_exp_result('1f006abf04124b02806abf04120b02b1', 3)"
   ]
  },
  {
   "cell_type": "code",
   "execution_count": 49,
   "id": "8129a9db",
   "metadata": {},
   "outputs": [
    {
     "data": {
      "text/plain": [
       "{1, 2, 3}"
      ]
     },
     "execution_count": 49,
     "metadata": {},
     "output_type": "execute_result"
    }
   ],
   "source": [
    "a"
   ]
  },
  {
   "cell_type": "code",
   "execution_count": 51,
   "id": "5b9d9d29",
   "metadata": {},
   "outputs": [
    {
     "data": {
      "text/plain": [
       "'{1, 2, 3}'"
      ]
     },
     "execution_count": 51,
     "metadata": {},
     "output_type": "execute_result"
    }
   ],
   "source": [
    "str(a)"
   ]
  },
  {
   "cell_type": "code",
   "execution_count": null,
   "id": "dbb4399f",
   "metadata": {},
   "outputs": [],
   "source": []
  },
  {
   "cell_type": "code",
   "execution_count": null,
   "id": "02658a58",
   "metadata": {},
   "outputs": [],
   "source": []
  },
  {
   "cell_type": "code",
   "execution_count": 13,
   "id": "0772a912",
   "metadata": {},
   "outputs": [
    {
     "name": "stdout",
     "output_type": "stream",
     "text": [
      "CPU times: user 3.23 ms, sys: 18.9 ms, total: 22.1 ms\n",
      "Wall time: 707 ms\n"
     ]
    },
    {
     "data": {
      "text/plain": [
       "{'009b5b95e56c45039b5b95e56ca50381',\n",
       " '0c6116aea3e94407a116aea3e9540739',\n",
       " '1b2f9f5d55f244a3af9f5d55f254a3a6',\n",
       " '267cdc0f42f44e35bcdc0f42f44e353f',\n",
       " '2b75c9f13059438ab5c9f13059638aa4',\n",
       " '31fa79146e6c488aba79146e6c688a88',\n",
       " '34c4dd8bc2a6430784dd8bc2a6d307fa',\n",
       " '3a210b2a35344ab1a10b2a3534fab13b',\n",
       " '3a2caab3d81b48ccacaab3d81b68cc69',\n",
       " '4259ffc3d2c24b0199ffc3d2c2fb0198',\n",
       " '4338ae7896b64f6eb8ae7896b69f6ef7',\n",
       " '49514b71b5a34b36914b71b5a39b368c',\n",
       " '5cb005b27a3d41b9b005b27a3d41b93d',\n",
       " '661cb047687346b89cb0476873c6b84e',\n",
       " '69a701c51bcb486da701c51bcb886d6d',\n",
       " '69ea93260c1d47bfaa93260c1d87bf2b',\n",
       " '6ab47c1ddd54484eb47c1ddd54284e1d',\n",
       " '79cd470effde4f158d470effde2f15f3',\n",
       " '7d0430b9c38c49d08430b9c38cc9d0a0',\n",
       " '7df3810f9cd941e2b3810f9cd951e277',\n",
       " '80a97f18f8f94c2aa97f18f8f9fc2ac2',\n",
       " '916e46b1a16d4467ae46b1a16d04678f',\n",
       " '9ec55fc0801f4da1855fc0801fcda19a',\n",
       " 'b4219c4d36074501a19c4d36071501c7',\n",
       " 'bba9bb21a73f4678a9bb21a73f46784b',\n",
       " 'de4c25e54c6641498c25e54c66a14961',\n",
       " 'e3a6aaa238384205a6aaa23838e205c8',\n",
       " 'f391656670c644dc91656670c6f4dcf5',\n",
       " 'f9515960890c4178915960890c1178b0',\n",
       " 'f9fd5d57a5f64fa0bd5d57a5f68fa012'}"
      ]
     },
     "execution_count": 13,
     "metadata": {},
     "output_type": "execute_result"
    }
   ],
   "source": [
    "%time find_all_activation_id()"
   ]
  },
  {
   "cell_type": "code",
   "execution_count": 41,
   "id": "d86e2bbf",
   "metadata": {},
   "outputs": [],
   "source": [
    "def write_ids(ids, con):\n",
    "    output = str(ids)\n",
    "    with open('./data/{}-id.txt'.format(con), 'w') as f:\n",
    "        f.write(output)"
   ]
  },
  {
   "cell_type": "markdown",
   "id": "b8f57a5c",
   "metadata": {},
   "source": [
    "# actual exp"
   ]
  },
  {
   "cell_type": "code",
   "execution_count": 15,
   "id": "cce635ae",
   "metadata": {},
   "outputs": [],
   "source": [
    "def run_exp(con=30, start=1):\n",
    "    old_activation_ids = find_all_activation_id()\n",
    "    exp_activation_ids = []\n",
    "\n",
    "    for i in range(start, con+1):\n",
    "        print('Invoked for con={}'.format(i))\n",
    "        run_block(i)\n",
    "        current_ids = run_block(i)\n",
    "        exp_activation_ids.append(current_ids)\n",
    "#         print('Invoked for con={}'.format(1))\n",
    "        print('ID:')\n",
    "#         print(current_ids)\n",
    "        write_ids(current_ids, i)\n",
    "        print('Done\\n\\n')\n",
    "    return exp_activation_ids"
   ]
  },
  {
   "cell_type": "code",
   "execution_count": null,
   "id": "f8c4c93a",
   "metadata": {
    "scrolled": false
   },
   "outputs": [
    {
     "name": "stdout",
     "output_type": "stream",
     "text": [
      "Invoked for con=1\n",
      "ID:\n",
      "Done\n",
      "\n",
      "\n",
      "Invoked for con=2\n",
      "ID:\n",
      "Done\n",
      "\n",
      "\n",
      "Invoked for con=3\n",
      "ID:\n",
      "Done\n",
      "\n",
      "\n",
      "Invoked for con=4\n",
      "ID:\n",
      "Done\n",
      "\n",
      "\n",
      "Invoked for con=5\n",
      "ID:\n",
      "Done\n",
      "\n",
      "\n",
      "Invoked for con=6\n",
      "ID:\n",
      "Done\n",
      "\n",
      "\n",
      "Invoked for con=7\n",
      "ID:\n",
      "Done\n",
      "\n",
      "\n",
      "Invoked for con=8\n",
      "ID:\n",
      "Done\n",
      "\n",
      "\n",
      "Invoked for con=9\n",
      "ID:\n",
      "Done\n",
      "\n",
      "\n",
      "Invoked for con=10\n",
      "ID:\n",
      "Done\n",
      "\n",
      "\n",
      "Invoked for con=11\n",
      "ID:\n",
      "Done\n",
      "\n",
      "\n",
      "Invoked for con=12\n",
      "ID:\n",
      "Done\n",
      "\n",
      "\n",
      "Invoked for con=13\n",
      "ID:\n",
      "Done\n",
      "\n",
      "\n",
      "Invoked for con=14\n"
     ]
    }
   ],
   "source": [
    "run_exp()"
   ]
  },
  {
   "cell_type": "code",
   "execution_count": null,
   "id": "2569fc50",
   "metadata": {},
   "outputs": [],
   "source": []
  },
  {
   "cell_type": "code",
   "execution_count": 14,
   "id": "4bab5dee",
   "metadata": {},
   "outputs": [],
   "source": [
    "import json"
   ]
  },
  {
   "cell_type": "code",
   "execution_count": 35,
   "id": "d07552bb",
   "metadata": {},
   "outputs": [],
   "source": [
    "with open ('./data/{}-id.txt'.format(3), 'r') as f:\n",
    "    contains = f.read()"
   ]
  },
  {
   "cell_type": "code",
   "execution_count": 36,
   "id": "be936ff6",
   "metadata": {},
   "outputs": [
    {
     "data": {
      "text/plain": [
       "\"{'0e23fe800c854e00a3fe800c853e0093', 'ceeb1b60fc914481ab1b60fc919481ae', 'a6037d1a55f34db6837d1a55f3adb6ff'}\""
      ]
     },
     "execution_count": 36,
     "metadata": {},
     "output_type": "execute_result"
    }
   ],
   "source": [
    "contains"
   ]
  },
  {
   "cell_type": "code",
   "execution_count": 37,
   "id": "f5702b83",
   "metadata": {},
   "outputs": [],
   "source": [
    "contains = list(map(lambda i: i.strip(\" '\"), contains.strip('{}').split(',')))"
   ]
  },
  {
   "cell_type": "code",
   "execution_count": 46,
   "id": "992eeec0",
   "metadata": {},
   "outputs": [],
   "source": [
    "def get_batch(con):\n",
    "    with open ('./data/{}-id.txt'.format(con), 'r') as f:\n",
    "        contains = f.read()\n",
    "    contains = map(lambda i: i.strip(\" '\"), contains.strip('{}').split(','))\n",
    "    for c in contains:\n",
    "        get_exp_result(c, con)"
   ]
  },
  {
   "cell_type": "code",
   "execution_count": 63,
   "id": "839cbf9e",
   "metadata": {},
   "outputs": [
    {
     "name": "stdout",
     "output_type": "stream",
     "text": [
      "CPU times: user 30.7 ms, sys: 249 ms, total: 280 ms\n",
      "Wall time: 23.8 s\n"
     ]
    }
   ],
   "source": [
    "%time get_batch(30)"
   ]
  },
  {
   "cell_type": "code",
   "execution_count": 54,
   "id": "96234477",
   "metadata": {},
   "outputs": [],
   "source": [
    "for i in range(19, 22):\n",
    "    get_batch(i)"
   ]
  },
  {
   "cell_type": "markdown",
   "id": "6ce7d896",
   "metadata": {},
   "source": [
    "# processing"
   ]
  },
  {
   "cell_type": "code",
   "execution_count": 1,
   "id": "8f5d1286",
   "metadata": {},
   "outputs": [],
   "source": [
    "import os\n",
    "import pandas as pd\n",
    "import numpy as np\n",
    "import json\n",
    "from collections import Counter\n",
    "from matplotlib import pyplot as plt\n",
    "plt.style.use('seaborn-whitegrid')"
   ]
  },
  {
   "cell_type": "code",
   "execution_count": 2,
   "id": "f3556244",
   "metadata": {},
   "outputs": [
    {
     "ename": "FileNotFoundError",
     "evalue": "[Errno 2] No such file or directory: './data/activations/.DS_Store'",
     "output_type": "error",
     "traceback": [
      "\u001b[0;31m---------------------------------------------------------------------------\u001b[0m",
      "\u001b[0;31mFileNotFoundError\u001b[0m                         Traceback (most recent call last)",
      "\u001b[0;32m/var/folders/6y/kqgc9b355tv0r3tqhp12044c0000gn/T/ipykernel_81123/3178449388.py\u001b[0m in \u001b[0;36m<module>\u001b[0;34m\u001b[0m\n\u001b[0;32m----> 1\u001b[0;31m \u001b[0mos\u001b[0m\u001b[0;34m.\u001b[0m\u001b[0mremove\u001b[0m\u001b[0;34m(\u001b[0m\u001b[0;34m'./data/activations/.DS_Store'\u001b[0m\u001b[0;34m)\u001b[0m\u001b[0;34m\u001b[0m\u001b[0;34m\u001b[0m\u001b[0m\n\u001b[0m",
      "\u001b[0;31mFileNotFoundError\u001b[0m: [Errno 2] No such file or directory: './data/activations/.DS_Store'"
     ]
    }
   ],
   "source": [
    "os.remove('./data/activations/.DS_Store')"
   ]
  },
  {
   "cell_type": "code",
   "execution_count": 3,
   "id": "ad7ba26d",
   "metadata": {},
   "outputs": [],
   "source": [
    "files = os.listdir('./data/activations/')"
   ]
  },
  {
   "cell_type": "code",
   "execution_count": 4,
   "id": "697bdb6e",
   "metadata": {},
   "outputs": [],
   "source": [
    "files_con = list(map(lambda i: i.split('-'), files))"
   ]
  },
  {
   "cell_type": "code",
   "execution_count": 5,
   "id": "5d1b9a35",
   "metadata": {},
   "outputs": [],
   "source": [
    "df = pd.DataFrame(files_con)"
   ]
  },
  {
   "cell_type": "code",
   "execution_count": 6,
   "id": "61528cdb",
   "metadata": {},
   "outputs": [],
   "source": [
    "df['file_name'] = files"
   ]
  },
  {
   "cell_type": "code",
   "execution_count": 7,
   "id": "98bba540",
   "metadata": {},
   "outputs": [],
   "source": [
    "df['file_name'] = './data/activations/' + df['file_name'] "
   ]
  },
  {
   "cell_type": "code",
   "execution_count": 8,
   "id": "8dfd565f",
   "metadata": {},
   "outputs": [],
   "source": [
    "df.columns = ['con', 'id', 'file_name']"
   ]
  },
  {
   "cell_type": "code",
   "execution_count": 9,
   "id": "b796d30e",
   "metadata": {},
   "outputs": [
    {
     "data": {
      "text/plain": [
       "'./data/activations/27-b415b3ff2f314c9d95b3ff2f313c9d09.json'"
      ]
     },
     "execution_count": 9,
     "metadata": {},
     "output_type": "execute_result"
    }
   ],
   "source": [
    "df.iloc[0][2]"
   ]
  },
  {
   "cell_type": "code",
   "execution_count": 10,
   "id": "dada43e1",
   "metadata": {},
   "outputs": [],
   "source": [
    "def read_file(name):\n",
    "    with open(name, 'r') as f:\n",
    "        r = json.load(f)\n",
    "        return r"
   ]
  },
  {
   "cell_type": "code",
   "execution_count": 11,
   "id": "1fcf4380",
   "metadata": {
    "scrolled": false
   },
   "outputs": [],
   "source": [
    "df['output'] = df['file_name'].apply(read_file)"
   ]
  },
  {
   "cell_type": "code",
   "execution_count": 12,
   "id": "bbda894c",
   "metadata": {},
   "outputs": [],
   "source": [
    "df['con'] = df['con'].astype(int)"
   ]
  },
  {
   "cell_type": "code",
   "execution_count": 13,
   "id": "f83601c1",
   "metadata": {},
   "outputs": [
    {
     "data": {
      "text/html": [
       "<div>\n",
       "<style scoped>\n",
       "    .dataframe tbody tr th:only-of-type {\n",
       "        vertical-align: middle;\n",
       "    }\n",
       "\n",
       "    .dataframe tbody tr th {\n",
       "        vertical-align: top;\n",
       "    }\n",
       "\n",
       "    .dataframe thead th {\n",
       "        text-align: right;\n",
       "    }\n",
       "</style>\n",
       "<table border=\"1\" class=\"dataframe\">\n",
       "  <thead>\n",
       "    <tr style=\"text-align: right;\">\n",
       "      <th></th>\n",
       "      <th>con</th>\n",
       "      <th>id</th>\n",
       "      <th>file_name</th>\n",
       "      <th>output</th>\n",
       "    </tr>\n",
       "  </thead>\n",
       "  <tbody>\n",
       "    <tr>\n",
       "      <th>102</th>\n",
       "      <td>2</td>\n",
       "      <td>29d07a03863f46e8907a03863f46e8ef.json</td>\n",
       "      <td>./data/activations/2-29d07a03863f46e8907a03863...</td>\n",
       "      <td>{'namespace': '0bf94102-e0e3-478b-ab0c-caa40f3...</td>\n",
       "    </tr>\n",
       "    <tr>\n",
       "      <th>317</th>\n",
       "      <td>2</td>\n",
       "      <td>47057d7ad9c74027857d7ad9c7b027e9.json</td>\n",
       "      <td>./data/activations/2-47057d7ad9c74027857d7ad9c...</td>\n",
       "      <td>{'namespace': '0bf94102-e0e3-478b-ab0c-caa40f3...</td>\n",
       "    </tr>\n",
       "  </tbody>\n",
       "</table>\n",
       "</div>"
      ],
      "text/plain": [
       "     con                                     id  \\\n",
       "102    2  29d07a03863f46e8907a03863f46e8ef.json   \n",
       "317    2  47057d7ad9c74027857d7ad9c7b027e9.json   \n",
       "\n",
       "                                             file_name  \\\n",
       "102  ./data/activations/2-29d07a03863f46e8907a03863...   \n",
       "317  ./data/activations/2-47057d7ad9c74027857d7ad9c...   \n",
       "\n",
       "                                                output  \n",
       "102  {'namespace': '0bf94102-e0e3-478b-ab0c-caa40f3...  \n",
       "317  {'namespace': '0bf94102-e0e3-478b-ab0c-caa40f3...  "
      ]
     },
     "execution_count": 13,
     "metadata": {},
     "output_type": "execute_result"
    }
   ],
   "source": [
    "df[df['con']==2]"
   ]
  },
  {
   "cell_type": "code",
   "execution_count": 14,
   "id": "d771178b",
   "metadata": {},
   "outputs": [],
   "source": [
    "df.sort_values('con', inplace=True)"
   ]
  },
  {
   "cell_type": "code",
   "execution_count": 15,
   "id": "f29aebae",
   "metadata": {},
   "outputs": [],
   "source": [
    "df = df[df['con'] < 28]"
   ]
  },
  {
   "cell_type": "code",
   "execution_count": 16,
   "id": "6cc5adac",
   "metadata": {
    "scrolled": false
   },
   "outputs": [],
   "source": [
    "r = df.iloc[0, 3]"
   ]
  },
  {
   "cell_type": "code",
   "execution_count": 17,
   "id": "8a637d35",
   "metadata": {
    "scrolled": false
   },
   "outputs": [
    {
     "data": {
      "text/plain": [
       "226278"
      ]
     },
     "execution_count": 17,
     "metadata": {},
     "output_type": "execute_result"
    }
   ],
   "source": [
    "r['response']['result']['runtime']"
   ]
  },
  {
   "cell_type": "code",
   "execution_count": 18,
   "id": "a51554b4",
   "metadata": {},
   "outputs": [],
   "source": [
    "df['runtime'] = df['output'].apply(lambda i: i['response']['result']['runtime']/60000)\n",
    "df['vmID'] = df['output'].apply(lambda i: i['response']['result']['vmID'])\n",
    "df['uuid'] = df['output'].apply(lambda i: i['response']['result']['uuid'])\n",
    "df['cpuStealDelta'] = df['output'].apply(lambda i: i['response']['result']['cpuStealDelta'])"
   ]
  },
  {
   "cell_type": "code",
   "execution_count": null,
   "id": "9b7335a8",
   "metadata": {},
   "outputs": [],
   "source": []
  },
  {
   "cell_type": "code",
   "execution_count": 19,
   "id": "d31d404b",
   "metadata": {},
   "outputs": [],
   "source": [
    "df['normalized_cpu_steal'] = df['cpuStealDelta'] / df['runtime']"
   ]
  },
  {
   "cell_type": "code",
   "execution_count": 20,
   "id": "ac35569e",
   "metadata": {},
   "outputs": [
    {
     "data": {
      "text/html": [
       "<div>\n",
       "<style scoped>\n",
       "    .dataframe tbody tr th:only-of-type {\n",
       "        vertical-align: middle;\n",
       "    }\n",
       "\n",
       "    .dataframe tbody tr th {\n",
       "        vertical-align: top;\n",
       "    }\n",
       "\n",
       "    .dataframe thead th {\n",
       "        text-align: right;\n",
       "    }\n",
       "</style>\n",
       "<table border=\"1\" class=\"dataframe\">\n",
       "  <thead>\n",
       "    <tr style=\"text-align: right;\">\n",
       "      <th></th>\n",
       "      <th>con</th>\n",
       "      <th>id</th>\n",
       "      <th>file_name</th>\n",
       "      <th>output</th>\n",
       "      <th>runtime</th>\n",
       "      <th>vmID</th>\n",
       "      <th>uuid</th>\n",
       "      <th>cpuStealDelta</th>\n",
       "      <th>normalized_cpu_steal</th>\n",
       "    </tr>\n",
       "  </thead>\n",
       "  <tbody>\n",
       "    <tr>\n",
       "      <th>279</th>\n",
       "      <td>1</td>\n",
       "      <td>a6037d1a55f34db6837d1a55f3adb6ff.json</td>\n",
       "      <td>./data/activations/1-a6037d1a55f34db6837d1a55f...</td>\n",
       "      <td>{'namespace': '0bf94102-e0e3-478b-ab0c-caa40f3...</td>\n",
       "      <td>3.771300</td>\n",
       "      <td>ad252dcb-23fc-700e-c2d6-c8ba429ba03f</td>\n",
       "      <td>91702e45-0683-4b7d-a15d-c3a9534e52f3</td>\n",
       "      <td>22300.0</td>\n",
       "      <td>5913.080370</td>\n",
       "    </tr>\n",
       "    <tr>\n",
       "      <th>102</th>\n",
       "      <td>2</td>\n",
       "      <td>29d07a03863f46e8907a03863f46e8ef.json</td>\n",
       "      <td>./data/activations/2-29d07a03863f46e8907a03863...</td>\n",
       "      <td>{'namespace': '0bf94102-e0e3-478b-ab0c-caa40f3...</td>\n",
       "      <td>3.772017</td>\n",
       "      <td>fe179955-ca23-6b5b-e3ec-7a2f71f08f36</td>\n",
       "      <td>d9529eb5-f7fa-4ed6-92e7-ad82aa558fab</td>\n",
       "      <td>23110.0</td>\n",
       "      <td>6126.696153</td>\n",
       "    </tr>\n",
       "    <tr>\n",
       "      <th>317</th>\n",
       "      <td>2</td>\n",
       "      <td>47057d7ad9c74027857d7ad9c7b027e9.json</td>\n",
       "      <td>./data/activations/2-47057d7ad9c74027857d7ad9c...</td>\n",
       "      <td>{'namespace': '0bf94102-e0e3-478b-ab0c-caa40f3...</td>\n",
       "      <td>3.770750</td>\n",
       "      <td>ad252dcb-23fc-700e-c2d6-c8ba429ba03f</td>\n",
       "      <td>22222861-2ff1-4fbe-b029-f95b6bf921c4</td>\n",
       "      <td>32710.0</td>\n",
       "      <td>8674.666843</td>\n",
       "    </tr>\n",
       "    <tr>\n",
       "      <th>65</th>\n",
       "      <td>3</td>\n",
       "      <td>0e23fe800c854e00a3fe800c853e0093.json</td>\n",
       "      <td>./data/activations/3-0e23fe800c854e00a3fe800c8...</td>\n",
       "      <td>{'namespace': '0bf94102-e0e3-478b-ab0c-caa40f3...</td>\n",
       "      <td>3.770817</td>\n",
       "      <td>ad252dcb-23fc-700e-c2d6-c8ba429ba03f</td>\n",
       "      <td>22222861-2ff1-4fbe-b029-f95b6bf921c4</td>\n",
       "      <td>22320.0</td>\n",
       "      <td>5919.142184</td>\n",
       "    </tr>\n",
       "    <tr>\n",
       "      <th>260</th>\n",
       "      <td>3</td>\n",
       "      <td>a6037d1a55f34db6837d1a55f3adb6ff.json</td>\n",
       "      <td>./data/activations/3-a6037d1a55f34db6837d1a55f...</td>\n",
       "      <td>{'namespace': '0bf94102-e0e3-478b-ab0c-caa40f3...</td>\n",
       "      <td>3.771300</td>\n",
       "      <td>ad252dcb-23fc-700e-c2d6-c8ba429ba03f</td>\n",
       "      <td>91702e45-0683-4b7d-a15d-c3a9534e52f3</td>\n",
       "      <td>22300.0</td>\n",
       "      <td>5913.080370</td>\n",
       "    </tr>\n",
       "    <tr>\n",
       "      <th>...</th>\n",
       "      <td>...</td>\n",
       "      <td>...</td>\n",
       "      <td>...</td>\n",
       "      <td>...</td>\n",
       "      <td>...</td>\n",
       "      <td>...</td>\n",
       "      <td>...</td>\n",
       "      <td>...</td>\n",
       "      <td>...</td>\n",
       "    </tr>\n",
       "    <tr>\n",
       "      <th>344</th>\n",
       "      <td>27</td>\n",
       "      <td>5a5ee678ec56474b9ee678ec56b74bdd.json</td>\n",
       "      <td>./data/activations/27-5a5ee678ec56474b9ee678ec...</td>\n",
       "      <td>{'namespace': '0bf94102-e0e3-478b-ab0c-caa40f3...</td>\n",
       "      <td>3.768717</td>\n",
       "      <td>9ff64733-14fd-8d20-9a1b-fc66be30fad2</td>\n",
       "      <td>3d101cac-161c-42e3-901f-b3e5743c6768</td>\n",
       "      <td>36600.0</td>\n",
       "      <td>9711.528681</td>\n",
       "    </tr>\n",
       "    <tr>\n",
       "      <th>171</th>\n",
       "      <td>27</td>\n",
       "      <td>27b552b175ca4ad3b552b175cafad390.json</td>\n",
       "      <td>./data/activations/27-27b552b175ca4ad3b552b175...</td>\n",
       "      <td>{'namespace': '0bf94102-e0e3-478b-ab0c-caa40f3...</td>\n",
       "      <td>3.779767</td>\n",
       "      <td>134b7e5a-751b-2daf-cb0b-0180ff2b998e</td>\n",
       "      <td>ab3c3858-e288-4994-9b5d-34e45d7944e7</td>\n",
       "      <td>1290.0</td>\n",
       "      <td>341.290909</td>\n",
       "    </tr>\n",
       "    <tr>\n",
       "      <th>2</th>\n",
       "      <td>27</td>\n",
       "      <td>3d72dfe92b0449beb2dfe92b04b9be3e.json</td>\n",
       "      <td>./data/activations/27-3d72dfe92b0449beb2dfe92b...</td>\n",
       "      <td>{'namespace': '0bf94102-e0e3-478b-ab0c-caa40f3...</td>\n",
       "      <td>3.776083</td>\n",
       "      <td>ad252dcb-23fc-700e-c2d6-c8ba429ba03f</td>\n",
       "      <td>ab184416-9e41-46fb-b2c0-99213f758e43</td>\n",
       "      <td>1030.0</td>\n",
       "      <td>272.769404</td>\n",
       "    </tr>\n",
       "    <tr>\n",
       "      <th>266</th>\n",
       "      <td>27</td>\n",
       "      <td>0dc3747c43d94dc783747c43d98dc756.json</td>\n",
       "      <td>./data/activations/27-0dc3747c43d94dc783747c43...</td>\n",
       "      <td>{'namespace': '0bf94102-e0e3-478b-ab0c-caa40f3...</td>\n",
       "      <td>3.779533</td>\n",
       "      <td>0631d9d0-10dc-ac49-7da5-e7416074c9cc</td>\n",
       "      <td>63b756d3-bde6-4732-a57c-f6cc0eafeabb</td>\n",
       "      <td>970.0</td>\n",
       "      <td>256.645441</td>\n",
       "    </tr>\n",
       "    <tr>\n",
       "      <th>33</th>\n",
       "      <td>27</td>\n",
       "      <td>06e9da086f4444afa9da086f4434af31.json</td>\n",
       "      <td>./data/activations/27-06e9da086f4444afa9da086f...</td>\n",
       "      <td>{'namespace': '0bf94102-e0e3-478b-ab0c-caa40f3...</td>\n",
       "      <td>3.776700</td>\n",
       "      <td>ad252dcb-23fc-700e-c2d6-c8ba429ba03f</td>\n",
       "      <td>e16d2c24-6c65-41bb-9054-109eb7ab3ead</td>\n",
       "      <td>1030.0</td>\n",
       "      <td>272.724866</td>\n",
       "    </tr>\n",
       "  </tbody>\n",
       "</table>\n",
       "<p>378 rows × 9 columns</p>\n",
       "</div>"
      ],
      "text/plain": [
       "     con                                     id  \\\n",
       "279    1  a6037d1a55f34db6837d1a55f3adb6ff.json   \n",
       "102    2  29d07a03863f46e8907a03863f46e8ef.json   \n",
       "317    2  47057d7ad9c74027857d7ad9c7b027e9.json   \n",
       "65     3  0e23fe800c854e00a3fe800c853e0093.json   \n",
       "260    3  a6037d1a55f34db6837d1a55f3adb6ff.json   \n",
       "..   ...                                    ...   \n",
       "344   27  5a5ee678ec56474b9ee678ec56b74bdd.json   \n",
       "171   27  27b552b175ca4ad3b552b175cafad390.json   \n",
       "2     27  3d72dfe92b0449beb2dfe92b04b9be3e.json   \n",
       "266   27  0dc3747c43d94dc783747c43d98dc756.json   \n",
       "33    27  06e9da086f4444afa9da086f4434af31.json   \n",
       "\n",
       "                                             file_name  \\\n",
       "279  ./data/activations/1-a6037d1a55f34db6837d1a55f...   \n",
       "102  ./data/activations/2-29d07a03863f46e8907a03863...   \n",
       "317  ./data/activations/2-47057d7ad9c74027857d7ad9c...   \n",
       "65   ./data/activations/3-0e23fe800c854e00a3fe800c8...   \n",
       "260  ./data/activations/3-a6037d1a55f34db6837d1a55f...   \n",
       "..                                                 ...   \n",
       "344  ./data/activations/27-5a5ee678ec56474b9ee678ec...   \n",
       "171  ./data/activations/27-27b552b175ca4ad3b552b175...   \n",
       "2    ./data/activations/27-3d72dfe92b0449beb2dfe92b...   \n",
       "266  ./data/activations/27-0dc3747c43d94dc783747c43...   \n",
       "33   ./data/activations/27-06e9da086f4444afa9da086f...   \n",
       "\n",
       "                                                output   runtime  \\\n",
       "279  {'namespace': '0bf94102-e0e3-478b-ab0c-caa40f3...  3.771300   \n",
       "102  {'namespace': '0bf94102-e0e3-478b-ab0c-caa40f3...  3.772017   \n",
       "317  {'namespace': '0bf94102-e0e3-478b-ab0c-caa40f3...  3.770750   \n",
       "65   {'namespace': '0bf94102-e0e3-478b-ab0c-caa40f3...  3.770817   \n",
       "260  {'namespace': '0bf94102-e0e3-478b-ab0c-caa40f3...  3.771300   \n",
       "..                                                 ...       ...   \n",
       "344  {'namespace': '0bf94102-e0e3-478b-ab0c-caa40f3...  3.768717   \n",
       "171  {'namespace': '0bf94102-e0e3-478b-ab0c-caa40f3...  3.779767   \n",
       "2    {'namespace': '0bf94102-e0e3-478b-ab0c-caa40f3...  3.776083   \n",
       "266  {'namespace': '0bf94102-e0e3-478b-ab0c-caa40f3...  3.779533   \n",
       "33   {'namespace': '0bf94102-e0e3-478b-ab0c-caa40f3...  3.776700   \n",
       "\n",
       "                                     vmID  \\\n",
       "279  ad252dcb-23fc-700e-c2d6-c8ba429ba03f   \n",
       "102  fe179955-ca23-6b5b-e3ec-7a2f71f08f36   \n",
       "317  ad252dcb-23fc-700e-c2d6-c8ba429ba03f   \n",
       "65   ad252dcb-23fc-700e-c2d6-c8ba429ba03f   \n",
       "260  ad252dcb-23fc-700e-c2d6-c8ba429ba03f   \n",
       "..                                    ...   \n",
       "344  9ff64733-14fd-8d20-9a1b-fc66be30fad2   \n",
       "171  134b7e5a-751b-2daf-cb0b-0180ff2b998e   \n",
       "2    ad252dcb-23fc-700e-c2d6-c8ba429ba03f   \n",
       "266  0631d9d0-10dc-ac49-7da5-e7416074c9cc   \n",
       "33   ad252dcb-23fc-700e-c2d6-c8ba429ba03f   \n",
       "\n",
       "                                     uuid  cpuStealDelta  normalized_cpu_steal  \n",
       "279  91702e45-0683-4b7d-a15d-c3a9534e52f3        22300.0           5913.080370  \n",
       "102  d9529eb5-f7fa-4ed6-92e7-ad82aa558fab        23110.0           6126.696153  \n",
       "317  22222861-2ff1-4fbe-b029-f95b6bf921c4        32710.0           8674.666843  \n",
       "65   22222861-2ff1-4fbe-b029-f95b6bf921c4        22320.0           5919.142184  \n",
       "260  91702e45-0683-4b7d-a15d-c3a9534e52f3        22300.0           5913.080370  \n",
       "..                                    ...            ...                   ...  \n",
       "344  3d101cac-161c-42e3-901f-b3e5743c6768        36600.0           9711.528681  \n",
       "171  ab3c3858-e288-4994-9b5d-34e45d7944e7         1290.0            341.290909  \n",
       "2    ab184416-9e41-46fb-b2c0-99213f758e43         1030.0            272.769404  \n",
       "266  63b756d3-bde6-4732-a57c-f6cc0eafeabb          970.0            256.645441  \n",
       "33   e16d2c24-6c65-41bb-9054-109eb7ab3ead         1030.0            272.724866  \n",
       "\n",
       "[378 rows x 9 columns]"
      ]
     },
     "execution_count": 20,
     "metadata": {},
     "output_type": "execute_result"
    }
   ],
   "source": [
    "df"
   ]
  },
  {
   "cell_type": "code",
   "execution_count": null,
   "id": "cec28cd4",
   "metadata": {},
   "outputs": [],
   "source": []
  },
  {
   "cell_type": "code",
   "execution_count": 26,
   "id": "1dfa84a6",
   "metadata": {},
   "outputs": [],
   "source": [
    "def parse_cache_performance(result):\n",
    "    metric = result['response']['result']['cache_bench_metric']\n",
    "    lines = metric.split('\\n')[-6:-1]\n",
    "    speeds = map(lambda i: i.split()[2], lines)\n",
    "    speeds = list(map(float, speeds))\n",
    "\n",
    "    return sum(speeds) / len(speeds)\n"
   ]
  },
  {
   "cell_type": "code",
   "execution_count": 27,
   "id": "86566788",
   "metadata": {},
   "outputs": [],
   "source": [
    "df['cache-bench-perf'] = df['output'].apply(parse_cache_performance)"
   ]
  },
  {
   "cell_type": "code",
   "execution_count": 28,
   "id": "f1bf53fe",
   "metadata": {},
   "outputs": [
    {
     "data": {
      "text/html": [
       "<div>\n",
       "<style scoped>\n",
       "    .dataframe tbody tr th:only-of-type {\n",
       "        vertical-align: middle;\n",
       "    }\n",
       "\n",
       "    .dataframe tbody tr th {\n",
       "        vertical-align: top;\n",
       "    }\n",
       "\n",
       "    .dataframe thead th {\n",
       "        text-align: right;\n",
       "    }\n",
       "</style>\n",
       "<table border=\"1\" class=\"dataframe\">\n",
       "  <thead>\n",
       "    <tr style=\"text-align: right;\">\n",
       "      <th></th>\n",
       "      <th>con</th>\n",
       "      <th>id</th>\n",
       "      <th>file_name</th>\n",
       "      <th>output</th>\n",
       "      <th>runtime</th>\n",
       "      <th>vmID</th>\n",
       "      <th>uuid</th>\n",
       "      <th>cpuStealDelta</th>\n",
       "      <th>normalized_cpu_steal</th>\n",
       "      <th>vm</th>\n",
       "      <th>cache-bench-perf</th>\n",
       "    </tr>\n",
       "  </thead>\n",
       "  <tbody>\n",
       "    <tr>\n",
       "      <th>279</th>\n",
       "      <td>1</td>\n",
       "      <td>a6037d1a55f34db6837d1a55f3adb6ff.json</td>\n",
       "      <td>./data/activations/1-a6037d1a55f34db6837d1a55f...</td>\n",
       "      <td>{'namespace': '0bf94102-e0e3-478b-ab0c-caa40f3...</td>\n",
       "      <td>3.771300</td>\n",
       "      <td>ad252dcb-23fc-700e-c2d6-c8ba429ba03f</td>\n",
       "      <td>91702e45-0683-4b7d-a15d-c3a9534e52f3</td>\n",
       "      <td>22300.0</td>\n",
       "      <td>5913.080370</td>\n",
       "      <td>1</td>\n",
       "      <td>4602.284</td>\n",
       "    </tr>\n",
       "    <tr>\n",
       "      <th>102</th>\n",
       "      <td>2</td>\n",
       "      <td>29d07a03863f46e8907a03863f46e8ef.json</td>\n",
       "      <td>./data/activations/2-29d07a03863f46e8907a03863...</td>\n",
       "      <td>{'namespace': '0bf94102-e0e3-478b-ab0c-caa40f3...</td>\n",
       "      <td>3.772017</td>\n",
       "      <td>fe179955-ca23-6b5b-e3ec-7a2f71f08f36</td>\n",
       "      <td>d9529eb5-f7fa-4ed6-92e7-ad82aa558fab</td>\n",
       "      <td>23110.0</td>\n",
       "      <td>6126.696153</td>\n",
       "      <td>2</td>\n",
       "      <td>5472.382</td>\n",
       "    </tr>\n",
       "    <tr>\n",
       "      <th>317</th>\n",
       "      <td>2</td>\n",
       "      <td>47057d7ad9c74027857d7ad9c7b027e9.json</td>\n",
       "      <td>./data/activations/2-47057d7ad9c74027857d7ad9c...</td>\n",
       "      <td>{'namespace': '0bf94102-e0e3-478b-ab0c-caa40f3...</td>\n",
       "      <td>3.770750</td>\n",
       "      <td>ad252dcb-23fc-700e-c2d6-c8ba429ba03f</td>\n",
       "      <td>22222861-2ff1-4fbe-b029-f95b6bf921c4</td>\n",
       "      <td>32710.0</td>\n",
       "      <td>8674.666843</td>\n",
       "      <td>1</td>\n",
       "      <td>6487.480</td>\n",
       "    </tr>\n",
       "    <tr>\n",
       "      <th>65</th>\n",
       "      <td>3</td>\n",
       "      <td>0e23fe800c854e00a3fe800c853e0093.json</td>\n",
       "      <td>./data/activations/3-0e23fe800c854e00a3fe800c8...</td>\n",
       "      <td>{'namespace': '0bf94102-e0e3-478b-ab0c-caa40f3...</td>\n",
       "      <td>3.770817</td>\n",
       "      <td>ad252dcb-23fc-700e-c2d6-c8ba429ba03f</td>\n",
       "      <td>22222861-2ff1-4fbe-b029-f95b6bf921c4</td>\n",
       "      <td>22320.0</td>\n",
       "      <td>5919.142184</td>\n",
       "      <td>1</td>\n",
       "      <td>4828.698</td>\n",
       "    </tr>\n",
       "    <tr>\n",
       "      <th>260</th>\n",
       "      <td>3</td>\n",
       "      <td>a6037d1a55f34db6837d1a55f3adb6ff.json</td>\n",
       "      <td>./data/activations/3-a6037d1a55f34db6837d1a55f...</td>\n",
       "      <td>{'namespace': '0bf94102-e0e3-478b-ab0c-caa40f3...</td>\n",
       "      <td>3.771300</td>\n",
       "      <td>ad252dcb-23fc-700e-c2d6-c8ba429ba03f</td>\n",
       "      <td>91702e45-0683-4b7d-a15d-c3a9534e52f3</td>\n",
       "      <td>22300.0</td>\n",
       "      <td>5913.080370</td>\n",
       "      <td>1</td>\n",
       "      <td>4602.284</td>\n",
       "    </tr>\n",
       "  </tbody>\n",
       "</table>\n",
       "</div>"
      ],
      "text/plain": [
       "     con                                     id  \\\n",
       "279    1  a6037d1a55f34db6837d1a55f3adb6ff.json   \n",
       "102    2  29d07a03863f46e8907a03863f46e8ef.json   \n",
       "317    2  47057d7ad9c74027857d7ad9c7b027e9.json   \n",
       "65     3  0e23fe800c854e00a3fe800c853e0093.json   \n",
       "260    3  a6037d1a55f34db6837d1a55f3adb6ff.json   \n",
       "\n",
       "                                             file_name  \\\n",
       "279  ./data/activations/1-a6037d1a55f34db6837d1a55f...   \n",
       "102  ./data/activations/2-29d07a03863f46e8907a03863...   \n",
       "317  ./data/activations/2-47057d7ad9c74027857d7ad9c...   \n",
       "65   ./data/activations/3-0e23fe800c854e00a3fe800c8...   \n",
       "260  ./data/activations/3-a6037d1a55f34db6837d1a55f...   \n",
       "\n",
       "                                                output   runtime  \\\n",
       "279  {'namespace': '0bf94102-e0e3-478b-ab0c-caa40f3...  3.771300   \n",
       "102  {'namespace': '0bf94102-e0e3-478b-ab0c-caa40f3...  3.772017   \n",
       "317  {'namespace': '0bf94102-e0e3-478b-ab0c-caa40f3...  3.770750   \n",
       "65   {'namespace': '0bf94102-e0e3-478b-ab0c-caa40f3...  3.770817   \n",
       "260  {'namespace': '0bf94102-e0e3-478b-ab0c-caa40f3...  3.771300   \n",
       "\n",
       "                                     vmID  \\\n",
       "279  ad252dcb-23fc-700e-c2d6-c8ba429ba03f   \n",
       "102  fe179955-ca23-6b5b-e3ec-7a2f71f08f36   \n",
       "317  ad252dcb-23fc-700e-c2d6-c8ba429ba03f   \n",
       "65   ad252dcb-23fc-700e-c2d6-c8ba429ba03f   \n",
       "260  ad252dcb-23fc-700e-c2d6-c8ba429ba03f   \n",
       "\n",
       "                                     uuid  cpuStealDelta  \\\n",
       "279  91702e45-0683-4b7d-a15d-c3a9534e52f3        22300.0   \n",
       "102  d9529eb5-f7fa-4ed6-92e7-ad82aa558fab        23110.0   \n",
       "317  22222861-2ff1-4fbe-b029-f95b6bf921c4        32710.0   \n",
       "65   22222861-2ff1-4fbe-b029-f95b6bf921c4        22320.0   \n",
       "260  91702e45-0683-4b7d-a15d-c3a9534e52f3        22300.0   \n",
       "\n",
       "     normalized_cpu_steal  vm  cache-bench-perf  \n",
       "279           5913.080370   1          4602.284  \n",
       "102           6126.696153   2          5472.382  \n",
       "317           8674.666843   1          6487.480  \n",
       "65            5919.142184   1          4828.698  \n",
       "260           5913.080370   1          4602.284  "
      ]
     },
     "execution_count": 28,
     "metadata": {},
     "output_type": "execute_result"
    }
   ],
   "source": [
    "df.head()"
   ]
  },
  {
   "cell_type": "code",
   "execution_count": 43,
   "id": "f0576759",
   "metadata": {},
   "outputs": [
    {
     "data": {
      "image/png": "[encoded data removed]",
      "text/plain": [
       "<Figure size 1440x720 with 1 Axes>"
      ]
     },
     "metadata": {},
     "output_type": "display_data"
    }
   ],
   "source": [
    "plt.rcParams[\"figure.figsize\"] = (20,10)\n",
    "plt.plot(range(1, 28), cache_bench_perf_df['cache-bench-perf'].to_list())\n",
    "# plt.plot(y, x, label = \"line 2\")\n",
    "# plt.legend()\n",
    "plt.xlabel('concurrency')\n",
    "plt.ylabel('MB/s')\n",
    "plt.title('IBM cache-bench experiment (memory speed vs concurrency)')\n",
    "plt.show()"
   ]
  },
  {
   "cell_type": "code",
   "execution_count": 30,
   "id": "5815d527",
   "metadata": {},
   "outputs": [],
   "source": [
    "cache_bench_perf_df = df.groupby('con').mean()"
   ]
  },
  {
   "cell_type": "code",
   "execution_count": 33,
   "id": "095302a3",
   "metadata": {},
   "outputs": [
    {
     "data": {
      "text/plain": [
       "[4602.284000000001,\n",
       " 5979.9310000000005,\n",
       " 4878.442,\n",
       " 5601.6405,\n",
       " 5019.6424,\n",
       " 4729.844666666667,\n",
       " 5564.550571428571,\n",
       " 5030.76225,\n",
       " 5218.474222222222,\n",
       " 4642.9398,\n",
       " 5310.139272727272,\n",
       " 4762.369333333333,\n",
       " 4994.494307692307,\n",
       " 5235.400571428572,\n",
       " 4254.0536,\n",
       " 5210.694125,\n",
       " 4308.411058823529,\n",
       " 4879.511333333333,\n",
       " 4880.5262105263155,\n",
       " 5009.0934,\n",
       " 5218.012571428572,\n",
       " 4615.438909090909,\n",
       " 4956.1973913043485,\n",
       " 4521.088916666667,\n",
       " 4528.209760000001,\n",
       " 4636.820769230769,\n",
       " 4747.035037037037]"
      ]
     },
     "execution_count": 33,
     "metadata": {},
     "output_type": "execute_result"
    }
   ],
   "source": [
    "cache_bench_perf_df['cache-bench-perf'].to_list()"
   ]
  },
  {
   "cell_type": "code",
   "execution_count": 38,
   "id": "41403b84",
   "metadata": {},
   "outputs": [
    {
     "data": {
      "text/html": [
       "<div>\n",
       "<style scoped>\n",
       "    .dataframe tbody tr th:only-of-type {\n",
       "        vertical-align: middle;\n",
       "    }\n",
       "\n",
       "    .dataframe tbody tr th {\n",
       "        vertical-align: top;\n",
       "    }\n",
       "\n",
       "    .dataframe thead th {\n",
       "        text-align: right;\n",
       "    }\n",
       "</style>\n",
       "<table border=\"1\" class=\"dataframe\">\n",
       "  <thead>\n",
       "    <tr style=\"text-align: right;\">\n",
       "      <th></th>\n",
       "      <th>runtime</th>\n",
       "      <th>cpuStealDelta</th>\n",
       "      <th>normalized_cpu_steal</th>\n",
       "      <th>vm</th>\n",
       "      <th>cache-bench-perf</th>\n",
       "    </tr>\n",
       "    <tr>\n",
       "      <th>con</th>\n",
       "      <th></th>\n",
       "      <th></th>\n",
       "      <th></th>\n",
       "      <th></th>\n",
       "      <th></th>\n",
       "    </tr>\n",
       "  </thead>\n",
       "  <tbody>\n",
       "    <tr>\n",
       "      <th>1</th>\n",
       "      <td>3.771300</td>\n",
       "      <td>22300.000000</td>\n",
       "      <td>5913.080370</td>\n",
       "      <td>1.000000</td>\n",
       "      <td>4602.284000</td>\n",
       "    </tr>\n",
       "    <tr>\n",
       "      <th>2</th>\n",
       "      <td>3.771383</td>\n",
       "      <td>27910.000000</td>\n",
       "      <td>7400.681498</td>\n",
       "      <td>1.500000</td>\n",
       "      <td>5979.931000</td>\n",
       "    </tr>\n",
       "    <tr>\n",
       "      <th>3</th>\n",
       "      <td>3.770900</td>\n",
       "      <td>22143.333333</td>\n",
       "      <td>5872.157815</td>\n",
       "      <td>1.000000</td>\n",
       "      <td>4878.442000</td>\n",
       "    </tr>\n",
       "    <tr>\n",
       "      <th>4</th>\n",
       "      <td>3.773292</td>\n",
       "      <td>35055.000000</td>\n",
       "      <td>9290.535619</td>\n",
       "      <td>1.500000</td>\n",
       "      <td>5601.640500</td>\n",
       "    </tr>\n",
       "    <tr>\n",
       "      <th>5</th>\n",
       "      <td>3.773460</td>\n",
       "      <td>25074.000000</td>\n",
       "      <td>6647.058598</td>\n",
       "      <td>1.600000</td>\n",
       "      <td>5019.642400</td>\n",
       "    </tr>\n",
       "    <tr>\n",
       "      <th>6</th>\n",
       "      <td>3.773983</td>\n",
       "      <td>18978.333333</td>\n",
       "      <td>5029.020625</td>\n",
       "      <td>1.500000</td>\n",
       "      <td>4729.844667</td>\n",
       "    </tr>\n",
       "    <tr>\n",
       "      <th>7</th>\n",
       "      <td>3.774264</td>\n",
       "      <td>27675.714286</td>\n",
       "      <td>7334.675435</td>\n",
       "      <td>2.000000</td>\n",
       "      <td>5564.550571</td>\n",
       "    </tr>\n",
       "    <tr>\n",
       "      <th>8</th>\n",
       "      <td>3.775417</td>\n",
       "      <td>18507.500000</td>\n",
       "      <td>4905.363296</td>\n",
       "      <td>1.750000</td>\n",
       "      <td>5030.762250</td>\n",
       "    </tr>\n",
       "    <tr>\n",
       "      <th>9</th>\n",
       "      <td>3.774400</td>\n",
       "      <td>14820.000000</td>\n",
       "      <td>3924.808094</td>\n",
       "      <td>2.555556</td>\n",
       "      <td>5218.474222</td>\n",
       "    </tr>\n",
       "    <tr>\n",
       "      <th>10</th>\n",
       "      <td>3.777182</td>\n",
       "      <td>7748.000000</td>\n",
       "      <td>2052.511689</td>\n",
       "      <td>2.600000</td>\n",
       "      <td>4642.939800</td>\n",
       "    </tr>\n",
       "    <tr>\n",
       "      <th>11</th>\n",
       "      <td>3.774020</td>\n",
       "      <td>23261.818182</td>\n",
       "      <td>6163.394776</td>\n",
       "      <td>2.818182</td>\n",
       "      <td>5310.139273</td>\n",
       "    </tr>\n",
       "    <tr>\n",
       "      <th>12</th>\n",
       "      <td>3.775707</td>\n",
       "      <td>20805.833333</td>\n",
       "      <td>5512.342646</td>\n",
       "      <td>2.916667</td>\n",
       "      <td>4762.369333</td>\n",
       "    </tr>\n",
       "    <tr>\n",
       "      <th>13</th>\n",
       "      <td>3.775835</td>\n",
       "      <td>12076.923077</td>\n",
       "      <td>3199.534140</td>\n",
       "      <td>2.538462</td>\n",
       "      <td>4994.494308</td>\n",
       "    </tr>\n",
       "    <tr>\n",
       "      <th>14</th>\n",
       "      <td>3.774345</td>\n",
       "      <td>14004.285714</td>\n",
       "      <td>3711.964939</td>\n",
       "      <td>3.000000</td>\n",
       "      <td>5235.400571</td>\n",
       "    </tr>\n",
       "    <tr>\n",
       "      <th>15</th>\n",
       "      <td>3.777939</td>\n",
       "      <td>1422.000000</td>\n",
       "      <td>376.371081</td>\n",
       "      <td>2.600000</td>\n",
       "      <td>4254.053600</td>\n",
       "    </tr>\n",
       "    <tr>\n",
       "      <th>16</th>\n",
       "      <td>3.776568</td>\n",
       "      <td>14760.000000</td>\n",
       "      <td>3911.206425</td>\n",
       "      <td>3.312500</td>\n",
       "      <td>5210.694125</td>\n",
       "    </tr>\n",
       "    <tr>\n",
       "      <th>17</th>\n",
       "      <td>3.777705</td>\n",
       "      <td>4927.647059</td>\n",
       "      <td>1305.718904</td>\n",
       "      <td>3.058824</td>\n",
       "      <td>4308.411059</td>\n",
       "    </tr>\n",
       "    <tr>\n",
       "      <th>18</th>\n",
       "      <td>3.775469</td>\n",
       "      <td>3293.888889</td>\n",
       "      <td>872.965409</td>\n",
       "      <td>3.055556</td>\n",
       "      <td>4879.511333</td>\n",
       "    </tr>\n",
       "    <tr>\n",
       "      <th>19</th>\n",
       "      <td>3.776110</td>\n",
       "      <td>4927.368421</td>\n",
       "      <td>1306.029759</td>\n",
       "      <td>3.105263</td>\n",
       "      <td>4880.526211</td>\n",
       "    </tr>\n",
       "    <tr>\n",
       "      <th>20</th>\n",
       "      <td>3.775296</td>\n",
       "      <td>9522.500000</td>\n",
       "      <td>2523.791216</td>\n",
       "      <td>3.550000</td>\n",
       "      <td>5009.093400</td>\n",
       "    </tr>\n",
       "    <tr>\n",
       "      <th>21</th>\n",
       "      <td>3.773634</td>\n",
       "      <td>8122.380952</td>\n",
       "      <td>2152.410302</td>\n",
       "      <td>3.476190</td>\n",
       "      <td>5218.012571</td>\n",
       "    </tr>\n",
       "    <tr>\n",
       "      <th>22</th>\n",
       "      <td>3.776439</td>\n",
       "      <td>8827.727273</td>\n",
       "      <td>2339.411152</td>\n",
       "      <td>3.863636</td>\n",
       "      <td>4615.438909</td>\n",
       "    </tr>\n",
       "    <tr>\n",
       "      <th>23</th>\n",
       "      <td>3.775214</td>\n",
       "      <td>6949.130435</td>\n",
       "      <td>1840.727912</td>\n",
       "      <td>3.652174</td>\n",
       "      <td>4956.197391</td>\n",
       "    </tr>\n",
       "    <tr>\n",
       "      <th>24</th>\n",
       "      <td>3.776565</td>\n",
       "      <td>5112.500000</td>\n",
       "      <td>1355.148063</td>\n",
       "      <td>3.958333</td>\n",
       "      <td>4521.088917</td>\n",
       "    </tr>\n",
       "    <tr>\n",
       "      <th>25</th>\n",
       "      <td>3.777348</td>\n",
       "      <td>2936.800000</td>\n",
       "      <td>778.357672</td>\n",
       "      <td>4.120000</td>\n",
       "      <td>4528.209760</td>\n",
       "    </tr>\n",
       "    <tr>\n",
       "      <th>26</th>\n",
       "      <td>3.777348</td>\n",
       "      <td>3496.923077</td>\n",
       "      <td>926.437935</td>\n",
       "      <td>3.769231</td>\n",
       "      <td>4636.820769</td>\n",
       "    </tr>\n",
       "    <tr>\n",
       "      <th>27</th>\n",
       "      <td>3.775925</td>\n",
       "      <td>7671.851852</td>\n",
       "      <td>2033.495490</td>\n",
       "      <td>4.296296</td>\n",
       "      <td>4747.035037</td>\n",
       "    </tr>\n",
       "  </tbody>\n",
       "</table>\n",
       "</div>"
      ],
      "text/plain": [
       "      runtime  cpuStealDelta  normalized_cpu_steal        vm  cache-bench-perf\n",
       "con                                                                           \n",
       "1    3.771300   22300.000000           5913.080370  1.000000       4602.284000\n",
       "2    3.771383   27910.000000           7400.681498  1.500000       5979.931000\n",
       "3    3.770900   22143.333333           5872.157815  1.000000       4878.442000\n",
       "4    3.773292   35055.000000           9290.535619  1.500000       5601.640500\n",
       "5    3.773460   25074.000000           6647.058598  1.600000       5019.642400\n",
       "6    3.773983   18978.333333           5029.020625  1.500000       4729.844667\n",
       "7    3.774264   27675.714286           7334.675435  2.000000       5564.550571\n",
       "8    3.775417   18507.500000           4905.363296  1.750000       5030.762250\n",
       "9    3.774400   14820.000000           3924.808094  2.555556       5218.474222\n",
       "10   3.777182    7748.000000           2052.511689  2.600000       4642.939800\n",
       "11   3.774020   23261.818182           6163.394776  2.818182       5310.139273\n",
       "12   3.775707   20805.833333           5512.342646  2.916667       4762.369333\n",
       "13   3.775835   12076.923077           3199.534140  2.538462       4994.494308\n",
       "14   3.774345   14004.285714           3711.964939  3.000000       5235.400571\n",
       "15   3.777939    1422.000000            376.371081  2.600000       4254.053600\n",
       "16   3.776568   14760.000000           3911.206425  3.312500       5210.694125\n",
       "17   3.777705    4927.647059           1305.718904  3.058824       4308.411059\n",
       "18   3.775469    3293.888889            872.965409  3.055556       4879.511333\n",
       "19   3.776110    4927.368421           1306.029759  3.105263       4880.526211\n",
       "20   3.775296    9522.500000           2523.791216  3.550000       5009.093400\n",
       "21   3.773634    8122.380952           2152.410302  3.476190       5218.012571\n",
       "22   3.776439    8827.727273           2339.411152  3.863636       4615.438909\n",
       "23   3.775214    6949.130435           1840.727912  3.652174       4956.197391\n",
       "24   3.776565    5112.500000           1355.148063  3.958333       4521.088917\n",
       "25   3.777348    2936.800000            778.357672  4.120000       4528.209760\n",
       "26   3.777348    3496.923077            926.437935  3.769231       4636.820769\n",
       "27   3.775925    7671.851852           2033.495490  4.296296       4747.035037"
      ]
     },
     "execution_count": 38,
     "metadata": {},
     "output_type": "execute_result"
    }
   ],
   "source": [
    "cache_bench_perf_df"
   ]
  },
  {
   "cell_type": "code",
   "execution_count": 45,
   "id": "82d8f9c4",
   "metadata": {},
   "outputs": [
    {
     "data": {
      "image/png": "[encoded data removed]",
      "text/plain": [
       "<Figure size 1440x720 with 1 Axes>"
      ]
     },
     "metadata": {},
     "output_type": "display_data"
    }
   ],
   "source": [
    "plt.rcParams[\"figure.figsize\"] = (20,10)\n",
    "plt.scatter(df['con'].to_list(), df['cache-bench-perf'].to_list())\n",
    "# plt.plot(y, x, label = \"line 2\")\n",
    "# plt.legend()\n",
    "plt.xlabel('concurrency')\n",
    "plt.ylabel('MB/s')\n",
    "plt.title('IBM cache-bench experiment (memory speed vs concurrency)')\n",
    "plt.show()"
   ]
  },
  {
   "cell_type": "code",
   "execution_count": 44,
   "id": "8e891bb8",
   "metadata": {},
   "outputs": [
    {
     "data": {
      "text/html": [
       "<div>\n",
       "<style scoped>\n",
       "    .dataframe tbody tr th:only-of-type {\n",
       "        vertical-align: middle;\n",
       "    }\n",
       "\n",
       "    .dataframe tbody tr th {\n",
       "        vertical-align: top;\n",
       "    }\n",
       "\n",
       "    .dataframe thead th {\n",
       "        text-align: right;\n",
       "    }\n",
       "</style>\n",
       "<table border=\"1\" class=\"dataframe\">\n",
       "  <thead>\n",
       "    <tr style=\"text-align: right;\">\n",
       "      <th></th>\n",
       "      <th>con</th>\n",
       "      <th>id</th>\n",
       "      <th>file_name</th>\n",
       "      <th>output</th>\n",
       "      <th>runtime</th>\n",
       "      <th>vmID</th>\n",
       "      <th>uuid</th>\n",
       "      <th>cpuStealDelta</th>\n",
       "      <th>normalized_cpu_steal</th>\n",
       "      <th>vm</th>\n",
       "      <th>cache-bench-perf</th>\n",
       "    </tr>\n",
       "  </thead>\n",
       "  <tbody>\n",
       "    <tr>\n",
       "      <th>279</th>\n",
       "      <td>1</td>\n",
       "      <td>a6037d1a55f34db6837d1a55f3adb6ff.json</td>\n",
       "      <td>./data/activations/1-a6037d1a55f34db6837d1a55f...</td>\n",
       "      <td>{'namespace': '0bf94102-e0e3-478b-ab0c-caa40f3...</td>\n",
       "      <td>3.771300</td>\n",
       "      <td>ad252dcb-23fc-700e-c2d6-c8ba429ba03f</td>\n",
       "      <td>91702e45-0683-4b7d-a15d-c3a9534e52f3</td>\n",
       "      <td>22300.0</td>\n",
       "      <td>5913.080370</td>\n",
       "      <td>1</td>\n",
       "      <td>4602.284</td>\n",
       "    </tr>\n",
       "    <tr>\n",
       "      <th>102</th>\n",
       "      <td>2</td>\n",
       "      <td>29d07a03863f46e8907a03863f46e8ef.json</td>\n",
       "      <td>./data/activations/2-29d07a03863f46e8907a03863...</td>\n",
       "      <td>{'namespace': '0bf94102-e0e3-478b-ab0c-caa40f3...</td>\n",
       "      <td>3.772017</td>\n",
       "      <td>fe179955-ca23-6b5b-e3ec-7a2f71f08f36</td>\n",
       "      <td>d9529eb5-f7fa-4ed6-92e7-ad82aa558fab</td>\n",
       "      <td>23110.0</td>\n",
       "      <td>6126.696153</td>\n",
       "      <td>2</td>\n",
       "      <td>5472.382</td>\n",
       "    </tr>\n",
       "    <tr>\n",
       "      <th>317</th>\n",
       "      <td>2</td>\n",
       "      <td>47057d7ad9c74027857d7ad9c7b027e9.json</td>\n",
       "      <td>./data/activations/2-47057d7ad9c74027857d7ad9c...</td>\n",
       "      <td>{'namespace': '0bf94102-e0e3-478b-ab0c-caa40f3...</td>\n",
       "      <td>3.770750</td>\n",
       "      <td>ad252dcb-23fc-700e-c2d6-c8ba429ba03f</td>\n",
       "      <td>22222861-2ff1-4fbe-b029-f95b6bf921c4</td>\n",
       "      <td>32710.0</td>\n",
       "      <td>8674.666843</td>\n",
       "      <td>1</td>\n",
       "      <td>6487.480</td>\n",
       "    </tr>\n",
       "    <tr>\n",
       "      <th>65</th>\n",
       "      <td>3</td>\n",
       "      <td>0e23fe800c854e00a3fe800c853e0093.json</td>\n",
       "      <td>./data/activations/3-0e23fe800c854e00a3fe800c8...</td>\n",
       "      <td>{'namespace': '0bf94102-e0e3-478b-ab0c-caa40f3...</td>\n",
       "      <td>3.770817</td>\n",
       "      <td>ad252dcb-23fc-700e-c2d6-c8ba429ba03f</td>\n",
       "      <td>22222861-2ff1-4fbe-b029-f95b6bf921c4</td>\n",
       "      <td>22320.0</td>\n",
       "      <td>5919.142184</td>\n",
       "      <td>1</td>\n",
       "      <td>4828.698</td>\n",
       "    </tr>\n",
       "    <tr>\n",
       "      <th>260</th>\n",
       "      <td>3</td>\n",
       "      <td>a6037d1a55f34db6837d1a55f3adb6ff.json</td>\n",
       "      <td>./data/activations/3-a6037d1a55f34db6837d1a55f...</td>\n",
       "      <td>{'namespace': '0bf94102-e0e3-478b-ab0c-caa40f3...</td>\n",
       "      <td>3.771300</td>\n",
       "      <td>ad252dcb-23fc-700e-c2d6-c8ba429ba03f</td>\n",
       "      <td>91702e45-0683-4b7d-a15d-c3a9534e52f3</td>\n",
       "      <td>22300.0</td>\n",
       "      <td>5913.080370</td>\n",
       "      <td>1</td>\n",
       "      <td>4602.284</td>\n",
       "    </tr>\n",
       "    <tr>\n",
       "      <th>...</th>\n",
       "      <td>...</td>\n",
       "      <td>...</td>\n",
       "      <td>...</td>\n",
       "      <td>...</td>\n",
       "      <td>...</td>\n",
       "      <td>...</td>\n",
       "      <td>...</td>\n",
       "      <td>...</td>\n",
       "      <td>...</td>\n",
       "      <td>...</td>\n",
       "      <td>...</td>\n",
       "    </tr>\n",
       "    <tr>\n",
       "      <th>344</th>\n",
       "      <td>27</td>\n",
       "      <td>5a5ee678ec56474b9ee678ec56b74bdd.json</td>\n",
       "      <td>./data/activations/27-5a5ee678ec56474b9ee678ec...</td>\n",
       "      <td>{'namespace': '0bf94102-e0e3-478b-ab0c-caa40f3...</td>\n",
       "      <td>3.768717</td>\n",
       "      <td>9ff64733-14fd-8d20-9a1b-fc66be30fad2</td>\n",
       "      <td>3d101cac-161c-42e3-901f-b3e5743c6768</td>\n",
       "      <td>36600.0</td>\n",
       "      <td>9711.528681</td>\n",
       "      <td>9</td>\n",
       "      <td>6138.090</td>\n",
       "    </tr>\n",
       "    <tr>\n",
       "      <th>171</th>\n",
       "      <td>27</td>\n",
       "      <td>27b552b175ca4ad3b552b175cafad390.json</td>\n",
       "      <td>./data/activations/27-27b552b175ca4ad3b552b175...</td>\n",
       "      <td>{'namespace': '0bf94102-e0e3-478b-ab0c-caa40f3...</td>\n",
       "      <td>3.779767</td>\n",
       "      <td>134b7e5a-751b-2daf-cb0b-0180ff2b998e</td>\n",
       "      <td>ab3c3858-e288-4994-9b5d-34e45d7944e7</td>\n",
       "      <td>1290.0</td>\n",
       "      <td>341.290909</td>\n",
       "      <td>6</td>\n",
       "      <td>3522.426</td>\n",
       "    </tr>\n",
       "    <tr>\n",
       "      <th>2</th>\n",
       "      <td>27</td>\n",
       "      <td>3d72dfe92b0449beb2dfe92b04b9be3e.json</td>\n",
       "      <td>./data/activations/27-3d72dfe92b0449beb2dfe92b...</td>\n",
       "      <td>{'namespace': '0bf94102-e0e3-478b-ab0c-caa40f3...</td>\n",
       "      <td>3.776083</td>\n",
       "      <td>ad252dcb-23fc-700e-c2d6-c8ba429ba03f</td>\n",
       "      <td>ab184416-9e41-46fb-b2c0-99213f758e43</td>\n",
       "      <td>1030.0</td>\n",
       "      <td>272.769404</td>\n",
       "      <td>1</td>\n",
       "      <td>4162.434</td>\n",
       "    </tr>\n",
       "    <tr>\n",
       "      <th>266</th>\n",
       "      <td>27</td>\n",
       "      <td>0dc3747c43d94dc783747c43d98dc756.json</td>\n",
       "      <td>./data/activations/27-0dc3747c43d94dc783747c43...</td>\n",
       "      <td>{'namespace': '0bf94102-e0e3-478b-ab0c-caa40f3...</td>\n",
       "      <td>3.779533</td>\n",
       "      <td>0631d9d0-10dc-ac49-7da5-e7416074c9cc</td>\n",
       "      <td>63b756d3-bde6-4732-a57c-f6cc0eafeabb</td>\n",
       "      <td>970.0</td>\n",
       "      <td>256.645441</td>\n",
       "      <td>3</td>\n",
       "      <td>4468.298</td>\n",
       "    </tr>\n",
       "    <tr>\n",
       "      <th>33</th>\n",
       "      <td>27</td>\n",
       "      <td>06e9da086f4444afa9da086f4434af31.json</td>\n",
       "      <td>./data/activations/27-06e9da086f4444afa9da086f...</td>\n",
       "      <td>{'namespace': '0bf94102-e0e3-478b-ab0c-caa40f3...</td>\n",
       "      <td>3.776700</td>\n",
       "      <td>ad252dcb-23fc-700e-c2d6-c8ba429ba03f</td>\n",
       "      <td>e16d2c24-6c65-41bb-9054-109eb7ab3ead</td>\n",
       "      <td>1030.0</td>\n",
       "      <td>272.724866</td>\n",
       "      <td>1</td>\n",
       "      <td>4062.082</td>\n",
       "    </tr>\n",
       "  </tbody>\n",
       "</table>\n",
       "<p>378 rows × 11 columns</p>\n",
       "</div>"
      ],
      "text/plain": [
       "     con                                     id  \\\n",
       "279    1  a6037d1a55f34db6837d1a55f3adb6ff.json   \n",
       "102    2  29d07a03863f46e8907a03863f46e8ef.json   \n",
       "317    2  47057d7ad9c74027857d7ad9c7b027e9.json   \n",
       "65     3  0e23fe800c854e00a3fe800c853e0093.json   \n",
       "260    3  a6037d1a55f34db6837d1a55f3adb6ff.json   \n",
       "..   ...                                    ...   \n",
       "344   27  5a5ee678ec56474b9ee678ec56b74bdd.json   \n",
       "171   27  27b552b175ca4ad3b552b175cafad390.json   \n",
       "2     27  3d72dfe92b0449beb2dfe92b04b9be3e.json   \n",
       "266   27  0dc3747c43d94dc783747c43d98dc756.json   \n",
       "33    27  06e9da086f4444afa9da086f4434af31.json   \n",
       "\n",
       "                                             file_name  \\\n",
       "279  ./data/activations/1-a6037d1a55f34db6837d1a55f...   \n",
       "102  ./data/activations/2-29d07a03863f46e8907a03863...   \n",
       "317  ./data/activations/2-47057d7ad9c74027857d7ad9c...   \n",
       "65   ./data/activations/3-0e23fe800c854e00a3fe800c8...   \n",
       "260  ./data/activations/3-a6037d1a55f34db6837d1a55f...   \n",
       "..                                                 ...   \n",
       "344  ./data/activations/27-5a5ee678ec56474b9ee678ec...   \n",
       "171  ./data/activations/27-27b552b175ca4ad3b552b175...   \n",
       "2    ./data/activations/27-3d72dfe92b0449beb2dfe92b...   \n",
       "266  ./data/activations/27-0dc3747c43d94dc783747c43...   \n",
       "33   ./data/activations/27-06e9da086f4444afa9da086f...   \n",
       "\n",
       "                                                output   runtime  \\\n",
       "279  {'namespace': '0bf94102-e0e3-478b-ab0c-caa40f3...  3.771300   \n",
       "102  {'namespace': '0bf94102-e0e3-478b-ab0c-caa40f3...  3.772017   \n",
       "317  {'namespace': '0bf94102-e0e3-478b-ab0c-caa40f3...  3.770750   \n",
       "65   {'namespace': '0bf94102-e0e3-478b-ab0c-caa40f3...  3.770817   \n",
       "260  {'namespace': '0bf94102-e0e3-478b-ab0c-caa40f3...  3.771300   \n",
       "..                                                 ...       ...   \n",
       "344  {'namespace': '0bf94102-e0e3-478b-ab0c-caa40f3...  3.768717   \n",
       "171  {'namespace': '0bf94102-e0e3-478b-ab0c-caa40f3...  3.779767   \n",
       "2    {'namespace': '0bf94102-e0e3-478b-ab0c-caa40f3...  3.776083   \n",
       "266  {'namespace': '0bf94102-e0e3-478b-ab0c-caa40f3...  3.779533   \n",
       "33   {'namespace': '0bf94102-e0e3-478b-ab0c-caa40f3...  3.776700   \n",
       "\n",
       "                                     vmID  \\\n",
       "279  ad252dcb-23fc-700e-c2d6-c8ba429ba03f   \n",
       "102  fe179955-ca23-6b5b-e3ec-7a2f71f08f36   \n",
       "317  ad252dcb-23fc-700e-c2d6-c8ba429ba03f   \n",
       "65   ad252dcb-23fc-700e-c2d6-c8ba429ba03f   \n",
       "260  ad252dcb-23fc-700e-c2d6-c8ba429ba03f   \n",
       "..                                    ...   \n",
       "344  9ff64733-14fd-8d20-9a1b-fc66be30fad2   \n",
       "171  134b7e5a-751b-2daf-cb0b-0180ff2b998e   \n",
       "2    ad252dcb-23fc-700e-c2d6-c8ba429ba03f   \n",
       "266  0631d9d0-10dc-ac49-7da5-e7416074c9cc   \n",
       "33   ad252dcb-23fc-700e-c2d6-c8ba429ba03f   \n",
       "\n",
       "                                     uuid  cpuStealDelta  \\\n",
       "279  91702e45-0683-4b7d-a15d-c3a9534e52f3        22300.0   \n",
       "102  d9529eb5-f7fa-4ed6-92e7-ad82aa558fab        23110.0   \n",
       "317  22222861-2ff1-4fbe-b029-f95b6bf921c4        32710.0   \n",
       "65   22222861-2ff1-4fbe-b029-f95b6bf921c4        22320.0   \n",
       "260  91702e45-0683-4b7d-a15d-c3a9534e52f3        22300.0   \n",
       "..                                    ...            ...   \n",
       "344  3d101cac-161c-42e3-901f-b3e5743c6768        36600.0   \n",
       "171  ab3c3858-e288-4994-9b5d-34e45d7944e7         1290.0   \n",
       "2    ab184416-9e41-46fb-b2c0-99213f758e43         1030.0   \n",
       "266  63b756d3-bde6-4732-a57c-f6cc0eafeabb          970.0   \n",
       "33   e16d2c24-6c65-41bb-9054-109eb7ab3ead         1030.0   \n",
       "\n",
       "     normalized_cpu_steal  vm  cache-bench-perf  \n",
       "279           5913.080370   1          4602.284  \n",
       "102           6126.696153   2          5472.382  \n",
       "317           8674.666843   1          6487.480  \n",
       "65            5919.142184   1          4828.698  \n",
       "260           5913.080370   1          4602.284  \n",
       "..                    ...  ..               ...  \n",
       "344           9711.528681   9          6138.090  \n",
       "171            341.290909   6          3522.426  \n",
       "2              272.769404   1          4162.434  \n",
       "266            256.645441   3          4468.298  \n",
       "33             272.724866   1          4062.082  \n",
       "\n",
       "[378 rows x 11 columns]"
      ]
     },
     "execution_count": 44,
     "metadata": {},
     "output_type": "execute_result"
    }
   ],
   "source": [
    "df['con']"
   ]
  },
  {
   "cell_type": "code",
   "execution_count": null,
   "id": "43ef9adb",
   "metadata": {},
   "outputs": [],
   "source": []
  },
  {
   "cell_type": "code",
   "execution_count": null,
   "id": "d2037ce1",
   "metadata": {},
   "outputs": [],
   "source": []
  },
  {
   "cell_type": "code",
   "execution_count": null,
   "id": "8ccd6dbf",
   "metadata": {},
   "outputs": [],
   "source": []
  },
  {
   "cell_type": "code",
   "execution_count": null,
   "id": "f46521f8",
   "metadata": {},
   "outputs": [],
   "source": []
  },
  {
   "cell_type": "code",
   "execution_count": null,
   "id": "dae7458c",
   "metadata": {},
   "outputs": [],
   "source": []
  },
  {
   "cell_type": "code",
   "execution_count": null,
   "id": "0b7affed",
   "metadata": {},
   "outputs": [],
   "source": []
  },
  {
   "cell_type": "code",
   "execution_count": null,
   "id": "fa661a66",
   "metadata": {},
   "outputs": [],
   "source": []
  },
  {
   "cell_type": "code",
   "execution_count": null,
   "id": "24da5425",
   "metadata": {},
   "outputs": [],
   "source": []
  },
  {
   "cell_type": "code",
   "execution_count": null,
   "id": "f06a9ca2",
   "metadata": {},
   "outputs": [],
   "source": []
  },
  {
   "cell_type": "code",
   "execution_count": null,
   "id": "859ff4a7",
   "metadata": {},
   "outputs": [],
   "source": []
  },
  {
   "cell_type": "code",
   "execution_count": null,
   "id": "ac56f397",
   "metadata": {},
   "outputs": [],
   "source": []
  },
  {
   "cell_type": "code",
   "execution_count": null,
   "id": "3b3ff183",
   "metadata": {},
   "outputs": [],
   "source": []
  },
  {
   "cell_type": "code",
   "execution_count": null,
   "id": "c0622246",
   "metadata": {},
   "outputs": [],
   "source": []
  },
  {
   "cell_type": "code",
   "execution_count": 21,
   "id": "15f8b544",
   "metadata": {},
   "outputs": [
    {
     "data": {
      "text/plain": [
       "279    ad252dcb-23fc-700e-c2d6-c8ba429ba03f\n",
       "102    fe179955-ca23-6b5b-e3ec-7a2f71f08f36\n",
       "317    ad252dcb-23fc-700e-c2d6-c8ba429ba03f\n",
       "65     ad252dcb-23fc-700e-c2d6-c8ba429ba03f\n",
       "260    ad252dcb-23fc-700e-c2d6-c8ba429ba03f\n",
       "                       ...                 \n",
       "344    9ff64733-14fd-8d20-9a1b-fc66be30fad2\n",
       "171    134b7e5a-751b-2daf-cb0b-0180ff2b998e\n",
       "2      ad252dcb-23fc-700e-c2d6-c8ba429ba03f\n",
       "266    0631d9d0-10dc-ac49-7da5-e7416074c9cc\n",
       "33     ad252dcb-23fc-700e-c2d6-c8ba429ba03f\n",
       "Name: vmID, Length: 378, dtype: object"
      ]
     },
     "execution_count": 21,
     "metadata": {},
     "output_type": "execute_result"
    }
   ],
   "source": [
    "df['vmID']"
   ]
  },
  {
   "cell_type": "code",
   "execution_count": 22,
   "id": "5f548d69",
   "metadata": {},
   "outputs": [
    {
     "data": {
      "text/plain": [
       "9"
      ]
     },
     "execution_count": 22,
     "metadata": {},
     "output_type": "execute_result"
    }
   ],
   "source": [
    "vm_dict = dict()\n",
    "vm_counter = 1\n",
    "for vm in df['vmID']:\n",
    "    if vm not in vm_dict:\n",
    "        vm_dict[vm] = vm_counter\n",
    "        vm_counter += 1\n",
    "len(vm_dict)"
   ]
  },
  {
   "cell_type": "code",
   "execution_count": 23,
   "id": "bf3dc851",
   "metadata": {},
   "outputs": [],
   "source": [
    "df['vm'] = df['vmID'].apply(lambda i: vm_dict[i])"
   ]
  },
  {
   "cell_type": "code",
   "execution_count": 24,
   "id": "c037baec",
   "metadata": {
    "scrolled": false
   },
   "outputs": [],
   "source": [
    "r = dict(Counter(df[df['vm'] == 4]['con']))"
   ]
  },
  {
   "cell_type": "code",
   "execution_count": 25,
   "id": "30ec8cd2",
   "metadata": {},
   "outputs": [
    {
     "data": {
      "text/plain": [
       "{9: 1,\n",
       " 13: 1,\n",
       " 14: 1,\n",
       " 16: 1,\n",
       " 18: 2,\n",
       " 19: 2,\n",
       " 20: 2,\n",
       " 21: 4,\n",
       " 23: 3,\n",
       " 24: 1,\n",
       " 25: 2,\n",
       " 26: 4,\n",
       " 27: 2}"
      ]
     },
     "execution_count": 25,
     "metadata": {},
     "output_type": "execute_result"
    }
   ],
   "source": [
    "r"
   ]
  },
  {
   "cell_type": "code",
   "execution_count": 28,
   "id": "72483047",
   "metadata": {},
   "outputs": [
    {
     "data": {
      "text/plain": [
       "[9, 13, 14, 16, 18, 19, 20, 21, 23, 24, 25, 26, 27]"
      ]
     },
     "execution_count": 28,
     "metadata": {},
     "output_type": "execute_result"
    }
   ],
   "source": [
    "list(r.keys())"
   ]
  },
  {
   "cell_type": "code",
   "execution_count": 29,
   "id": "9d006641",
   "metadata": {},
   "outputs": [
    {
     "data": {
      "text/plain": [
       "[1, 1, 1, 1, 2, 2, 2, 4, 3, 1, 2, 4, 2]"
      ]
     },
     "execution_count": 29,
     "metadata": {},
     "output_type": "execute_result"
    }
   ],
   "source": [
    "\n",
    "list(r.values())"
   ]
  },
  {
   "cell_type": "code",
   "execution_count": 30,
   "id": "b7869118",
   "metadata": {},
   "outputs": [
    {
     "data": {
      "image/png": "[encoded data removed]",
      "text/plain": [
       "<Figure size 1440x720 with 1 Axes>"
      ]
     },
     "metadata": {},
     "output_type": "display_data"
    }
   ],
   "source": [
    "plt.rcParams[\"figure.figsize\"] = (20,10)\n",
    "for i in range(1, 11):\n",
    "    r = dict(Counter(df[df['vm'] == i]['con']))\n",
    "    plt.plot(list(r.keys()), list(r.values()), label='vm {}'.format(i))\n",
    "\n",
    "plt.legend()\n",
    "plt.show()"
   ]
  },
  {
   "cell_type": "code",
   "execution_count": 31,
   "id": "b32246be",
   "metadata": {},
   "outputs": [],
   "source": [
    "df_con = list(df.groupby('con'))"
   ]
  },
  {
   "cell_type": "code",
   "execution_count": 32,
   "id": "cc42933b",
   "metadata": {},
   "outputs": [
    {
     "data": {
      "text/html": [
       "<div>\n",
       "<style scoped>\n",
       "    .dataframe tbody tr th:only-of-type {\n",
       "        vertical-align: middle;\n",
       "    }\n",
       "\n",
       "    .dataframe tbody tr th {\n",
       "        vertical-align: top;\n",
       "    }\n",
       "\n",
       "    .dataframe thead th {\n",
       "        text-align: right;\n",
       "    }\n",
       "</style>\n",
       "<table border=\"1\" class=\"dataframe\">\n",
       "  <thead>\n",
       "    <tr style=\"text-align: right;\">\n",
       "      <th></th>\n",
       "      <th>con</th>\n",
       "      <th>runtime</th>\n",
       "      <th>cpuStealDelta</th>\n",
       "      <th>normalized_cpu_steal</th>\n",
       "    </tr>\n",
       "    <tr>\n",
       "      <th>vm</th>\n",
       "      <th></th>\n",
       "      <th></th>\n",
       "      <th></th>\n",
       "      <th></th>\n",
       "    </tr>\n",
       "  </thead>\n",
       "  <tbody>\n",
       "    <tr>\n",
       "      <th>1</th>\n",
       "      <td>16.0</td>\n",
       "      <td>3.775972</td>\n",
       "      <td>25606.666667</td>\n",
       "      <td>6781.479084</td>\n",
       "    </tr>\n",
       "    <tr>\n",
       "      <th>2</th>\n",
       "      <td>16.0</td>\n",
       "      <td>3.780850</td>\n",
       "      <td>822.500000</td>\n",
       "      <td>217.545352</td>\n",
       "    </tr>\n",
       "    <tr>\n",
       "      <th>3</th>\n",
       "      <td>16.0</td>\n",
       "      <td>3.772150</td>\n",
       "      <td>41190.000000</td>\n",
       "      <td>10919.501984</td>\n",
       "    </tr>\n",
       "    <tr>\n",
       "      <th>4</th>\n",
       "      <td>16.0</td>\n",
       "      <td>3.768083</td>\n",
       "      <td>1540.000000</td>\n",
       "      <td>408.695844</td>\n",
       "    </tr>\n",
       "    <tr>\n",
       "      <th>5</th>\n",
       "      <td>16.0</td>\n",
       "      <td>3.778850</td>\n",
       "      <td>320.000000</td>\n",
       "      <td>84.681936</td>\n",
       "    </tr>\n",
       "    <tr>\n",
       "      <th>6</th>\n",
       "      <td>16.0</td>\n",
       "      <td>3.772992</td>\n",
       "      <td>35425.000000</td>\n",
       "      <td>9389.128292</td>\n",
       "    </tr>\n",
       "  </tbody>\n",
       "</table>\n",
       "</div>"
      ],
      "text/plain": [
       "     con   runtime  cpuStealDelta  normalized_cpu_steal\n",
       "vm                                                     \n",
       "1   16.0  3.775972   25606.666667           6781.479084\n",
       "2   16.0  3.780850     822.500000            217.545352\n",
       "3   16.0  3.772150   41190.000000          10919.501984\n",
       "4   16.0  3.768083    1540.000000            408.695844\n",
       "5   16.0  3.778850     320.000000             84.681936\n",
       "6   16.0  3.772992   35425.000000           9389.128292"
      ]
     },
     "execution_count": 32,
     "metadata": {},
     "output_type": "execute_result"
    }
   ],
   "source": [
    "df_con[15][1].groupby('vm').mean()"
   ]
  },
  {
   "cell_type": "code",
   "execution_count": 33,
   "id": "25746807",
   "metadata": {},
   "outputs": [],
   "source": [
    "count_df_5 = df_con[5][1].groupby('vm').count()"
   ]
  },
  {
   "cell_type": "code",
   "execution_count": 34,
   "id": "b5bef04c",
   "metadata": {},
   "outputs": [],
   "source": [
    "avg_df_5 = df_con[5][1].groupby('vm').mean()"
   ]
  },
  {
   "cell_type": "code",
   "execution_count": 35,
   "id": "ea23c2fb",
   "metadata": {},
   "outputs": [
    {
     "data": {
      "text/html": [
       "<div>\n",
       "<style scoped>\n",
       "    .dataframe tbody tr th:only-of-type {\n",
       "        vertical-align: middle;\n",
       "    }\n",
       "\n",
       "    .dataframe tbody tr th {\n",
       "        vertical-align: top;\n",
       "    }\n",
       "\n",
       "    .dataframe thead th {\n",
       "        text-align: right;\n",
       "    }\n",
       "</style>\n",
       "<table border=\"1\" class=\"dataframe\">\n",
       "  <thead>\n",
       "    <tr style=\"text-align: right;\">\n",
       "      <th></th>\n",
       "      <th>con</th>\n",
       "      <th>runtime</th>\n",
       "      <th>cpuStealDelta</th>\n",
       "      <th>normalized_cpu_steal</th>\n",
       "    </tr>\n",
       "    <tr>\n",
       "      <th>vm</th>\n",
       "      <th></th>\n",
       "      <th></th>\n",
       "      <th></th>\n",
       "      <th></th>\n",
       "    </tr>\n",
       "  </thead>\n",
       "  <tbody>\n",
       "    <tr>\n",
       "      <th>1</th>\n",
       "      <td>6.0</td>\n",
       "      <td>3.772078</td>\n",
       "      <td>21263.333333</td>\n",
       "      <td>5637.010552</td>\n",
       "    </tr>\n",
       "    <tr>\n",
       "      <th>2</th>\n",
       "      <td>6.0</td>\n",
       "      <td>3.775889</td>\n",
       "      <td>16693.333333</td>\n",
       "      <td>4421.030698</td>\n",
       "    </tr>\n",
       "  </tbody>\n",
       "</table>\n",
       "</div>"
      ],
      "text/plain": [
       "    con   runtime  cpuStealDelta  normalized_cpu_steal\n",
       "vm                                                    \n",
       "1   6.0  3.772078   21263.333333           5637.010552\n",
       "2   6.0  3.775889   16693.333333           4421.030698"
      ]
     },
     "execution_count": 35,
     "metadata": {},
     "output_type": "execute_result"
    }
   ],
   "source": [
    "avg_df_5"
   ]
  },
  {
   "cell_type": "code",
   "execution_count": 36,
   "id": "0aa94437",
   "metadata": {},
   "outputs": [],
   "source": [
    "count_df_5['cpuStealAvg'] = avg_df_5['normalized_cpu_steal']"
   ]
  },
  {
   "cell_type": "code",
   "execution_count": 37,
   "id": "9c6e6a8f",
   "metadata": {},
   "outputs": [],
   "source": [
    "count_df_5 = count_df_5[['normalized_cpu_steal', 'cpuStealAvg']]\n",
    "count_df_5.columns = ['count', 'cpuStealAvg']"
   ]
  },
  {
   "cell_type": "code",
   "execution_count": 38,
   "id": "bb168217",
   "metadata": {},
   "outputs": [
    {
     "data": {
      "text/html": [
       "<div>\n",
       "<style scoped>\n",
       "    .dataframe tbody tr th:only-of-type {\n",
       "        vertical-align: middle;\n",
       "    }\n",
       "\n",
       "    .dataframe tbody tr th {\n",
       "        vertical-align: top;\n",
       "    }\n",
       "\n",
       "    .dataframe thead th {\n",
       "        text-align: right;\n",
       "    }\n",
       "</style>\n",
       "<table border=\"1\" class=\"dataframe\">\n",
       "  <thead>\n",
       "    <tr style=\"text-align: right;\">\n",
       "      <th></th>\n",
       "      <th>count</th>\n",
       "      <th>cpuStealAvg</th>\n",
       "    </tr>\n",
       "    <tr>\n",
       "      <th>vm</th>\n",
       "      <th></th>\n",
       "      <th></th>\n",
       "    </tr>\n",
       "  </thead>\n",
       "  <tbody>\n",
       "    <tr>\n",
       "      <th>1</th>\n",
       "      <td>3</td>\n",
       "      <td>5637.010552</td>\n",
       "    </tr>\n",
       "    <tr>\n",
       "      <th>2</th>\n",
       "      <td>3</td>\n",
       "      <td>4421.030698</td>\n",
       "    </tr>\n",
       "  </tbody>\n",
       "</table>\n",
       "</div>"
      ],
      "text/plain": [
       "    count  cpuStealAvg\n",
       "vm                    \n",
       "1       3  5637.010552\n",
       "2       3  4421.030698"
      ]
     },
     "execution_count": 38,
     "metadata": {},
     "output_type": "execute_result"
    }
   ],
   "source": [
    "count_df_5"
   ]
  },
  {
   "cell_type": "code",
   "execution_count": 39,
   "id": "cad37413",
   "metadata": {},
   "outputs": [],
   "source": [
    "count_df_list = []\n",
    "for i, d in df_con:\n",
    "    count_df = d.groupby('vm').count()\n",
    "    avg_df = d.groupby('vm').mean()\n",
    "    count_df['cpuStealAvg'] = avg_df['normalized_cpu_steal']\n",
    "    count_df = count_df[['normalized_cpu_steal', 'cpuStealAvg']]\n",
    "    count_df.columns = ['count', 'cpuStealAvg']\n",
    "    count_df_list.append(count_df)"
   ]
  },
  {
   "cell_type": "code",
   "execution_count": 40,
   "id": "509bfebf",
   "metadata": {},
   "outputs": [
    {
     "data": {
      "text/html": [
       "<div>\n",
       "<style scoped>\n",
       "    .dataframe tbody tr th:only-of-type {\n",
       "        vertical-align: middle;\n",
       "    }\n",
       "\n",
       "    .dataframe tbody tr th {\n",
       "        vertical-align: top;\n",
       "    }\n",
       "\n",
       "    .dataframe thead th {\n",
       "        text-align: right;\n",
       "    }\n",
       "</style>\n",
       "<table border=\"1\" class=\"dataframe\">\n",
       "  <thead>\n",
       "    <tr style=\"text-align: right;\">\n",
       "      <th></th>\n",
       "      <th>count</th>\n",
       "      <th>cpuStealAvg</th>\n",
       "    </tr>\n",
       "    <tr>\n",
       "      <th>vm</th>\n",
       "      <th></th>\n",
       "      <th></th>\n",
       "    </tr>\n",
       "  </thead>\n",
       "  <tbody>\n",
       "    <tr>\n",
       "      <th>1</th>\n",
       "      <td>1</td>\n",
       "      <td>5913.08037</td>\n",
       "    </tr>\n",
       "  </tbody>\n",
       "</table>\n",
       "</div>"
      ],
      "text/plain": [
       "    count  cpuStealAvg\n",
       "vm                    \n",
       "1       1   5913.08037"
      ]
     },
     "execution_count": 40,
     "metadata": {},
     "output_type": "execute_result"
    }
   ],
   "source": [
    "count_df_list[0]"
   ]
  },
  {
   "cell_type": "code",
   "execution_count": 41,
   "id": "fa5655c6",
   "metadata": {},
   "outputs": [
    {
     "data": {
      "text/html": [
       "<div>\n",
       "<style scoped>\n",
       "    .dataframe tbody tr th:only-of-type {\n",
       "        vertical-align: middle;\n",
       "    }\n",
       "\n",
       "    .dataframe tbody tr th {\n",
       "        vertical-align: top;\n",
       "    }\n",
       "\n",
       "    .dataframe thead th {\n",
       "        text-align: right;\n",
       "    }\n",
       "</style>\n",
       "<table border=\"1\" class=\"dataframe\">\n",
       "  <thead>\n",
       "    <tr style=\"text-align: right;\">\n",
       "      <th></th>\n",
       "      <th>count</th>\n",
       "      <th>cpuStealAvg</th>\n",
       "    </tr>\n",
       "    <tr>\n",
       "      <th>vm</th>\n",
       "      <th></th>\n",
       "      <th></th>\n",
       "    </tr>\n",
       "  </thead>\n",
       "  <tbody>\n",
       "    <tr>\n",
       "      <th>1</th>\n",
       "      <td>2</td>\n",
       "      <td>9929.386704</td>\n",
       "    </tr>\n",
       "    <tr>\n",
       "      <th>2</th>\n",
       "      <td>3</td>\n",
       "      <td>4458.839861</td>\n",
       "    </tr>\n",
       "  </tbody>\n",
       "</table>\n",
       "</div>"
      ],
      "text/plain": [
       "    count  cpuStealAvg\n",
       "vm                    \n",
       "1       2  9929.386704\n",
       "2       3  4458.839861"
      ]
     },
     "execution_count": 41,
     "metadata": {},
     "output_type": "execute_result"
    }
   ],
   "source": [
    "count_df_list[4]"
   ]
  },
  {
   "cell_type": "code",
   "execution_count": 42,
   "id": "a9bca7c4",
   "metadata": {},
   "outputs": [],
   "source": [
    "count_df = pd.concat(count_df_list)"
   ]
  },
  {
   "cell_type": "code",
   "execution_count": 43,
   "id": "6dc6eb04",
   "metadata": {},
   "outputs": [],
   "source": [
    "count_df.sort_values('count', inplace=True)"
   ]
  },
  {
   "cell_type": "code",
   "execution_count": 44,
   "id": "4ff15f66",
   "metadata": {},
   "outputs": [
    {
     "data": {
      "text/html": [
       "<div>\n",
       "<style scoped>\n",
       "    .dataframe tbody tr th:only-of-type {\n",
       "        vertical-align: middle;\n",
       "    }\n",
       "\n",
       "    .dataframe tbody tr th {\n",
       "        vertical-align: top;\n",
       "    }\n",
       "\n",
       "    .dataframe thead th {\n",
       "        text-align: right;\n",
       "    }\n",
       "</style>\n",
       "<table border=\"1\" class=\"dataframe\">\n",
       "  <thead>\n",
       "    <tr style=\"text-align: right;\">\n",
       "      <th></th>\n",
       "      <th>cpuStealAvg</th>\n",
       "    </tr>\n",
       "    <tr>\n",
       "      <th>count</th>\n",
       "      <th></th>\n",
       "    </tr>\n",
       "  </thead>\n",
       "  <tbody>\n",
       "    <tr>\n",
       "      <th>1</th>\n",
       "      <td>6465.858644</td>\n",
       "    </tr>\n",
       "    <tr>\n",
       "      <th>2</th>\n",
       "      <td>6852.562883</td>\n",
       "    </tr>\n",
       "    <tr>\n",
       "      <th>3</th>\n",
       "      <td>4569.003770</td>\n",
       "    </tr>\n",
       "    <tr>\n",
       "      <th>4</th>\n",
       "      <td>269.926811</td>\n",
       "    </tr>\n",
       "  </tbody>\n",
       "</table>\n",
       "</div>"
      ],
      "text/plain": [
       "       cpuStealAvg\n",
       "count             \n",
       "1      6465.858644\n",
       "2      6852.562883\n",
       "3      4569.003770\n",
       "4       269.926811"
      ]
     },
     "execution_count": 44,
     "metadata": {},
     "output_type": "execute_result"
    }
   ],
   "source": [
    "count_df.groupby('count').mean()"
   ]
  },
  {
   "cell_type": "code",
   "execution_count": 45,
   "id": "f4fbcc32",
   "metadata": {},
   "outputs": [
    {
     "data": {
      "text/html": [
       "<div>\n",
       "<style scoped>\n",
       "    .dataframe tbody tr th:only-of-type {\n",
       "        vertical-align: middle;\n",
       "    }\n",
       "\n",
       "    .dataframe tbody tr th {\n",
       "        vertical-align: top;\n",
       "    }\n",
       "\n",
       "    .dataframe thead th {\n",
       "        text-align: right;\n",
       "    }\n",
       "</style>\n",
       "<table border=\"1\" class=\"dataframe\">\n",
       "  <thead>\n",
       "    <tr style=\"text-align: right;\">\n",
       "      <th></th>\n",
       "      <th>count</th>\n",
       "      <th>cpuStealAvg</th>\n",
       "    </tr>\n",
       "    <tr>\n",
       "      <th>vm</th>\n",
       "      <th></th>\n",
       "      <th></th>\n",
       "    </tr>\n",
       "  </thead>\n",
       "  <tbody>\n",
       "    <tr>\n",
       "      <th>1</th>\n",
       "      <td>1</td>\n",
       "      <td>5913.080370</td>\n",
       "    </tr>\n",
       "    <tr>\n",
       "      <th>9</th>\n",
       "      <td>1</td>\n",
       "      <td>10004.201588</td>\n",
       "    </tr>\n",
       "    <tr>\n",
       "      <th>9</th>\n",
       "      <td>1</td>\n",
       "      <td>8150.032068</td>\n",
       "    </tr>\n",
       "    <tr>\n",
       "      <th>4</th>\n",
       "      <td>1</td>\n",
       "      <td>413.608424</td>\n",
       "    </tr>\n",
       "    <tr>\n",
       "      <th>9</th>\n",
       "      <td>1</td>\n",
       "      <td>8595.167099</td>\n",
       "    </tr>\n",
       "    <tr>\n",
       "      <th>...</th>\n",
       "      <td>...</td>\n",
       "      <td>...</td>\n",
       "    </tr>\n",
       "    <tr>\n",
       "      <th>5</th>\n",
       "      <td>4</td>\n",
       "      <td>93.402892</td>\n",
       "    </tr>\n",
       "    <tr>\n",
       "      <th>1</th>\n",
       "      <td>4</td>\n",
       "      <td>230.300983</td>\n",
       "    </tr>\n",
       "    <tr>\n",
       "      <th>2</th>\n",
       "      <td>4</td>\n",
       "      <td>281.096350</td>\n",
       "    </tr>\n",
       "    <tr>\n",
       "      <th>3</th>\n",
       "      <td>4</td>\n",
       "      <td>327.965268</td>\n",
       "    </tr>\n",
       "    <tr>\n",
       "      <th>2</th>\n",
       "      <td>4</td>\n",
       "      <td>238.672384</td>\n",
       "    </tr>\n",
       "  </tbody>\n",
       "</table>\n",
       "<p>130 rows × 2 columns</p>\n",
       "</div>"
      ],
      "text/plain": [
       "    count   cpuStealAvg\n",
       "vm                     \n",
       "1       1   5913.080370\n",
       "9       1  10004.201588\n",
       "9       1   8150.032068\n",
       "4       1    413.608424\n",
       "9       1   8595.167099\n",
       "..    ...           ...\n",
       "5       4     93.402892\n",
       "1       4    230.300983\n",
       "2       4    281.096350\n",
       "3       4    327.965268\n",
       "2       4    238.672384\n",
       "\n",
       "[130 rows x 2 columns]"
      ]
     },
     "execution_count": 45,
     "metadata": {},
     "output_type": "execute_result"
    }
   ],
   "source": [
    "count_df"
   ]
  },
  {
   "cell_type": "code",
   "execution_count": 47,
   "id": "15953eb5",
   "metadata": {},
   "outputs": [
    {
     "data": {
      "text/html": [
       "<div>\n",
       "<style scoped>\n",
       "    .dataframe tbody tr th:only-of-type {\n",
       "        vertical-align: middle;\n",
       "    }\n",
       "\n",
       "    .dataframe tbody tr th {\n",
       "        vertical-align: top;\n",
       "    }\n",
       "\n",
       "    .dataframe thead th {\n",
       "        text-align: right;\n",
       "    }\n",
       "</style>\n",
       "<table border=\"1\" class=\"dataframe\">\n",
       "  <thead>\n",
       "    <tr style=\"text-align: right;\">\n",
       "      <th></th>\n",
       "      <th>con</th>\n",
       "      <th>normalized_cpu_steal</th>\n",
       "    </tr>\n",
       "  </thead>\n",
       "  <tbody>\n",
       "    <tr>\n",
       "      <th>279</th>\n",
       "      <td>1</td>\n",
       "      <td>5913.080370</td>\n",
       "    </tr>\n",
       "    <tr>\n",
       "      <th>102</th>\n",
       "      <td>2</td>\n",
       "      <td>6126.696153</td>\n",
       "    </tr>\n",
       "    <tr>\n",
       "      <th>317</th>\n",
       "      <td>2</td>\n",
       "      <td>8674.666843</td>\n",
       "    </tr>\n",
       "    <tr>\n",
       "      <th>65</th>\n",
       "      <td>3</td>\n",
       "      <td>5919.142184</td>\n",
       "    </tr>\n",
       "    <tr>\n",
       "      <th>260</th>\n",
       "      <td>3</td>\n",
       "      <td>5913.080370</td>\n",
       "    </tr>\n",
       "    <tr>\n",
       "      <th>...</th>\n",
       "      <td>...</td>\n",
       "      <td>...</td>\n",
       "    </tr>\n",
       "    <tr>\n",
       "      <th>344</th>\n",
       "      <td>27</td>\n",
       "      <td>9711.528681</td>\n",
       "    </tr>\n",
       "    <tr>\n",
       "      <th>171</th>\n",
       "      <td>27</td>\n",
       "      <td>341.290909</td>\n",
       "    </tr>\n",
       "    <tr>\n",
       "      <th>2</th>\n",
       "      <td>27</td>\n",
       "      <td>272.769404</td>\n",
       "    </tr>\n",
       "    <tr>\n",
       "      <th>266</th>\n",
       "      <td>27</td>\n",
       "      <td>256.645441</td>\n",
       "    </tr>\n",
       "    <tr>\n",
       "      <th>33</th>\n",
       "      <td>27</td>\n",
       "      <td>272.724866</td>\n",
       "    </tr>\n",
       "  </tbody>\n",
       "</table>\n",
       "<p>378 rows × 2 columns</p>\n",
       "</div>"
      ],
      "text/plain": [
       "     con  normalized_cpu_steal\n",
       "279    1           5913.080370\n",
       "102    2           6126.696153\n",
       "317    2           8674.666843\n",
       "65     3           5919.142184\n",
       "260    3           5913.080370\n",
       "..   ...                   ...\n",
       "344   27           9711.528681\n",
       "171   27            341.290909\n",
       "2     27            272.769404\n",
       "266   27            256.645441\n",
       "33    27            272.724866\n",
       "\n",
       "[378 rows x 2 columns]"
      ]
     },
     "execution_count": 47,
     "metadata": {},
     "output_type": "execute_result"
    }
   ],
   "source": [
    "df[['con', 'normalized_cpu_steal']]"
   ]
  },
  {
   "cell_type": "code",
   "execution_count": null,
   "id": "6e27f355",
   "metadata": {},
   "outputs": [],
   "source": []
  },
  {
   "cell_type": "code",
   "execution_count": null,
   "id": "345b48bc",
   "metadata": {},
   "outputs": [],
   "source": []
  }
 ],
 "metadata": {
  "kernelspec": {
   "display_name": "Python 3 (ipykernel)",
   "language": "python",
   "name": "python3"
  },
  "language_info": {
   "codemirror_mode": {
    "name": "ipython",
    "version": 3
   },
   "file_extension": ".py",
   "mimetype": "text/x-python",
   "name": "python",
   "nbconvert_exporter": "python",
   "pygments_lexer": "ipython3",
   "version": "3.9.7"
  }
 },
 "nbformat": 4,
 "nbformat_minor": 5
}
