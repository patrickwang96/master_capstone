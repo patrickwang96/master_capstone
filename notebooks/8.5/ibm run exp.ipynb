{
 "cells": [
  {
   "cell_type": "code",
   "execution_count": 1,
   "id": "f158d961",
   "metadata": {},
   "outputs": [],
   "source": [
    "import subprocess\n",
    "import re\n",
    "from multiprocessing import Pool\n",
    "from time import sleep"
   ]
  },
  {
   "cell_type": "code",
   "execution_count": 2,
   "id": "8e68d05b",
   "metadata": {},
   "outputs": [],
   "source": [
    "poll_command = ['/usr/local/bin/ibmcloud', 'fn', 'activation', 'poll']"
   ]
  },
  {
   "cell_type": "code",
   "execution_count": 3,
   "id": "dff16de0",
   "metadata": {},
   "outputs": [],
   "source": [
    "activation_list = ['/usr/local/bin/ibmcloud', 'fn', 'activation', 'list']\n",
    "invoke_activation = ['/usr/local/bin/ibmcloud', 'fn', 'action', 'invoke', 'cache_exp_ibm']\n",
    "get_activation = ['/usr/local/bin/ibmcloud', 'fn', 'activation', 'get']"
   ]
  },
  {
   "cell_type": "code",
   "execution_count": 4,
   "id": "8f1e5605",
   "metadata": {},
   "outputs": [],
   "source": [
    "pattern = re.compile('\\s*[a-z0-9]+\\s*blackbox')"
   ]
  },
  {
   "cell_type": "code",
   "execution_count": 5,
   "id": "5526c714",
   "metadata": {},
   "outputs": [],
   "source": [
    "def find_all_activation_id():\n",
    "    p = subprocess.Popen(activation_list, stdout=subprocess.PIPE)\n",
    "    ret = p.stdout.read()\n",
    "    ret = ret.decode('ascii')\n",
    "    ret_list = pattern.findall(ret)\n",
    "    p.kill()\n",
    "    return set(map(lambda i: i.split(' ')[1], ret_list))"
   ]
  },
  {
   "cell_type": "code",
   "execution_count": 6,
   "id": "73a9f329",
   "metadata": {},
   "outputs": [],
   "source": [
    "# %time find_all_activation_id()"
   ]
  },
  {
   "cell_type": "code",
   "execution_count": 7,
   "id": "2f0c2a83",
   "metadata": {},
   "outputs": [],
   "source": [
    "def invoke_new_func():\n",
    "    p = subprocess.Popen(invoke_activation, stdout=subprocess.PIPE)\n",
    "    ret = p.stdout.read()\n",
    "    ret = ret.decode('ascii')\n",
    "    p.kill()\n",
    "    return ret.strip().split(' ')[-1]"
   ]
  },
  {
   "cell_type": "code",
   "execution_count": 8,
   "id": "6fde5fa6",
   "metadata": {},
   "outputs": [],
   "source": [
    "# %time invoke_new_func()"
   ]
  },
  {
   "cell_type": "code",
   "execution_count": 9,
   "id": "403cbd0e",
   "metadata": {},
   "outputs": [],
   "source": [
    "def run(con=1):\n",
    "    p_list = []\n",
    "    for i in range(con):\n",
    "        p_list.append(subprocess.Popen(invoke_activation, stdout=subprocess.PIPE))\n",
    "    ret_list = []\n",
    "    for p in p_list:\n",
    "        ret = p.stdout.read()\n",
    "        ret = ret.decode('ascii')\n",
    "        ret_list.append(ret.strip().split(' ')[-1])\n",
    "        p.kill()\n",
    "    return set(ret_list)"
   ]
  },
  {
   "cell_type": "code",
   "execution_count": 11,
   "id": "68c301da",
   "metadata": {},
   "outputs": [],
   "source": [
    "def run_block(con=1):\n",
    "    current_ids = run(con)\n",
    "    sleep(215)\n",
    "    while not current_ids.issubset(find_all_activation_id()):\n",
    "        pass\n",
    "    return current_ids"
   ]
  },
  {
   "cell_type": "code",
   "execution_count": 62,
   "id": "62adb92f",
   "metadata": {},
   "outputs": [
    {
     "name": "stderr",
     "output_type": "stream",
     "text": [
      "fatal: bad g in signal handler\n"
     ]
    },
    {
     "name": "stdout",
     "output_type": "stream",
     "text": [
      "CPU times: user 469 ms, sys: 3.26 s, total: 3.73 s\n",
      "Wall time: 3min 48s\n"
     ]
    },
    {
     "data": {
      "text/plain": [
       "{'2995e066f4cb405295e066f4cbe05278', 'db113371cd004328913371cd00a32830'}"
      ]
     },
     "execution_count": 62,
     "metadata": {},
     "output_type": "execute_result"
    }
   ],
   "source": [
    "%time run_block(2)"
   ]
  },
  {
   "cell_type": "code",
   "execution_count": 12,
   "id": "2c4d3a17",
   "metadata": {},
   "outputs": [],
   "source": [
    "def get_exp_result(activation_id, con):\n",
    "    get_acti_with_id = list(get_activation)\n",
    "    get_acti_with_id.append(activation_id)\n",
    "    \n",
    "    p = subprocess.Popen(get_acti_with_id, stdout=subprocess.PIPE)\n",
    "    ret = p.stdout.read()\n",
    "    ret = ret.decode('ascii')\n",
    "    p.kill()\n",
    "    ret = ret[ret.find('\\n')+1:]\n",
    "    with open('./data/activations/{}-{}.json'.format(con,activation_id), 'w') as f:\n",
    "        f.write(ret)\n",
    "    return ret"
   ]
  },
  {
   "cell_type": "code",
   "execution_count": 41,
   "id": "67dcbf11",
   "metadata": {},
   "outputs": [
    {
     "name": "stdout",
     "output_type": "stream",
     "text": [
      "CPU times: user 2.24 ms, sys: 15.5 ms, total: 17.7 ms\n",
      "Wall time: 693 ms\n"
     ]
    }
   ],
   "source": [
    "# %time ret = get_exp_result('1f006abf04124b02806abf04120b02b1', 3)"
   ]
  },
  {
   "cell_type": "code",
   "execution_count": 49,
   "id": "249d8a85",
   "metadata": {},
   "outputs": [
    {
     "data": {
      "text/plain": [
       "{1, 2, 3}"
      ]
     },
     "execution_count": 49,
     "metadata": {},
     "output_type": "execute_result"
    }
   ],
   "source": [
    "a"
   ]
  },
  {
   "cell_type": "code",
   "execution_count": 51,
   "id": "84553d7c",
   "metadata": {},
   "outputs": [
    {
     "data": {
      "text/plain": [
       "'{1, 2, 3}'"
      ]
     },
     "execution_count": 51,
     "metadata": {},
     "output_type": "execute_result"
    }
   ],
   "source": [
    "str(a)"
   ]
  },
  {
   "cell_type": "code",
   "execution_count": null,
   "id": "12149c92",
   "metadata": {},
   "outputs": [],
   "source": []
  },
  {
   "cell_type": "code",
   "execution_count": null,
   "id": "f9c989b3",
   "metadata": {},
   "outputs": [],
   "source": []
  },
  {
   "cell_type": "code",
   "execution_count": 13,
   "id": "8f49ce52",
   "metadata": {},
   "outputs": [
    {
     "name": "stdout",
     "output_type": "stream",
     "text": [
      "CPU times: user 3.23 ms, sys: 18.9 ms, total: 22.1 ms\n",
      "Wall time: 707 ms\n"
     ]
    },
    {
     "data": {
      "text/plain": [
       "{'009b5b95e56c45039b5b95e56ca50381',\n",
       " '0c6116aea3e94407a116aea3e9540739',\n",
       " '1b2f9f5d55f244a3af9f5d55f254a3a6',\n",
       " '267cdc0f42f44e35bcdc0f42f44e353f',\n",
       " '2b75c9f13059438ab5c9f13059638aa4',\n",
       " '31fa79146e6c488aba79146e6c688a88',\n",
       " '34c4dd8bc2a6430784dd8bc2a6d307fa',\n",
       " '3a210b2a35344ab1a10b2a3534fab13b',\n",
       " '3a2caab3d81b48ccacaab3d81b68cc69',\n",
       " '4259ffc3d2c24b0199ffc3d2c2fb0198',\n",
       " '4338ae7896b64f6eb8ae7896b69f6ef7',\n",
       " '49514b71b5a34b36914b71b5a39b368c',\n",
       " '5cb005b27a3d41b9b005b27a3d41b93d',\n",
       " '661cb047687346b89cb0476873c6b84e',\n",
       " '69a701c51bcb486da701c51bcb886d6d',\n",
       " '69ea93260c1d47bfaa93260c1d87bf2b',\n",
       " '6ab47c1ddd54484eb47c1ddd54284e1d',\n",
       " '79cd470effde4f158d470effde2f15f3',\n",
       " '7d0430b9c38c49d08430b9c38cc9d0a0',\n",
       " '7df3810f9cd941e2b3810f9cd951e277',\n",
       " '80a97f18f8f94c2aa97f18f8f9fc2ac2',\n",
       " '916e46b1a16d4467ae46b1a16d04678f',\n",
       " '9ec55fc0801f4da1855fc0801fcda19a',\n",
       " 'b4219c4d36074501a19c4d36071501c7',\n",
       " 'bba9bb21a73f4678a9bb21a73f46784b',\n",
       " 'de4c25e54c6641498c25e54c66a14961',\n",
       " 'e3a6aaa238384205a6aaa23838e205c8',\n",
       " 'f391656670c644dc91656670c6f4dcf5',\n",
       " 'f9515960890c4178915960890c1178b0',\n",
       " 'f9fd5d57a5f64fa0bd5d57a5f68fa012'}"
      ]
     },
     "execution_count": 13,
     "metadata": {},
     "output_type": "execute_result"
    }
   ],
   "source": [
    "%time find_all_activation_id()"
   ]
  },
  {
   "cell_type": "code",
   "execution_count": 14,
   "id": "fc580519",
   "metadata": {},
   "outputs": [],
   "source": [
    "def write_ids(ids, con):\n",
    "    output = str(ids)\n",
    "    with open('./data/{}-id.txt'.format(con), 'w') as f:\n",
    "        f.write(output)"
   ]
  },
  {
   "cell_type": "markdown",
   "id": "a2780891",
   "metadata": {},
   "source": [
    "# actual exp"
   ]
  },
  {
   "cell_type": "code",
   "execution_count": 15,
   "id": "1e8246a8",
   "metadata": {},
   "outputs": [],
   "source": [
    "def run_exp(con=30, start=1):\n",
    "    old_activation_ids = find_all_activation_id()\n",
    "    exp_activation_ids = []\n",
    "\n",
    "    for i in range(start, con+1):\n",
    "        print('Invoked for con={}'.format(i))\n",
    "        run_block(i)\n",
    "        current_ids = run_block(i)\n",
    "        exp_activation_ids.append(current_ids)\n",
    "#         print('Invoked for con={}'.format(1))\n",
    "        print('ID:')\n",
    "#         print(current_ids)\n",
    "        write_ids(current_ids, i)\n",
    "        print('Done\\n\\n')\n",
    "    return exp_activation_ids"
   ]
  },
  {
   "cell_type": "code",
   "execution_count": 17,
   "id": "7fd3669b",
   "metadata": {
    "scrolled": false
   },
   "outputs": [
    {
     "name": "stdout",
     "output_type": "stream",
     "text": [
      "Invoked for con=28\n",
      "ID:\n",
      "Done\n",
      "\n",
      "\n",
      "Invoked for con=29\n",
      "ID:\n",
      "Done\n",
      "\n",
      "\n",
      "Invoked for con=30\n",
      "ID:\n",
      "Done\n",
      "\n",
      "\n"
     ]
    },
    {
     "data": {
      "text/plain": [
       "[{'1102d4c78a5e458e82d4c78a5e058e04',\n",
       "  '122436c64a284964a436c64a28496463',\n",
       "  '2868b33d2e51422ba8b33d2e51422b17',\n",
       "  '2cc15bf22b764e6b815bf22b76be6bc3',\n",
       "  '375d7a8ab24a42109d7a8ab24a221017',\n",
       "  '3ea86567a715472ba86567a715b72bdf',\n",
       "  '5c4133a617dd4fe28133a617dd8fe225',\n",
       "  '5f4706e7b51d42638706e7b51d62635b',\n",
       "  '68a0098cb3464377a0098cb3465377d5',\n",
       "  '68d631027add4b9e9631027addfb9e90',\n",
       "  '756fc4ddf6e34564afc4ddf6e3a56447',\n",
       "  '7d2071fb4a5145f5a071fb4a5165f55f',\n",
       "  '8b972252d1a24a9d972252d1a2ea9d19',\n",
       "  '8d6e19c623ff48caae19c623ff08ca1e',\n",
       "  'a1db00fdfa674ecc9b00fdfa677ecc29',\n",
       "  'a650453de35c451590453de35c25151e',\n",
       "  'b9fe5e63cf1346e8be5e63cf1326e854',\n",
       "  'bb3e5a71495d4d94be5a71495dcd941e',\n",
       "  'c7cf1dcc495b40758f1dcc495b2075c5',\n",
       "  'd5483a58a54345a6883a58a543a5a623',\n",
       "  'da3a422472464db1ba422472468db1ba',\n",
       "  'de6f61d35a2f4b8daf61d35a2f5b8d25',\n",
       "  'e0eaed79ead34fc2aaed79ead36fc2a8',\n",
       "  'e4766d66537d4387b66d66537d13871b',\n",
       "  'f307171cf8944e3987171cf8948e3988',\n",
       "  'f909388024884cd689388024883cd646',\n",
       "  'fc9620e45d67420f9620e45d67320f58',\n",
       "  'fd3acd5ee5cd443abacd5ee5cdb43a14'},\n",
       " {'0158cfb84833425298cfb84833d25243',\n",
       "  '1487c955695947be87c9556959b7be11',\n",
       "  '306b3fd0fcfe45f1ab3fd0fcfe15f10f',\n",
       "  '3bcb6f0cfaab4ea58b6f0cfaab4ea579',\n",
       "  '5edd204b140c4a199d204b140cea1946',\n",
       "  '611b5ed1da9a4eea9b5ed1da9a7eea5b',\n",
       "  '61fb74654ccd4a99bb74654ccd9a9989',\n",
       "  '7302bbd2051c4e2482bbd2051c3e249e',\n",
       "  '777871d5998046d9b871d5998066d9d0',\n",
       "  '83c2aa7537044a0f82aa7537042a0f4a',\n",
       "  '846c3a4d7dff4a7dac3a4d7dffaa7d7d',\n",
       "  '8a0e5041059846168e50410598161674',\n",
       "  '8d0546385ab74e258546385ab74e2540',\n",
       "  'a41434f082064df69434f08206ddf60c',\n",
       "  'a6f480ecc8ec469ab480ecc8ec269ac6',\n",
       "  'b64a1bfd618841158a1bfd61886115dc',\n",
       "  'ba482371e9e545c8882371e9e525c8a0',\n",
       "  'ba8b5b952c474f0f8b5b952c47df0f72',\n",
       "  'bb76facf21ed4826b6facf21edf8261f',\n",
       "  'ca7f84dcc3b3472bbf84dcc3b3372bbd',\n",
       "  'cbcf828691c4402b8f828691c4102bbb',\n",
       "  'd0db8440a3684eec9b8440a3688eecd1',\n",
       "  'd2e0be0336c44c7fa0be0336c4dc7f28',\n",
       "  'd6af6fde61954022af6fde6195e0222d',\n",
       "  'd82546dd7ac947ffa546dd7ac957ffca',\n",
       "  'e3edf1ee0c3645cfadf1ee0c3655cf27',\n",
       "  'eb84cdda91b4430a84cdda91b4430ade',\n",
       "  'ef9885513ab54e9c9885513ab5ae9c34',\n",
       "  'ffcea15753a34f6e8ea15753a34f6e72'},\n",
       " {'09927b336e4a4076927b336e4a107679',\n",
       "  '1a45bccd2fb144d685bccd2fb154d63c',\n",
       "  '1cca6b382931429e8a6b382931e29e91',\n",
       "  '25f71067b9444fcab71067b944afca73',\n",
       "  '2864fe9448334053a4fe944833c05378',\n",
       "  '3841b7df5c1d474681b7df5c1d6746e1',\n",
       "  '3bc1025ef8554d1181025ef855dd11bf',\n",
       "  '3c4769d9b7ed4f678769d9b7ed2f67f8',\n",
       "  '41c67daad3244eb4867daad324eeb4d9',\n",
       "  '438f4d87f9d949fd8f4d87f9d939fd27',\n",
       "  '44d93400d00443ef993400d004a3efbf',\n",
       "  '4f83b662983d4cc483b662983dacc4b8',\n",
       "  '5a1655506169449e9655506169d49ea9',\n",
       "  '5b9fc0dd5b0b40679fc0dd5b0be067f0',\n",
       "  '6055f537cb11415495f537cb11c15431',\n",
       "  '6329314c5e5b4a30a9314c5e5b6a3010',\n",
       "  '70fa21e434ae41aeba21e434ae81ae95',\n",
       "  '727189d2ce7545b2b189d2ce75b5b285',\n",
       "  '7c441d0776354b8e841d0776359b8e78',\n",
       "  '81da2672e4054d0c9a2672e405bd0c84',\n",
       "  '81e1a1f87b7e4057a1a1f87b7e605780',\n",
       "  '82ad5acc2572458ead5acc2572a58e75',\n",
       "  '90df5625fac042869f5625fac0c286a7',\n",
       "  'ac36a9e5ebb74c50b6a9e5ebb70c503e',\n",
       "  'b432853b13064a41b2853b1306aa41ca',\n",
       "  'c95b38e1045e43dd9b38e1045ef3ddb7',\n",
       "  'caec3d131c69425aac3d131c69c25ab5',\n",
       "  'cc628a19ac5c4203a28a19ac5c320307',\n",
       "  'ee1f529de1854ddc9f529de185cddc87',\n",
       "  'fd0ac90b7cec46448ac90b7cec464406'}]"
      ]
     },
     "execution_count": 17,
     "metadata": {},
     "output_type": "execute_result"
    }
   ],
   "source": [
    "run_exp(30, 28)"
   ]
  },
  {
   "cell_type": "code",
   "execution_count": null,
   "id": "41faee76",
   "metadata": {},
   "outputs": [],
   "source": []
  }
 ],
 "metadata": {
  "kernelspec": {
   "display_name": "Python 3 (ipykernel)",
   "language": "python",
   "name": "python3"
  },
  "language_info": {
   "codemirror_mode": {
    "name": "ipython",
    "version": 3
   },
   "file_extension": ".py",
   "mimetype": "text/x-python",
   "name": "python",
   "nbconvert_exporter": "python",
   "pygments_lexer": "ipython3",
   "version": "3.9.7"
  }
 },
 "nbformat": 4,
 "nbformat_minor": 5
}
