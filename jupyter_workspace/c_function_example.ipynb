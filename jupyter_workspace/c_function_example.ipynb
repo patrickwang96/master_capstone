{
 "cells": [
  {
   "cell_type": "markdown",
   "metadata": {},
   "source": [
    "# STEP 1: Import FaaSET"
   ]
  },
  {
   "cell_type": "code",
   "execution_count": 3,
   "metadata": {},
   "outputs": [
    {
     "name": "stdout",
     "output_type": "stream",
     "text": [
      "------------------------------------------------------\n",
      "Welcome to FaaSET v2.0! Some things have changed when\n",
      "compared to v1.0. RunModes and the Containerize arguments\n",
      "have been removed in favor of more available Platforms.\n",
      "Platforms is no longer a list and now functions can\n",
      "only be deployed to a single platform at a time.\n",
      "If you are using a older notebook that has not been\n",
      "updated things will be broken. Please fix them. \n",
      "------------------------------------------------------\n",
      "Loaded platforms:  AWS. IBM Docker. AWS Docker ARM. OpenFaaS EKS. GCF Gen2. OpenFaaS. IBM. AWS Docker. AWS Docker Debian. Azure. Local. GCF. \n",
      "------------------------------------------------------\n",
      "Loaded functions:  hello_world_c. \n"
     ]
    }
   ],
   "source": [
    "import FaaSET"
   ]
  },
  {
   "cell_type": "code",
   "execution_count": 5,
   "metadata": {},
   "outputs": [],
   "source": [
    "import pprint\n",
    "import pandas as pd\n",
    "import numpy as np\n",
    "import time\n",
    "\n",
    "pp = pprint.PrettyPrinter(indent=4)"
   ]
  },
  {
   "cell_type": "markdown",
   "metadata": {},
   "source": [
    "# STEP 2: Create a dummy function. This will setup the folder that we will add files to in the next cells..."
   ]
  },
  {
   "cell_type": "code",
   "execution_count": 5,
   "metadata": {
    "scrolled": false
   },
   "outputs": [
    {
     "data": {
      "text/plain": [
       "{'message': 'Dummy Function'}"
      ]
     },
     "execution_count": 5,
     "metadata": {},
     "output_type": "execute_result"
    }
   ],
   "source": [
    "@FaaSET.cloud_function(platform=\"AWS Docker Debian\")\n",
    "def hello_world_c(request, context): \n",
    "    return {\"message\": \"Dummy Function\"}   \n",
    "\n",
    "hello_world_c({}, None)"
   ]
  },
  {
   "cell_type": "markdown",
   "metadata": {},
   "source": [
    "# STEP 3: Create the C file:"
   ]
  },
  {
   "cell_type": "code",
   "execution_count": 6,
   "metadata": {},
   "outputs": [
    {
     "name": "stdout",
     "output_type": "stream",
     "text": [
      "Writing functions/hello_world_c/hello_world.c\n"
     ]
    }
   ],
   "source": [
    "%%writefile functions/hello_world_c/hello_world.c\n",
    "\n",
    "#include <stdio.h>\n",
    "\n",
    "int main()\n",
    "{\n",
    "    printf(\"Dello\");\n",
    "    return 0;\n",
    "}"
   ]
  },
  {
   "cell_type": "markdown",
   "metadata": {},
   "source": [
    "# STEP 4: Update the Dockerfile to compile the C:"
   ]
  },
  {
   "cell_type": "code",
   "execution_count": 5,
   "metadata": {},
   "outputs": [
    {
     "name": "stdout",
     "output_type": "stream",
     "text": [
      "Overwriting functions/hello_world_c/Dockerfile\n"
     ]
    }
   ],
   "source": [
    "%%writefile functions/hello_world_c/Dockerfile\n",
    "\n",
    "#FROM python:buster as build-image\n",
    "FROM python:3.8-slim-buster\n",
    "\n",
    "# Update and install curl. \n",
    "RUN apt update\n",
    "RUN apt install -y curl build-essential \n",
    "\n",
    "# Define and create function directory\n",
    "ENV FUNCTION_DIR=\"/var/task\"\n",
    "RUN mkdir -p ${FUNCTION_DIR}\n",
    "\n",
    "# Copy function code\n",
    "COPY . ${FUNCTION_DIR}\n",
    "\n",
    "RUN pip install boto3 botocore\n",
    "\n",
    "# Install the runtime interface client\n",
    "RUN pip install \\\n",
    "        --target ${FUNCTION_DIR} \\\n",
    "        awslambdaric\n",
    "\n",
    "# Install the runtime interface emulator\n",
    "RUN curl -Lo /usr/local/bin/aws-lambda-rie https://github.com/aws/aws-lambda-runtime-interface-emulator/releases/latest/download/aws-lambda-rie\n",
    "RUN chmod +x /usr/local/bin/aws-lambda-rie\n",
    "\n",
    "# Set working directory\n",
    "WORKDIR ${FUNCTION_DIR}\n",
    "\n",
    "# Compile C code\n",
    "RUN gcc -o stream.10M -O -DSTREAM_ARRAY_SIZE=10000000 -DNTIMES=10 stream_small.c\n",
    "\n",
    "\n",
    "# Set entry script that determines whether to run RIE if running locally\n",
    "COPY ./entry_script.sh /entry_script.sh\n",
    "RUN chmod +x /entry_script.sh\n",
    "ENTRYPOINT [ \"/entry_script.sh\" ]\n",
    "\n",
    "# Set handler\n",
    "CMD [ \"lambda_function.lambda_handler\" ]"
   ]
  },
  {
   "cell_type": "markdown",
   "metadata": {},
   "source": [
    "# Step 5: Create your real function that will shell out and run the C:"
   ]
  },
  {
   "cell_type": "code",
   "execution_count": 17,
   "metadata": {},
   "outputs": [],
   "source": [
    "# @FaaSET.cloud_function(platform=\"AWS Docker Debian\", config={\"memory\": 259, \"profile\": \"personal\"})\n",
    "@FaaSET.cloud_function(platform=\"AWS Docker Debian\", config={\"memory\": 259})\n",
    "def hello_world_c(request, context): \n",
    "    import subprocess\n",
    "\n",
    "    from SAAF import Inspector\n",
    "    inspector = Inspector()\n",
    "    inspector.inspectAll()\n",
    "    \n",
    "    command = \"./stream.10M\"\n",
    "    metric_outputs = list()\n",
    "    for x in range(20):\n",
    "        output = subprocess.check_output(command.split()).decode('ascii')\n",
    "        data = output.split('\\n')[23:27]\n",
    "        metric = list(map(lambda i: list(map(float, i.split()[1:])), data))\n",
    "        metric_outputs.append(metric)\n",
    "    inspector.addAttribute(\"stream_metric\", metric_outputs)\n",
    "    inspector.inspectAllDeltas()\n",
    "    return inspector.finish()\n",
    "#     return {\"message\": output}   \n",
    "\n",
    "# hello_world_c({}, None)"
   ]
  },
  {
   "cell_type": "code",
   "execution_count": null,
   "metadata": {},
   "outputs": [],
   "source": []
  },
  {
   "cell_type": "code",
   "execution_count": null,
   "metadata": {},
   "outputs": [],
   "source": [
    "metric"
   ]
  },
  {
   "cell_type": "code",
   "execution_count": null,
   "metadata": {},
   "outputs": [],
   "source": []
  },
  {
   "cell_type": "code",
   "execution_count": null,
   "metadata": {},
   "outputs": [],
   "source": []
  },
  {
   "cell_type": "code",
   "execution_count": null,
   "metadata": {},
   "outputs": [],
   "source": []
  },
  {
   "cell_type": "code",
   "execution_count": null,
   "metadata": {},
   "outputs": [],
   "source": []
  },
  {
   "cell_type": "code",
   "execution_count": null,
   "metadata": {},
   "outputs": [],
   "source": []
  },
  {
   "cell_type": "code",
   "execution_count": 18,
   "metadata": {
    "collapsed": true
   },
   "outputs": [
    {
     "name": "stdout",
     "output_type": "stream",
     "text": [
      "Build: Loading config...\n",
      "Build: Purging previous build...\n",
      "Build: Copying files...\n",
      "Build: Cleaning up...\n",
      "Build: Building Docker Image...\n",
      "Sending build context to Docker daemon  64.51kB\n",
      "\n",
      "Step 1/16 : FROM python:3.8-slim-buster\n",
      " ---> c706fbd78639\n",
      "Step 2/16 : RUN apt update\n",
      " ---> Using cache\n",
      " ---> 9e15b7761466\n",
      "Step 3/16 : RUN apt install -y curl build-essential\n",
      " ---> Using cache\n",
      " ---> d20ecd952a4a\n",
      "Step 4/16 : ENV FUNCTION_DIR=\"/var/task\"\n",
      " ---> Using cache\n",
      " ---> 8c2971bc0243\n",
      "Step 5/16 : RUN mkdir -p ${FUNCTION_DIR}\n",
      " ---> Using cache\n",
      " ---> ec6f531b3418\n",
      "Step 6/16 : COPY . ${FUNCTION_DIR}\n",
      " ---> f2bbb74b5356\n",
      "Step 7/16 : RUN pip install boto3 botocore\n",
      " ---> Running in a15ca16c5b2a\n",
      "Collecting boto3\n",
      "  Downloading boto3-1.23.3-py3-none-any.whl (132 kB)\n",
      "     ━━━━━━━━━━━━━━━━━━━━━━━━━━━━━━━━━━━━━━ 132.5/132.5 KB 14.2 MB/s eta 0:00:00\n",
      "Collecting botocore\n",
      "  Downloading botocore-1.26.3-py3-none-any.whl (8.8 MB)\n",
      "     ━━━━━━━━━━━━━━━━━━━━━━━━━━━━━━━━━━━━━━━━ 8.8/8.8 MB 22.6 MB/s eta 0:00:00\n",
      "Collecting jmespath<2.0.0,>=0.7.1\n",
      "  Downloading jmespath-1.0.0-py3-none-any.whl (23 kB)\n",
      "Collecting s3transfer<0.6.0,>=0.5.0\n",
      "  Downloading s3transfer-0.5.2-py3-none-any.whl (79 kB)\n",
      "     ━━━━━━━━━━━━━━━━━━━━━━━━━━━━━━━━━━━━━━━━ 79.5/79.5 KB 12.5 MB/s eta 0:00:00\n",
      "Collecting python-dateutil<3.0.0,>=2.1\n",
      "  Downloading python_dateutil-2.8.2-py2.py3-none-any.whl (247 kB)\n",
      "     ━━━━━━━━━━━━━━━━━━━━━━━━━━━━━━━━━━━━━━ 247.7/247.7 KB 22.9 MB/s eta 0:00:00\n",
      "Collecting urllib3<1.27,>=1.25.4\n",
      "  Downloading urllib3-1.26.9-py2.py3-none-any.whl (138 kB)\n",
      "     ━━━━━━━━━━━━━━━━━━━━━━━━━━━━━━━━━━━━━━ 139.0/139.0 KB 17.3 MB/s eta 0:00:00\n",
      "Collecting six>=1.5\n",
      "  Downloading six-1.16.0-py2.py3-none-any.whl (11 kB)\n",
      "Installing collected packages: urllib3, six, jmespath, python-dateutil, botocore, s3transfer, boto3\n",
      "Successfully installed boto3-1.23.3 botocore-1.26.3 jmespath-1.0.0 python-dateutil-2.8.2 s3transfer-0.5.2 six-1.16.0 urllib3-1.26.9\n",
      "\u001b[91mWARNING: Running pip as the 'root' user can result in broken permissions and conflicting behaviour with the system package manager. It is recommended to use a virtual environment instead: https://pip.pypa.io/warnings/venv\n",
      "\u001b[0m\u001b[91mWARNING: You are using pip version 22.0.4; however, version 22.1 is available.\n",
      "You should consider upgrading via the '/usr/local/bin/python -m pip install --upgrade pip' command.\n",
      "\u001b[0mRemoving intermediate container a15ca16c5b2a\n",
      " ---> 026bfea2bd43\n",
      "Step 8/16 : RUN pip install         --target ${FUNCTION_DIR}         awslambdaric\n",
      " ---> Running in 2b39a659041b\n",
      "Collecting awslambdaric\n",
      "  Downloading awslambdaric-2.0.3-cp38-cp38-manylinux_2_17_x86_64.manylinux2014_x86_64.whl (338 kB)\n",
      "     ━━━━━━━━━━━━━━━━━━━━━━━━━━━━━━━━━━━━━━ 338.1/338.1 KB 13.5 MB/s eta 0:00:00\n",
      "Collecting simplejson==3.17.2\n",
      "  Downloading simplejson-3.17.2-cp38-cp38-manylinux2010_x86_64.whl (137 kB)\n",
      "     ━━━━━━━━━━━━━━━━━━━━━━━━━━━━━━━━━━━━━━ 137.9/137.9 KB 18.2 MB/s eta 0:00:00\n",
      "Installing collected packages: simplejson, awslambdaric\n",
      "Successfully installed awslambdaric-2.0.3 simplejson-3.17.2\n",
      "\u001b[91mWARNING: Running pip as the 'root' user can result in broken permissions and conflicting behaviour with the system package manager. It is recommended to use a virtual environment instead: https://pip.pypa.io/warnings/venv\n",
      "\u001b[0m\u001b[91mWARNING: You are using pip version 22.0.4; however, version 22.1 is available.\n",
      "You should consider upgrading via the '/usr/local/bin/python -m pip install --upgrade pip' command.\n",
      "\u001b[0mRemoving intermediate container 2b39a659041b\n",
      " ---> 1886f083bfb0\n",
      "Step 9/16 : RUN curl -Lo /usr/local/bin/aws-lambda-rie https://github.com/aws/aws-lambda-runtime-interface-emulator/releases/latest/download/aws-lambda-rie\n",
      " ---> Running in d37c89810c89\n",
      "\u001b[91m  % Total    % Received % Xferd  Average Speed   Time    Time     Time  Current\u001b[0m\u001b[91m\n",
      "                                 Dload  Upload   Total   Spent    Left  Speed\n",
      "\n",
      "  0     0    0     0    0     0      0      0 --:--:-- --:--:-- --:--:--     0\u001b[0m\u001b[91m\n",
      "  0     0    0     0    0     0      0      0 --:--:-- --:--:-- --:--:--     0\n",
      "  0     0\u001b[0m\u001b[91m    0     0    0     0      0      0 --:--:-- --:--:-- --:--:--     0\n",
      "\u001b[0m\u001b[91m\n",
      "  0     0    0     0    0     0      0      0 --:--:-- --:--:-- --:--:--     0\n",
      "\u001b[0m\u001b[91m\n",
      "100 5428k  100 5428k    0     0  5805k      0 --:--:-- --:--:-- --:--:-- 5805k\n",
      "\u001b[0mRemoving intermediate container d37c89810c89\n",
      " ---> 180a7c9dbc87\n",
      "Step 10/16 : RUN chmod +x /usr/local/bin/aws-lambda-rie\n",
      " ---> Running in 6c914ac7c964\n",
      "Removing intermediate container 6c914ac7c964\n",
      " ---> 993103f7e6e6\n",
      "Step 11/16 : WORKDIR ${FUNCTION_DIR}\n",
      " ---> Running in 5309977ac368\n",
      "Removing intermediate container 5309977ac368\n",
      " ---> 66b0cda68de7\n",
      "Step 12/16 : RUN gcc -o stream.10M -O -DSTREAM_ARRAY_SIZE=10000000 -DNTIMES=10 stream_small.c\n",
      " ---> Running in b26ea3d8ebef\n",
      "Removing intermediate container b26ea3d8ebef\n",
      " ---> 29a48ff4774e\n",
      "Step 13/16 : COPY ./entry_script.sh /entry_script.sh\n",
      " ---> 65b214beacf2\n",
      "Step 14/16 : RUN chmod +x /entry_script.sh\n",
      " ---> Running in 6a0140ee5d9e\n",
      "Removing intermediate container 6a0140ee5d9e\n",
      " ---> 783e3f2a23ba\n",
      "Step 15/16 : ENTRYPOINT [ \"/entry_script.sh\" ]\n",
      " ---> Running in 1890e71b728d\n",
      "Removing intermediate container 1890e71b728d\n",
      " ---> a2ad3b009d15\n",
      "Step 16/16 : CMD [ \"lambda_function.lambda_handler\" ]\n",
      " ---> Running in a3feed77f657\n",
      "Removing intermediate container a3feed77f657\n",
      " ---> 393f1bc36dbd\n",
      "Successfully built 393f1bc36dbd\n",
      "Successfully tagged hello_world_c:latest\n",
      "Loading config...\n",
      "Creating AWS Registry...\n",
      "Pushing Docker Image...\n",
      "Login Succeeded\n",
      "The push refers to repository [975118141701.dkr.ecr.us-east-2.amazonaws.com/saaf-functions]\n",
      "59bcaaf174f9: Preparing\n",
      "d644c240a130: Preparing\n",
      "8b14171e50bb: Preparing\n",
      "8b9af24f7270: Preparing\n",
      "72b472fe9971: Preparing\n",
      "90b7ddb5b799: Preparing\n",
      "d99217998196: Preparing\n",
      "49842bbdfef6: Preparing\n",
      "de2570e75dd4: Preparing\n",
      "b1992061da68: Preparing\n",
      "691cded49eda: Preparing\n",
      "ae7b8bf407ae: Preparing\n",
      "3b7939c395bc: Preparing\n",
      "04b6df205788: Preparing\n",
      "832439eadb07: Preparing\n",
      "0ad3ddf4a4ce: Preparing\n",
      "90b7ddb5b799: Waiting\n",
      "d99217998196: Waiting\n",
      "49842bbdfef6: Waiting\n",
      "de2570e75dd4: Waiting\n",
      "b1992061da68: Waiting\n",
      "691cded49eda: Waiting\n",
      "ae7b8bf407ae: Waiting\n",
      "3b7939c395bc: Waiting\n",
      "04b6df205788: Waiting\n",
      "832439eadb07: Waiting\n",
      "0ad3ddf4a4ce: Waiting\n",
      "d644c240a130: Pushed\n",
      "59bcaaf174f9: Pushed\n",
      "8b14171e50bb: Pushed\n",
      "8b9af24f7270: Pushed\n",
      "72b472fe9971: Pushed\n",
      "de2570e75dd4: Layer already exists\n",
      "b1992061da68: Layer already exists\n",
      "691cded49eda: Layer already exists\n",
      "ae7b8bf407ae: Layer already exists\n",
      "49842bbdfef6: Pushed\n",
      "04b6df205788: Layer already exists\n",
      "3b7939c395bc: Layer already exists\n",
      "832439eadb07: Layer already exists\n",
      "90b7ddb5b799: Pushed\n",
      "0ad3ddf4a4ce: Layer already exists\n",
      "d99217998196: Pushed\n",
      "hello_world_c: digest: sha256:59acbad5487aab86d674c161d85201bd1d6dd092479a3a8e48902f3105122db4 size: 3678\n",
      "Removing login credentials for https://index.docker.io/v1/\n",
      "Deploying function...\n",
      "{\n",
      "    \"FunctionName\": \"hello_world_c\",\n",
      "    \"FunctionArn\": \"arn:aws:lambda:us-east-2:975118141701:function:hello_world_c\",\n",
      "    \"Role\": \"arn:aws:iam::975118141701:role/service-role/hello_world_c-role-bquz7rbj\",\n",
      "    \"CodeSize\": 0,\n",
      "    \"Description\": \"\",\n",
      "    \"Timeout\": 110,\n",
      "    \"MemorySize\": 2048,\n",
      "    \"LastModified\": \"2022-05-19T00:18:07.000+0000\",\n",
      "    \"CodeSha256\": \"59acbad5487aab86d674c161d85201bd1d6dd092479a3a8e48902f3105122db4\",\n",
      "    \"Version\": \"$LATEST\",\n",
      "    \"TracingConfig\": {\n",
      "        \"Mode\": \"PassThrough\"\n",
      "    },\n",
      "    \"RevisionId\": \"3ea1e63d-6ee4-4b03-b82e-fdebb2433257\",\n",
      "    \"State\": \"Active\",\n",
      "    \"LastUpdateStatus\": \"InProgress\",\n",
      "    \"LastUpdateStatusReason\": \"The function is being created.\",\n",
      "    \"LastUpdateStatusReasonCode\": \"Creating\",\n",
      "    \"PackageType\": \"Image\",\n",
      "    \"ImageConfigResponse\": {},\n",
      "    \"Architectures\": [\n",
      "        \"x86_64\"\n",
      "    ],\n",
      "    \"EphemeralStorage\": {\n",
      "        \"Size\": 512\n",
      "    }\n",
      "}\n",
      "Build: Loading config...\n",
      "Build: Purging previous build...\n",
      "Build: Copying files...\n",
      "Build: Cleaning up...\n",
      "Build: Building Docker Image...\n",
      "Sending build context to Docker daemon  64.51kB\n",
      "\n",
      "Step 1/16 : FROM python:3.8-slim-buster\n",
      " ---> c706fbd78639\n",
      "Step 2/16 : RUN apt update\n",
      " ---> Using cache\n",
      " ---> 9e15b7761466\n",
      "Step 3/16 : RUN apt install -y curl build-essential\n",
      " ---> Using cache\n",
      " ---> d20ecd952a4a\n",
      "Step 4/16 : ENV FUNCTION_DIR=\"/var/task\"\n",
      " ---> Using cache\n",
      " ---> 8c2971bc0243\n",
      "Step 5/16 : RUN mkdir -p ${FUNCTION_DIR}\n",
      " ---> Using cache\n",
      " ---> ec6f531b3418\n",
      "Step 6/16 : COPY . ${FUNCTION_DIR}\n"
     ]
    },
    {
     "name": "stdout",
     "output_type": "stream",
     "text": [
      " ---> bf1f7d228777\n",
      "Step 7/16 : RUN pip install boto3 botocore\n",
      " ---> Running in 5ee8774d3541\n",
      "Collecting boto3\n",
      "  Downloading boto3-1.23.3-py3-none-any.whl (132 kB)\n",
      "     ━━━━━━━━━━━━━━━━━━━━━━━━━━━━━━━━━━━━━━ 132.5/132.5 KB 12.5 MB/s eta 0:00:00\n",
      "Collecting botocore\n",
      "  Downloading botocore-1.26.3-py3-none-any.whl (8.8 MB)\n",
      "     ━━━━━━━━━━━━━━━━━━━━━━━━━━━━━━━━━━━━━━━━ 8.8/8.8 MB 31.0 MB/s eta 0:00:00\n",
      "Collecting jmespath<2.0.0,>=0.7.1\n",
      "  Downloading jmespath-1.0.0-py3-none-any.whl (23 kB)\n",
      "Collecting s3transfer<0.6.0,>=0.5.0\n",
      "  Downloading s3transfer-0.5.2-py3-none-any.whl (79 kB)\n",
      "     ━━━━━━━━━━━━━━━━━━━━━━━━━━━━━━━━━━━━━━━━ 79.5/79.5 KB 12.1 MB/s eta 0:00:00\n",
      "Collecting urllib3<1.27,>=1.25.4\n",
      "  Downloading urllib3-1.26.9-py2.py3-none-any.whl (138 kB)\n",
      "     ━━━━━━━━━━━━━━━━━━━━━━━━━━━━━━━━━━━━━━ 139.0/139.0 KB 18.0 MB/s eta 0:00:00\n",
      "Collecting python-dateutil<3.0.0,>=2.1\n",
      "  Downloading python_dateutil-2.8.2-py2.py3-none-any.whl (247 kB)\n",
      "     ━━━━━━━━━━━━━━━━━━━━━━━━━━━━━━━━━━━━━━ 247.7/247.7 KB 22.8 MB/s eta 0:00:00\n",
      "Collecting six>=1.5\n",
      "  Downloading six-1.16.0-py2.py3-none-any.whl (11 kB)\n",
      "Installing collected packages: urllib3, six, jmespath, python-dateutil, botocore, s3transfer, boto3\n",
      "Successfully installed boto3-1.23.3 botocore-1.26.3 jmespath-1.0.0 python-dateutil-2.8.2 s3transfer-0.5.2 six-1.16.0 urllib3-1.26.9\n",
      "\u001b[91mWARNING: Running pip as the 'root' user can result in broken permissions and conflicting behaviour with the system package manager. It is recommended to use a virtual environment instead: https://pip.pypa.io/warnings/venv\n",
      "\u001b[0m\u001b[91mWARNING: You are using pip version 22.0.4; however, version 22.1 is available.\n",
      "You should consider upgrading via the '/usr/local/bin/python -m pip install --upgrade pip' command.\n",
      "\u001b[0mRemoving intermediate container 5ee8774d3541\n",
      " ---> b9e4fe0c3145\n",
      "Step 8/16 : RUN pip install         --target ${FUNCTION_DIR}         awslambdaric\n",
      " ---> Running in dfd217a174cf\n",
      "Collecting awslambdaric\n",
      "  Downloading awslambdaric-2.0.3-cp38-cp38-manylinux_2_17_x86_64.manylinux2014_x86_64.whl (338 kB)\n",
      "     ━━━━━━━━━━━━━━━━━━━━━━━━━━━━━━━━━━━━━━ 338.1/338.1 KB 18.3 MB/s eta 0:00:00\n",
      "Collecting simplejson==3.17.2\n",
      "  Downloading simplejson-3.17.2-cp38-cp38-manylinux2010_x86_64.whl (137 kB)\n",
      "     ━━━━━━━━━━━━━━━━━━━━━━━━━━━━━━━━━━━━━━ 137.9/137.9 KB 18.9 MB/s eta 0:00:00\n",
      "Installing collected packages: simplejson, awslambdaric\n",
      "Successfully installed awslambdaric-2.0.3 simplejson-3.17.2\n",
      "\u001b[91mWARNING: Running pip as the 'root' user can result in broken permissions and conflicting behaviour with the system package manager. It is recommended to use a virtual environment instead: https://pip.pypa.io/warnings/venv\n",
      "\u001b[0m\u001b[91mWARNING: You are using pip version 22.0.4; however, version 22.1 is available.\n",
      "You should consider upgrading via the '/usr/local/bin/python -m pip install --upgrade pip' command.\n",
      "\u001b[0mRemoving intermediate container dfd217a174cf\n",
      " ---> 6f3d4f06133f\n",
      "Step 9/16 : RUN curl -Lo /usr/local/bin/aws-lambda-rie https://github.com/aws/aws-lambda-runtime-interface-emulator/releases/latest/download/aws-lambda-rie\n",
      " ---> Running in 3fd4c5851ace\n",
      "\u001b[91m  % Total    % Received % Xferd  Average Speed   Time    Time    \u001b[0m\u001b[91m Time  Current\n",
      "                                 Dload  Upload   Total   Spent    Left  Speed\n",
      "\n",
      "  0     0    0     0    0     0      0      0 --:--:-- --:--:-- --:--:--     0\u001b[0m\u001b[91m\n",
      "  0     0    0     0    0     0      0      0 --:--:-- --:--:-- --:--:--     \u001b[0m\u001b[91m0\n",
      "  0     0    0     0    0     0      0      0 --:--:-- --:--:-- --:--:--     0\n",
      "\u001b[0m\u001b[91m\n",
      "  0     0    0     0    0     0      0      0 --:--:-- --:--:-- --:--:--     0\n",
      "\u001b[0m\u001b[91m\n",
      "100 5428k  100 5428k    0     0   9.8M      0 --:--:-- --:--:-- --:--:--  9.8M\n",
      "\u001b[0mRemoving intermediate container 3fd4c5851ace\n",
      " ---> 139a9e2707a6\n",
      "Step 10/16 : RUN chmod +x /usr/local/bin/aws-lambda-rie\n",
      " ---> Running in 33dd5fc0807d\n",
      "Removing intermediate container 33dd5fc0807d\n",
      " ---> 7d7d01c589bd\n",
      "Step 11/16 : WORKDIR ${FUNCTION_DIR}\n",
      " ---> Running in 32a80f8fabde\n",
      "Removing intermediate container 32a80f8fabde\n",
      " ---> 34d6ea9a0add\n",
      "Step 12/16 : RUN gcc -o stream.10M -O -DSTREAM_ARRAY_SIZE=10000000 -DNTIMES=10 stream_small.c\n",
      " ---> Running in ab58c57b48c0\n",
      "Removing intermediate container ab58c57b48c0\n",
      " ---> 5d1077d65b12\n",
      "Step 13/16 : COPY ./entry_script.sh /entry_script.sh\n",
      " ---> 503225ff5af3\n",
      "Step 14/16 : RUN chmod +x /entry_script.sh\n",
      " ---> Running in cc9555e74720\n",
      "Removing intermediate container cc9555e74720\n",
      " ---> 5941d0013e11\n",
      "Step 15/16 : ENTRYPOINT [ \"/entry_script.sh\" ]\n",
      " ---> Running in 87cec7273272\n",
      "Removing intermediate container 87cec7273272\n",
      " ---> 493eae20c47a\n",
      "Step 16/16 : CMD [ \"lambda_function.lambda_handler\" ]\n",
      " ---> Running in 18e551a815b8\n",
      "Removing intermediate container 18e551a815b8\n",
      " ---> c657c4c421bb\n",
      "Successfully built c657c4c421bb\n",
      "Successfully tagged hello_world_c:latest\n",
      "Loading config...\n",
      "Creating AWS Registry...\n",
      "Pushing Docker Image...\n",
      "Login Succeeded\n",
      "The push refers to repository [975118141701.dkr.ecr.us-east-2.amazonaws.com/saaf-functions]\n",
      "8aec8c41cb12: Preparing\n",
      "1816d12b5e11: Preparing\n",
      "cb99e50f4a74: Preparing\n",
      "aa66be178683: Preparing\n",
      "63db1b5decd5: Preparing\n",
      "cd578a9959ee: Preparing\n",
      "a5bfda444dd8: Preparing\n",
      "59499f557267: Preparing\n",
      "de2570e75dd4: Preparing\n",
      "b1992061da68: Preparing\n",
      "691cded49eda: Preparing\n",
      "ae7b8bf407ae: Preparing\n",
      "3b7939c395bc: Preparing\n",
      "04b6df205788: Preparing\n",
      "832439eadb07: Preparing\n",
      "0ad3ddf4a4ce: Preparing\n",
      "a5bfda444dd8: Waiting\n",
      "59499f557267: Waiting\n",
      "de2570e75dd4: Waiting\n",
      "b1992061da68: Waiting\n",
      "691cded49eda: Waiting\n",
      "ae7b8bf407ae: Waiting\n",
      "3b7939c395bc: Waiting\n",
      "04b6df205788: Waiting\n",
      "832439eadb07: Waiting\n",
      "0ad3ddf4a4ce: Waiting\n",
      "cd578a9959ee: Waiting\n",
      "cb99e50f4a74: Pushed\n",
      "1816d12b5e11: Pushed\n",
      "8aec8c41cb12: Pushed\n",
      "63db1b5decd5: Pushed\n",
      "aa66be178683: Pushed\n",
      "de2570e75dd4: Layer already exists\n",
      "b1992061da68: Layer already exists\n",
      "59499f557267: Pushed\n",
      "691cded49eda: Layer already exists\n",
      "ae7b8bf407ae: Layer already exists\n",
      "3b7939c395bc: Layer already exists\n",
      "cd578a9959ee: Pushed\n",
      "04b6df205788: Layer already exists\n",
      "832439eadb07: Layer already exists\n",
      "0ad3ddf4a4ce: Layer already exists\n",
      "a5bfda444dd8: Pushed\n",
      "hello_world_c: digest: sha256:338f49f06f95c95b82667fd96f16859e6274405cd451b72d237029a60071bd14 size: 3678\n",
      "Removing login credentials for https://index.docker.io/v1/\n",
      "Deploying function...\n",
      "{\n",
      "    \"FunctionName\": \"hello_world_c\",\n",
      "    \"FunctionArn\": \"arn:aws:lambda:us-east-2:975118141701:function:hello_world_c\",\n",
      "    \"Role\": \"arn:aws:iam::975118141701:role/service-role/hello_world_c-role-bquz7rbj\",\n",
      "    \"CodeSize\": 0,\n",
      "    \"Description\": \"\",\n",
      "    \"Timeout\": 110,\n",
      "    \"MemorySize\": 2048,\n",
      "    \"LastModified\": \"2022-05-19T00:21:49.000+0000\",\n",
      "    \"CodeSha256\": \"338f49f06f95c95b82667fd96f16859e6274405cd451b72d237029a60071bd14\",\n",
      "    \"Version\": \"$LATEST\",\n",
      "    \"TracingConfig\": {\n",
      "        \"Mode\": \"PassThrough\"\n",
      "    },\n",
      "    \"RevisionId\": \"01a64b6e-5c1f-4bd3-87f8-1ef021e4ee1f\",\n",
      "    \"State\": \"Active\",\n",
      "    \"LastUpdateStatus\": \"InProgress\",\n",
      "    \"LastUpdateStatusReason\": \"The function is being created.\",\n",
      "    \"LastUpdateStatusReasonCode\": \"Creating\",\n",
      "    \"PackageType\": \"Image\",\n",
      "    \"ImageConfigResponse\": {},\n",
      "    \"Architectures\": [\n",
      "        \"x86_64\"\n",
      "    ],\n",
      "    \"EphemeralStorage\": {\n",
      "        \"Size\": 512\n",
      "    }\n",
      "}\n",
      "CPU times: user 123 ms, sys: 104 ms, total: 226 ms\n",
      "Wall time: 1min 10s\n"
     ]
    }
   ],
   "source": [
    "%time ret = hello_world_c({}, None)"
   ]
  },
  {
   "cell_type": "markdown",
   "metadata": {},
   "source": [
    "========================"
   ]
  },
  {
   "cell_type": "code",
   "execution_count": 17,
   "metadata": {},
   "outputs": [],
   "source": [
    "from multiprocessing.pool import Pool"
   ]
  },
  {
   "cell_type": "code",
   "execution_count": 1,
   "metadata": {},
   "outputs": [],
   "source": [
    "import requests\n",
    "import json"
   ]
  },
  {
   "cell_type": "code",
   "execution_count": 19,
   "metadata": {},
   "outputs": [
    {
     "name": "stdout",
     "output_type": "stream",
     "text": [
      "CPU times: user 23.2 ms, sys: 7.63 ms, total: 30.8 ms\n",
      "Wall time: 18.4 s\n"
     ]
    }
   ],
   "source": [
    "%time ret = requests.get('https://j4fohrjqqyhud7giienbqoozxa0jrbyj.lambda-url.us-east-2.on.aws/')"
   ]
  },
  {
   "cell_type": "code",
   "execution_count": 2,
   "metadata": {},
   "outputs": [],
   "source": [
    "def run_function(url = 'https://j4fohrjqqyhud7giienbqoozxa0jrbyj.lambda-url.us-east-2.on.aws/'):\n",
    "        ret = requests.get(url)\n",
    "        return json.loads(ret.text)"
   ]
  },
  {
   "cell_type": "markdown",
   "metadata": {},
   "source": [
    "## run 1 time"
   ]
  },
  {
   "cell_type": "code",
   "execution_count": 12,
   "metadata": {},
   "outputs": [
    {
     "name": "stdout",
     "output_type": "stream",
     "text": [
      "CPU times: user 1.22 s, sys: 139 ms, total: 1.36 s\n",
      "Wall time: 14min 17s\n"
     ]
    }
   ],
   "source": [
    "%%time\n",
    "results = []\n",
    "for i in range(50):\n",
    "    ret = run_function()\n",
    "    results.append(ret)\n",
    "    "
   ]
  },
  {
   "cell_type": "code",
   "execution_count": 13,
   "metadata": {},
   "outputs": [],
   "source": [
    "result_df = pd.DataFrame(results)"
   ]
  },
  {
   "cell_type": "code",
   "execution_count": 14,
   "metadata": {},
   "outputs": [],
   "source": [
    "parse_data_and_write('/home/itadmin/exp_data/stream/5.18/1/', result_df, name='2', con=1)"
   ]
  },
  {
   "cell_type": "code",
   "execution_count": null,
   "metadata": {},
   "outputs": [],
   "source": []
  },
  {
   "cell_type": "code",
   "execution_count": null,
   "metadata": {},
   "outputs": [],
   "source": []
  },
  {
   "cell_type": "code",
   "execution_count": null,
   "metadata": {},
   "outputs": [],
   "source": []
  },
  {
   "cell_type": "code",
   "execution_count": 18,
   "metadata": {},
   "outputs": [],
   "source": [
    "def run_exp(con=50):\n",
    "    p = Pool(con)\n",
    "    result = p.map(run_function, ['https://j4fohrjqqyhud7giienbqoozxa0jrbyj.lambda-url.us-east-2.on.aws/'] * con)\n",
    "    return result"
   ]
  },
  {
   "cell_type": "code",
   "execution_count": 19,
   "metadata": {},
   "outputs": [
    {
     "name": "stdout",
     "output_type": "stream",
     "text": [
      "CPU times: user 0 ns, sys: 1.74 s, total: 1.74 s\n",
      "Wall time: 21.4 s\n"
     ]
    }
   ],
   "source": [
    "%time result1 = run_exp(con=100)"
   ]
  },
  {
   "cell_type": "code",
   "execution_count": 20,
   "metadata": {},
   "outputs": [
    {
     "name": "stdout",
     "output_type": "stream",
     "text": [
      "CPU times: user 0 ns, sys: 1.73 s, total: 1.73 s\n",
      "Wall time: 20.4 s\n"
     ]
    }
   ],
   "source": [
    "%time result2 = run_exp(con=100)"
   ]
  },
  {
   "cell_type": "code",
   "execution_count": 21,
   "metadata": {},
   "outputs": [
    {
     "name": "stdout",
     "output_type": "stream",
     "text": [
      "CPU times: user 0 ns, sys: 1.86 s, total: 1.86 s\n",
      "Wall time: 20.5 s\n"
     ]
    }
   ],
   "source": [
    "%time result3 = run_exp(con=100)"
   ]
  },
  {
   "cell_type": "code",
   "execution_count": 22,
   "metadata": {},
   "outputs": [
    {
     "name": "stdout",
     "output_type": "stream",
     "text": [
      "CPU times: user 17.6 ms, sys: 1.89 s, total: 1.91 s\n",
      "Wall time: 21.2 s\n"
     ]
    }
   ],
   "source": [
    "%time result4 = run_exp(con=100)"
   ]
  },
  {
   "cell_type": "code",
   "execution_count": 23,
   "metadata": {},
   "outputs": [
    {
     "name": "stdout",
     "output_type": "stream",
     "text": [
      "CPU times: user 144 ms, sys: 1.69 s, total: 1.84 s\n",
      "Wall time: 20 s\n"
     ]
    }
   ],
   "source": [
    "%time result5 = run_exp(con=100)"
   ]
  },
  {
   "cell_type": "code",
   "execution_count": null,
   "metadata": {},
   "outputs": [],
   "source": []
  },
  {
   "cell_type": "code",
   "execution_count": null,
   "metadata": {},
   "outputs": [],
   "source": []
  },
  {
   "cell_type": "code",
   "execution_count": 35,
   "metadata": {},
   "outputs": [],
   "source": [
    "df = pd.DataFrame(result5)"
   ]
  },
  {
   "cell_type": "code",
   "execution_count": null,
   "metadata": {},
   "outputs": [],
   "source": []
  },
  {
   "cell_type": "code",
   "execution_count": 24,
   "metadata": {},
   "outputs": [],
   "source": [
    "def parse_data_and_write(filepath, results, name=None, con=100):\n",
    "    if name is None:\n",
    "        name = str(int(time.time()))\n",
    "#     result = run_exp(con=con)\n",
    "    result_df = pd.DataFrame(results)\n",
    "#     result_df.to_csv('~/stream_metric_100.csv')\n",
    "    result_df.to_csv(filepath + '/stream_raw_{}_{}.csv'.format(con, name))\n",
    "    result_df.sort_values('initializationTime', inplace=True)\n",
    "    assert result_df['endTime'].min() - result_df['initializationTime'].max() > 0, 'not all funcs all at the same time!'\n",
    "    uuid_group = result_df.groupby('uuid')\n",
    "    \n",
    "    assert uuid_group.count().shape[0] == con, 'uuid show duplicates'\n",
    "#     print()\n",
    "    arr = result_df['stream_metric'].to_numpy()\n",
    "    arr = np.stack(arr, axis=0)\n",
    "#     avg_arr = arr[:,:, 0]\n",
    "#     result_df['stream_copy_avg'] = avg_arr[:, 0]\n",
    "#     result_df['stream_scale_avg'] = avg_arr[:, 1]\n",
    "#     result_df['stream_add_avg'] = avg_arr[:, 2]\n",
    "#     result_df['stream_triad_avg'] = avg_arr[:, 3]\n",
    "\n",
    "    result_df['stream_copy_avg'] = np.average(arr[:, :, 0, 0], axis=1)\n",
    "    result_df['stream_scale_avg'] = np.average(arr[:, :, 1, 0], axis=1)\n",
    "    result_df['stream_add_avg'] = np.average(arr[:, :, 2, 0], axis=1)\n",
    "    result_df['stream_triad_avg'] = np.average(arr[:, :, 3, 0], axis=1)\n",
    "    \n",
    "    metric_df = result_df[['uuid', 'stream_copy_avg', 'stream_scale_avg', 'stream_add_avg', 'stream_triad_avg', 'runtime', 'pageFaultsDelta']]\n",
    "    metric_df.to_csv(filepath + '/stream_metric_{}_{}.csv'.format(con, name))"
   ]
  },
  {
   "cell_type": "code",
   "execution_count": 25,
   "metadata": {},
   "outputs": [],
   "source": [
    "parse_data_and_write('/home/itadmin/exp_data/stream/5.18/', result1, name='1')\n",
    "parse_data_and_write('/home/itadmin/exp_data/stream/5.18/', result2, name='2')\n",
    "parse_data_and_write('/home/itadmin/exp_data/stream/5.18/', result3, name='3')\n",
    "parse_data_and_write('/home/itadmin/exp_data/stream/5.18/', result4, name='4')\n",
    "parse_data_and_write('/home/itadmin/exp_data/stream/5.18/', result5, name='5')\n"
   ]
  },
  {
   "cell_type": "code",
   "execution_count": null,
   "metadata": {},
   "outputs": [],
   "source": []
  },
  {
   "cell_type": "code",
   "execution_count": 26,
   "metadata": {},
   "outputs": [
    {
     "name": "stdout",
     "output_type": "stream",
     "text": [
      "CPU times: user 3.94 s, sys: 15.6 s, total: 19.6 s\n",
      "Wall time: 6min 28s\n"
     ]
    }
   ],
   "source": [
    "%%time\n",
    "result_50_con = list()\n",
    "\n",
    "for i in range(16):\n",
    "    tmp_result = run_exp(50)\n",
    "    \n",
    "for i in range(4):\n",
    "    tmp_result = run_exp(50)\n",
    "    result_50_con.append(tmp_result)"
   ]
  },
  {
   "cell_type": "code",
   "execution_count": 27,
   "metadata": {},
   "outputs": [
    {
     "name": "stdout",
     "output_type": "stream",
     "text": [
      "CPU times: user 247 ms, sys: 23.6 ms, total: 271 ms\n",
      "Wall time: 266 ms\n"
     ]
    }
   ],
   "source": [
    "%%time \n",
    "for i in range(4):\n",
    "    parse_data_and_write('/home/itadmin/exp_data/stream/5.18/50', result_50_con[i], name='{}'.format(i), con=50)"
   ]
  },
  {
   "cell_type": "code",
   "execution_count": 28,
   "metadata": {},
   "outputs": [
    {
     "name": "stdout",
     "output_type": "stream",
     "text": [
      "CPU times: user 1.97 s, sys: 7.88 s, total: 9.85 s\n",
      "Wall time: 6min 16s\n"
     ]
    }
   ],
   "source": [
    "%%time\n",
    "result_25_con = list()\n",
    "\n",
    "for i in range(12):\n",
    "    tmp_result = run_exp(25)\n",
    "\n",
    "for i in range(8):\n",
    "    tmp_result = run_exp(25)\n",
    "    result_25_con.append(tmp_result)"
   ]
  },
  {
   "cell_type": "code",
   "execution_count": 29,
   "metadata": {},
   "outputs": [
    {
     "name": "stdout",
     "output_type": "stream",
     "text": [
      "CPU times: user 359 ms, sys: 0 ns, total: 359 ms\n",
      "Wall time: 353 ms\n"
     ]
    }
   ],
   "source": [
    "%%time \n",
    "for i in range(8):\n",
    "    parse_data_and_write('/home/itadmin/exp_data/stream/5.18/25', result_25_con[i], name='{}'.format(i), con=25)"
   ]
  },
  {
   "cell_type": "code",
   "execution_count": 30,
   "metadata": {},
   "outputs": [
    {
     "name": "stdout",
     "output_type": "stream",
     "text": [
      "CPU times: user 649 ms, sys: 3.46 s, total: 4.11 s\n",
      "Wall time: 6min\n"
     ]
    }
   ],
   "source": [
    "%%time\n",
    "result_10_con = list()\n",
    "\n",
    "for i in range(20):\n",
    "    tmp_result = run_exp(10)\n",
    "    result_10_con.append(tmp_result)"
   ]
  },
  {
   "cell_type": "code",
   "execution_count": 31,
   "metadata": {},
   "outputs": [
    {
     "name": "stdout",
     "output_type": "stream",
     "text": [
      "CPU times: user 615 ms, sys: 0 ns, total: 615 ms\n",
      "Wall time: 609 ms\n"
     ]
    }
   ],
   "source": [
    "%%time \n",
    "for i in range(20):\n",
    "    parse_data_and_write('/home/itadmin/exp_data/stream/5.18/10', result_10_con[i], name='{}'.format(i), con=10)"
   ]
  },
  {
   "cell_type": "code",
   "execution_count": null,
   "metadata": {},
   "outputs": [],
   "source": []
  }
 ],
 "metadata": {
  "interpreter": {
   "hash": "31f2aee4e71d21fbe5cf8b01ff0e069b9275f58929596ceb00d14d90e3e16cd6"
  },
  "kernelspec": {
   "display_name": "Python 3 (ipykernel)",
   "language": "python",
   "name": "python3"
  },
  "language_info": {
   "codemirror_mode": {
    "name": "ipython",
    "version": 3
   },
   "file_extension": ".py",
   "mimetype": "text/x-python",
   "name": "python",
   "nbconvert_exporter": "python",
   "pygments_lexer": "ipython3",
   "version": "3.9.7"
  }
 },
 "nbformat": 4,
 "nbformat_minor": 2
}
